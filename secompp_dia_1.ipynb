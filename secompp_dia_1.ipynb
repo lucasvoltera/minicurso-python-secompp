{
  "nbformat": 4,
  "nbformat_minor": 0,
  "metadata": {
    "colab": {
      "provenance": [],
      "toc_visible": true
    },
    "kernelspec": {
      "name": "python3",
      "display_name": "Python 3"
    },
    "language_info": {
      "name": "python"
    }
  },
  "cells": [
    {
      "cell_type": "markdown",
      "source": [
        "# Python\n",
        "\n",
        "Python é uma linguagem de programação de alto nível, interpretada e de propósito geral, criada por Guido van Rossum e lançada pela primeira vez em 1991. Ela se destaca por sua simplicidade, legibilidade e facilidade de aprendizado, o que a torna uma escolha popular para iniciantes em programação, bem como para desenvolvedores experientes em diversos domínios.\n",
        "\n",
        "## Características de Python\n",
        "\n",
        "* Sintaxe Limpa e Simples: Python é conhecido por sua sintaxe limpa e fácil de ler, com um uso extensivo de espaçamento e indentação para definir blocos de código.\n",
        "\n",
        "* Multiplataforma: Python é uma linguagem multiplataforma, o que significa que um código escrito em Python pode ser executado em diferentes sistemas operacionais, como Windows, macOS e Linux.\n",
        "\n",
        "* Comunidade Ativa: Python tem uma comunidade de desenvolvedores ativa, o que resulta em uma ampla gama de bibliotecas e frameworks desenvolvidos pela comunidade para diversos fins.\n",
        "\n",
        "\n",
        "## Aplicações de Python\n",
        "\n",
        "* Desenvolvimento Web: Python é utilizado para criar aplicativos web com frameworks populares como Django e Flask.\n",
        "\n",
        "* Ciência de Dados: Python é amplamente utilizado em ciência de dados e análise de dados, com bibliotecas populares como NumPy, pandas, Matplotlib e SciPy.\n",
        "\n",
        "* Automação de Tarefas: Python é usado para automatizar tarefas repetitivas e processos de rotina.\n",
        "\n",
        "* Inteligência Artificial e Aprendizado de Máquina: Python é uma escolha popular para projetos de IA e aprendizado de máquina, com bibliotecas como TensorFlow e PyTorch.\n",
        "\n",
        "* Desenvolvimento de Jogos: Python é usado para desenvolver jogos, especialmente com bibliotecas como Pygame.\n",
        "\n"
      ],
      "metadata": {
        "id": "BS41-UbkH3m_"
      }
    },
    {
      "cell_type": "markdown",
      "source": [
        "## Variáveis\n",
        "\n",
        "Uma variável é um local na memória do computador onde podemos armazenar um valor. Ela possui um nome (identificador) e pode conter diferentes tipos de dados, como números, texto, listas, etc. Em Python, não precisamos declarar o tipo da variável explicitamente, pois a linguagem é de tipagem dinâmica.\n"
      ],
      "metadata": {
        "id": "Z6PrSO7pcyBH"
      }
    },
    {
      "cell_type": "code",
      "source": [
        "# Definindo uma variável com um número inteiro\n",
        "idade = 30\n",
        "idade: int = 30\n",
        "\n",
        "# Definindo uma variável com um número decimal (float)\n",
        "altura = 1.75\n",
        "altura: float = 1.75\n",
        "\n",
        "# Definindo uma variável com uma string (texto)\n",
        "nome = \"João\"\n",
        "nome: str = 'João'\n",
        "\n",
        "# Definindo uma variável com uma lista\n",
        "numeros = [1, 2, 3, 4, 5]\n",
        "#numeros: list = [1, 2, 3, 4, 5]\n",
        "#list: numeros = [1, 2, 3, 4, 5]"
      ],
      "metadata": {
        "id": "7138jnfY_XFC"
      },
      "execution_count": 16,
      "outputs": []
    },
    {
      "cell_type": "markdown",
      "source": [
        "## Tipos de dados\n",
        "\n",
        "* Números: São representados como inteiros (ex.: 42) ou números de ponto flutuante (ex.: 3.14).\n",
        "* Strings: Sequências de caracteres, como \"Olá, mundo!\".\n",
        "* Listas: Conjunto ordenado de valores, que podem ser de diferentes tipos.\n",
        "* Tuplas: São semelhantes às listas, mas imutáveis, ou seja, não podem ser alteradas após a criação.\n",
        "* Dicionários: Estrutura de dados que armazena pares de chave-valor."
      ],
      "metadata": {
        "id": "W8YspGDjdSQh"
      }
    },
    {
      "cell_type": "code",
      "source": [
        "# Números\n",
        "idade = 30 ## int\n",
        "preco = 49.99 # float\n",
        "\n",
        "# Strings\n",
        "nome = \"Maria\"\n",
        "mensagem = 'Olá, seja bem-vindo!'\n",
        "\n",
        "# Listas\n",
        "numeros = [1, 2, 3, 4, 5]\n",
        "nomes = [\"Ana\", \"João\", \"Pedro\"]\n",
        "nomes_e_numeros = [1, 'Ana', 2, 'João', 3, 'Pedro']\n",
        "\n",
        "# Tuplas\n",
        "coordenadas = (10, 20)\n",
        "\n",
        "# Dicionários\n",
        "pessoa = {\"nome\": \"Carlos\",\n",
        "          \"idade\": 25,\n",
        "          \"cidade\": \"São Paulo\"}\n"
      ],
      "metadata": {
        "id": "46rDMkIaB-bN"
      },
      "execution_count": 17,
      "outputs": []
    },
    {
      "cell_type": "markdown",
      "source": [
        "## Entrada e Saída\n",
        "\n",
        "A função input() é usada para interagir com o usuário e receber dados inseridos pelo teclado. Quando a função é chamada, o programa pausa sua execução e espera que o usuário digite algo e pressione a tecla \"Enter\". A entrada fornecida pelo usuário é retornada como uma string. Se necessário, você pode converter a entrada para outros tipos de dados usando as funções de conversão, como int() para inteiros ou float() para números de ponto flutuante."
      ],
      "metadata": {
        "id": "9KXu35Z1EZPM"
      }
    },
    {
      "cell_type": "code",
      "source": [
        "# Pegar o nome do usuário\n",
        "nome = input(\"Digite seu nome: \")\n",
        "\n",
        "# Pegar a idade do usuário (e converter para um número inteiro)\n",
        "idade = int(input(\"Digite sua idade: \"))\n",
        "\n",
        "# Exibir uma mensagem personalizada com as informações do usuário\n",
        "print(f\"Olá, {nome}! Você tem {idade} anos.\")"
      ],
      "metadata": {
        "id": "4URIPLfXEgyQ",
        "colab": {
          "base_uri": "https://localhost:8080/"
        },
        "outputId": "aeb1643c-5012-4b2b-f840-00c02a5e5aac"
      },
      "execution_count": 18,
      "outputs": [
        {
          "output_type": "stream",
          "name": "stdout",
          "text": [
            "Digite seu nome: lusca\n",
            "Digite sua idade: 20\n",
            "Olá, lusca! Você tem 20 anos.\n"
          ]
        }
      ]
    },
    {
      "cell_type": "markdown",
      "source": [
        "### Cuidados e Considerações\n",
        "\n",
        "* Lembre-se que a função input() sempre retorna uma string. Se você precisar de outro tipo de dado, deverá realizar a conversão explicitamente, como mostrado no exemplo acima.\n",
        "\n",
        "* Ao receber inputs do usuário, é uma boa prática tratar possíveis exceções e validar os dados para evitar erros inesperados."
      ],
      "metadata": {
        "id": "zVxtZY_UEs6i"
      }
    },
    {
      "cell_type": "markdown",
      "source": [
        "## Operadores\n",
        "\n",
        "Operadores são símbolos especiais que realizam operações em variáveis e valores. Existem diferentes tipos de operadores em Python, incluindo:\n",
        "\n",
        "* Operadores Aritméticos: Realizam operações matemáticas.\n",
        "* Operadores de Atribuição: Atribuem valores a variáveis.\n",
        "* Operadores de Comparação: Comparam valores.\n",
        "* Operadores Lógicos: Realizam operações lógicas em valores booleanos.\n",
        "* Operadores de Pertencimento: Verificam se um valor pertence a uma sequência.\n",
        "* Operadores de Identidade: Verificam a identidade de objetos."
      ],
      "metadata": {
        "id": "Amat9rWDdf9K"
      }
    },
    {
      "cell_type": "code",
      "source": [
        "# Operadores Aritméticos\n",
        "a = 10\n",
        "b = 3\n",
        "\n",
        "soma = a + b\n",
        "subtracao = a - b\n",
        "multiplicacao = a * b\n",
        "divisao = a / b\n",
        "resto = a % b\n",
        "potencia = a ** b\n",
        "\n",
        "\n",
        "print(soma)\n",
        "print(subtracao)\n",
        "print(multiplicacao)\n",
        "print(divisao)\n",
        "print(resto)\n",
        "print(potencia)"
      ],
      "metadata": {
        "colab": {
          "base_uri": "https://localhost:8080/"
        },
        "id": "YpXuMCBmQbx0",
        "outputId": "4ca91336-43e9-499b-ed3f-c1b252368690"
      },
      "execution_count": 19,
      "outputs": [
        {
          "output_type": "stream",
          "name": "stdout",
          "text": [
            "13\n",
            "7\n",
            "30\n",
            "3.3333333333333335\n",
            "1\n",
            "1000\n"
          ]
        }
      ]
    },
    {
      "cell_type": "code",
      "source": [
        "# Operadores de Atribuição\n",
        "x = 5\n",
        "x += 2  # é equivalente a: x = x + 2\n",
        "\n",
        "print(x)"
      ],
      "metadata": {
        "id": "_XyHr7m8dxhu",
        "colab": {
          "base_uri": "https://localhost:8080/"
        },
        "outputId": "d370233d-3961-4703-a679-0121da252dad"
      },
      "execution_count": 20,
      "outputs": [
        {
          "output_type": "stream",
          "name": "stdout",
          "text": [
            "7\n"
          ]
        }
      ]
    },
    {
      "cell_type": "code",
      "source": [
        "# Operadores de Comparação\n",
        "valor1 = 10\n",
        "\n",
        "valor2 = 20\n",
        "\n",
        "igual = valor1 == valor2\n",
        "\n",
        "diferente = valor1 != valor2\n",
        "\n",
        "maior = valor1 > valor2\n",
        "\n",
        "menor_ou_igual = valor1 <= valor2\n",
        "\n",
        "maior_ou_igual = valor1 >= valor2\n",
        "\n",
        "print(igual)\n",
        "print(diferente)\n",
        "print(maior)\n",
        "print(menor_ou_igual)\n",
        "print(maior_ou_igual)"
      ],
      "metadata": {
        "id": "4rfIrWSxUe_l",
        "colab": {
          "base_uri": "https://localhost:8080/"
        },
        "outputId": "083196ae-af5c-407b-98c2-50ea7628f498"
      },
      "execution_count": 21,
      "outputs": [
        {
          "output_type": "stream",
          "name": "stdout",
          "text": [
            "False\n",
            "True\n",
            "False\n",
            "True\n",
            "False\n"
          ]
        }
      ]
    },
    {
      "cell_type": "code",
      "source": [
        "# Operadores Lógicos\n",
        "condicao1 = True\n",
        "condicao2 = False\n",
        "resultado_and = condicao1 and condicao2\n",
        "resultado_or = condicao1 or condicao2\n",
        "resultado_not = not condicao1\n",
        "\n",
        "print(resultado_and)\n",
        "print(resultado_or)\n",
        "print(resultado_not)"
      ],
      "metadata": {
        "id": "-W445t4AeA5w",
        "colab": {
          "base_uri": "https://localhost:8080/"
        },
        "outputId": "81ae968a-ce7a-48b1-92d7-2738635c4431"
      },
      "execution_count": 22,
      "outputs": [
        {
          "output_type": "stream",
          "name": "stdout",
          "text": [
            "False\n",
            "True\n",
            "False\n"
          ]
        }
      ]
    },
    {
      "cell_type": "code",
      "source": [
        "# Operadores de Pertencimento\n",
        "lista = [1, 2, 3]\n",
        "resultado_in = 2 in lista\n",
        "\n",
        "print(resultado_in)"
      ],
      "metadata": {
        "id": "3NwbvM66eKE9",
        "colab": {
          "base_uri": "https://localhost:8080/"
        },
        "outputId": "d7a89996-3de2-44bd-948b-8747322c8d06"
      },
      "execution_count": 23,
      "outputs": [
        {
          "output_type": "stream",
          "name": "stdout",
          "text": [
            "True\n"
          ]
        }
      ]
    },
    {
      "cell_type": "code",
      "source": [
        "# Operadores de Identidade\n",
        "x = [1, 2, 3]\n",
        "y = [1, 2, 3]\n",
        "\n",
        "resultado_is = x is y  # False, pois são objetos diferentes na memória\n",
        "\n",
        "print(resultado_is)"
      ],
      "metadata": {
        "id": "jca9snN6ePzY",
        "colab": {
          "base_uri": "https://localhost:8080/"
        },
        "outputId": "435fd6e0-a83e-43d4-8251-a98bb1ad6701"
      },
      "execution_count": 24,
      "outputs": [
        {
          "output_type": "stream",
          "name": "stdout",
          "text": [
            "False\n"
          ]
        }
      ]
    },
    {
      "cell_type": "markdown",
      "source": [
        "## Condicionais\n",
        "\n",
        "1. if:\n",
        "O comando \"if\" permite executar um bloco de código se a condição fornecida for verdadeira.\n",
        "\n",
        "2. elif:\n",
        "O comando \"elif\" (abreviação de \"else if\") é usado para testar várias condições, caso a condição do \"if\" seja falsa.\n",
        "\n",
        "3. else:\n",
        "O comando \"else\" é executado quando todas as condições anteriores (if e elif) são falsas."
      ],
      "metadata": {
        "id": "qd1KhGfGeboA"
      }
    },
    {
      "cell_type": "code",
      "source": [
        "idade = 18\n",
        "\n",
        "if idade < 18:\n",
        "    print(\"Você é menor de idade.\")\n",
        "elif idade == 18:\n",
        "    print(\"Você tem exatamente 18 anos.\")\n",
        "else:\n",
        "    print(\"Você é maior de idade.\")\n"
      ],
      "metadata": {
        "id": "XUvfmoHGeTD1",
        "colab": {
          "base_uri": "https://localhost:8080/"
        },
        "outputId": "6a77cc5d-1a27-4376-dffc-5ac244510885"
      },
      "execution_count": 25,
      "outputs": [
        {
          "output_type": "stream",
          "name": "stdout",
          "text": [
            "Você tem exatamente 18 anos.\n"
          ]
        }
      ]
    },
    {
      "cell_type": "markdown",
      "source": [
        "## Tratamento de exceções\n",
        "\n",
        " tratamento de erros e exceções é uma técnica essencial em Python para lidar com situações inesperadas que podem causar falhas no programa. O bloco try-except-finally é usado para capturar e tratar exceções que podem ocorrer durante a execução do código, permitindo que o programa lide com os erros de forma adequada."
      ],
      "metadata": {
        "id": "m8s9FUdiZJZ7"
      }
    },
    {
      "cell_type": "markdown",
      "source": [
        "### Try-Except\n",
        "\n",
        "O bloco try-except é usado para envolver o código que pode gerar exceções. Se uma exceção é lançada dentro do bloco try, o programa irá interromper a execução do bloco try e passar para o bloco except, onde você pode lidar com o erro de forma controlada, sem interromper o programa.\n"
      ],
      "metadata": {
        "id": "fmXhuqEUZVvj"
      }
    },
    {
      "cell_type": "markdown",
      "source": [
        "### Finally\n",
        "\n",
        "O bloco finally é opcional e é usado para executar código que deve ser executado independentemente se ocorreu uma exceção ou não dentro do bloco try."
      ],
      "metadata": {
        "id": "om-QDsmEZY9c"
      }
    },
    {
      "cell_type": "code",
      "source": [
        "def dividir_por_zero(numero, divisor):\n",
        "    try:\n",
        "        resultado = numero / divisor\n",
        "        return resultado\n",
        "    except ZeroDivisionError:\n",
        "        print(\"Erro: Divisão por zero não é permitida.\")\n",
        "    finally:\n",
        "        print(\"Bloco finally sempre será executado.\")\n",
        "\n",
        "# Testando a função com tratamento de erro\n",
        "numero_digitado = int(input(\"Digite um número inteiro: \"))\n",
        "resultado_divisao = dividir_por_zero(numero_digitado, 0)\n",
        "print(f\"Resultado da divisão: {resultado_divisao}\")\n"
      ],
      "metadata": {
        "id": "Kr0-Fb47ZIul"
      },
      "execution_count": null,
      "outputs": []
    },
    {
      "cell_type": "markdown",
      "source": [
        "## Desafio: Jogo de Adivinhar o Número\n",
        "\n",
        "Objetivo: Neste desafio, você será desafiado a criar um jogo de \"Adivinhe o Número\" em Python. O jogo consiste em um programa que escolhe aleatoriamente um número entre 1 e 100, e o jogador deve tentar adivinhar qual é esse número com a menor quantidade de tentativas possível.\n",
        "\n",
        "\n",
        "Instruções:\n",
        "1. Geração do Número Secreto:\n",
        "\n",
        "Você pode usar a biblioteca random para gerar um número aleatório entre 1 e 100. Isso pode ser feito com a função randint(1, 100).\n",
        "\n",
        "```\n",
        "import random\n",
        "\n",
        "numero_secreto = random.randint(1, 100)\n",
        "\n",
        "```\n",
        "\n",
        "2. Interatividade com o Usuário:\n",
        "\n",
        "Use a função input() para obter a suposição do usuário. Certifique-se de que a entrada seja um número inteiro. Você pode usar um bloco try-except para lidar com entradas inválidas.\n",
        "\n",
        "```\n",
        "while True:\n",
        "    suposicao = input(\"Digite sua suposição: \")\n",
        "    \n",
        "    try:\n",
        "        suposicao = int(suposicao)\n",
        "    except ValueError:\n",
        "        print(\"Por favor, insira um número inteiro válido.\")\n",
        "        continue\n",
        "```\n",
        "\n",
        "\n",
        "3. Dicas para o Jogador:\n",
        "\n",
        "Forneça ao jogador dicas sobre se a suposição está muito alta ou muito baixa em relação ao número secreto. Isso ajuda o jogador a ajustar suas suposições.\n",
        "\n",
        "```\n",
        "    if suposicao == numero_secreto:\n",
        "        print(f\"Parabéns! Você acertou o número em {tentativas} tentativas.\")\n",
        "        break\n",
        "    elif suposicao < numero_secreto:\n",
        "        print(\"Tente um número maior.\")\n",
        "    else:\n",
        "        print(\"Tente um número menor.\")\n",
        "```\n",
        "\n",
        "4. Contagem de Tentativas:\n",
        "\n",
        "Mantenha uma contagem de quantas vezes o jogador tentou adivinhar o número. Isso será útil para avaliar o desempenho do jogador ao final do jogo.\n",
        "\n",
        "\n",
        "5. Fim do Jogo:\n",
        "\n",
        "O jogo deve continuar até o jogador adivinhar corretamente o número secreto. Quando isso acontecer, exiba uma mensagem de parabéns e informe ao jogador quantas tentativas foram necessárias.\n",
        "\n",
        "\n",
        "Inputs e Outputs Esperados:\n",
        "\n",
        "* O jogador insere uma suposição como entrada.\n",
        "* O jogo fornece dicas sobre a suposição do jogador.\n",
        "* O jogo continua até o jogador adivinhar o número secreto.\n",
        "Quando o jogador acerta, o jogo exibe uma mensagem de parabéns e informa quantas tentativas foram necessárias.\n",
        "* O jogo encerra.\n",
        "\n",
        "\n",
        "Dica: Você pode usar um loop while para controlar a repetição do jogo até que o jogador adivinhe corretamente o número.\n",
        "\n"
      ],
      "metadata": {
        "id": "usuCFYclZa4F"
      }
    },
    {
      "cell_type": "code",
      "source": [
        "import random\n",
        "\n",
        "# Gerar um número aleatório entre 1 e 100\n",
        "numero_secreto = random.randint(1, 100)\n",
        "\n",
        "# Inicializar o contador de tentativas\n",
        "tentativas = 0\n",
        "\n",
        "print(\"Bem-vindo ao jogo 'Adivinhe o Número'!\")\n",
        "print(\"Tente adivinhar o número entre 1 e 100.\")\n",
        "\n",
        "while True:\n",
        "    # Solicitar uma suposição do usuário\n",
        "    suposicao = input(\"Digite sua suposição: \")\n",
        "\n",
        "    # Certificar-se de que a entrada é um número inteiro\n",
        "    try:\n",
        "        suposicao = int(suposicao)\n",
        "    except ValueError:\n",
        "        print(\"Por favor, insira um número inteiro válido.\")\n",
        "        continue\n",
        "\n",
        "    # Incrementar o contador de tentativas\n",
        "    tentativas += 1\n",
        "\n",
        "    # Verificar se a suposição está correta\n",
        "    if suposicao == numero_secreto:\n",
        "        print(f\"Parabéns! Você acertou o número em {tentativas} tentativas.\")\n",
        "        break\n",
        "    elif suposicao < numero_secreto:\n",
        "        print(\"Tente um número maior.\")\n",
        "    else:\n",
        "        print(\"Tente um número menor.\")"
      ],
      "metadata": {
        "colab": {
          "base_uri": "https://localhost:8080/"
        },
        "id": "BRNYU_0UZaZA",
        "outputId": "0b31a45d-bbd9-44a8-e36a-338139fc1cae"
      },
      "execution_count": 84,
      "outputs": [
        {
          "output_type": "stream",
          "name": "stdout",
          "text": [
            "Bem-vindo ao jogo 'Adivinhe o Número'!\n",
            "Tente adivinhar o número entre 1 e 100.\n",
            "Digite sua suposição: 5\n",
            "Tente um número menor.\n",
            "Digite sua suposição: 4\n",
            "Parabéns! Você acertou o número em 2 tentativas.\n"
          ]
        }
      ]
    },
    {
      "cell_type": "markdown",
      "source": [
        "## Loops\n",
        "\n",
        "Os loops são usados para repetir um bloco de código várias vezes até que uma determinada condição seja atendida. Em Python, temos dois tipos principais de loops:\n",
        "\n",
        "1. for:\n",
        "O loop \"for\" é usado quando sabemos exatamente quantas vezes queremos repetir o bloco de código. Ele pode ser usado com sequências, como listas, strings, tuplas, etc.\n",
        "\n",
        "2. while:\n",
        "O loop \"while\" é usado quando queremos repetir o bloco de código enquanto uma determinada condição for verdadeira. Ele pode ser usado quando não sabemos quantas vezes o loop será executado."
      ],
      "metadata": {
        "id": "M7h4G_jMeuSU"
      }
    },
    {
      "cell_type": "code",
      "source": [
        "# Loop while para imprimir os números de 1 a 5\n",
        "i = 1\n",
        "while i <= 5:\n",
        "    print(i)\n",
        "    i += 1"
      ],
      "metadata": {
        "id": "eWr57TcegOIL",
        "colab": {
          "base_uri": "https://localhost:8080/"
        },
        "outputId": "b6b20bc9-a594-4931-b072-5e1e220f6805"
      },
      "execution_count": 26,
      "outputs": [
        {
          "output_type": "stream",
          "name": "stdout",
          "text": [
            "1\n",
            "2\n",
            "3\n",
            "4\n",
            "5\n"
          ]
        }
      ]
    },
    {
      "cell_type": "markdown",
      "source": [
        "### A função range()\n",
        "\n",
        "A função range() é uma função embutida em Python que gera uma sequência de números. Ela é comumente usada em conjunto com o loop \"for\" para controlar o número de iterações.\n",
        "\n",
        "A sintaxe básica da função range() é a seguinte:\n",
        "\n",
        "\"\"\"\n",
        "range(start, stop, step)\n",
        "\"\"\"\n",
        "\n",
        "onde:\n",
        "\n",
        "start: é o valor inicial da sequência (inclusivo).\n",
        "stop: é o valor final da sequência (exclusivo).\n",
        "step: é o valor do incremento entre os números (opcional, padrão é 1).\n",
        "\n"
      ],
      "metadata": {
        "id": "HlR6np34fftQ"
      }
    },
    {
      "cell_type": "code",
      "source": [
        "# Loop for para imprimir os números de 1 a 5\n",
        "for i in range(1, 6):\n",
        "    print(i)\n"
      ],
      "metadata": {
        "id": "1sPsXyMWesAj",
        "colab": {
          "base_uri": "https://localhost:8080/"
        },
        "outputId": "14622bf1-de0f-4fb8-c873-aa638361fbd2"
      },
      "execution_count": 27,
      "outputs": [
        {
          "output_type": "stream",
          "name": "stdout",
          "text": [
            "1\n",
            "2\n",
            "3\n",
            "4\n",
            "5\n"
          ]
        }
      ]
    },
    {
      "cell_type": "code",
      "source": [
        "# Loop for usando range para imprimir os números de 1 a 10, pulando de 2 em 2\n",
        "for i in range(1, 11, 2):\n",
        "    print(i)"
      ],
      "metadata": {
        "id": "XdokJk80f3TH",
        "colab": {
          "base_uri": "https://localhost:8080/"
        },
        "outputId": "bb0ef9e2-e597-41df-8195-dcea11a6863b"
      },
      "execution_count": 28,
      "outputs": [
        {
          "output_type": "stream",
          "name": "stdout",
          "text": [
            "1\n",
            "3\n",
            "5\n",
            "7\n",
            "9\n"
          ]
        }
      ]
    },
    {
      "cell_type": "markdown",
      "source": [
        "### Outros usos para o loop \"for\"\n",
        "\n",
        "Além de usar o loop \"for\" com a função range(), você também pode usá-lo com outros tipos de sequências, como listas, strings, tuplas, dicionários, e até mesmo com a função enumerate(), que é útil quando você precisa obter o índice e o valor de cada elemento em uma sequência."
      ],
      "metadata": {
        "id": "CTLIMENmf9fh"
      }
    },
    {
      "cell_type": "code",
      "source": [
        "# Loop for com uma lista\n",
        "frutas = [\"maçã\", \"laranja\", \"limão\"]\n",
        "for fruta in frutas:\n",
        "    print(fruta)\n"
      ],
      "metadata": {
        "id": "5jJzSNgzf4Cz",
        "colab": {
          "base_uri": "https://localhost:8080/"
        },
        "outputId": "beb478b0-27cc-41fe-c67d-bca8649c5e2e"
      },
      "execution_count": 29,
      "outputs": [
        {
          "output_type": "stream",
          "name": "stdout",
          "text": [
            "maçã\n",
            "banana\n",
            "laranja\n"
          ]
        }
      ]
    },
    {
      "cell_type": "code",
      "source": [
        "# Loop for com uma string\n",
        "mensagem = \"Olá, mundo!\"\n",
        "for caractere in mensagem:\n",
        "    print(caractere)\n"
      ],
      "metadata": {
        "id": "q_V0n-u7gEqV",
        "colab": {
          "base_uri": "https://localhost:8080/"
        },
        "outputId": "3b30a875-0bbc-4639-b5bd-40c18235f2e2"
      },
      "execution_count": 30,
      "outputs": [
        {
          "output_type": "stream",
          "name": "stdout",
          "text": [
            "O\n",
            "l\n",
            "á\n",
            ",\n",
            " \n",
            "m\n",
            "u\n",
            "n\n",
            "d\n",
            "o\n",
            "!\n"
          ]
        }
      ]
    },
    {
      "cell_type": "code",
      "source": [
        "# Loop for com a função enumerate()\n",
        "frutas = [\"maçã\", \"laranja\", \"limão\"]\n",
        "for indice, fruta in enumerate(frutas):\n",
        "    print(f\"Índice: {indice}, Fruta: {fruta}\")\n"
      ],
      "metadata": {
        "id": "u_bm_W9-gGPL",
        "colab": {
          "base_uri": "https://localhost:8080/"
        },
        "outputId": "0adb9329-9b56-4189-83d4-3e3515f437f1"
      },
      "execution_count": 31,
      "outputs": [
        {
          "output_type": "stream",
          "name": "stdout",
          "text": [
            "Índice: 0, Fruta: maçã\n",
            "Índice: 1, Fruta: banana\n",
            "Índice: 2, Fruta: laranja\n"
          ]
        }
      ]
    },
    {
      "cell_type": "markdown",
      "source": [
        "### Break e Continue\n",
        "\n",
        "\n",
        "Dentro dos loops, temos também os comandos \"break\" e \"continue\":\n",
        "\n",
        "1. break:\n",
        "O comando \"break\" é usado para interromper o loop prematuramente, mesmo que a condição do loop ainda seja verdadeira.\n",
        "\n",
        "2. continue:\n",
        "O comando \"continue\" é usado para pular a iteração atual do loop e continuar para a próxima."
      ],
      "metadata": {
        "id": "hAejd52dgUwu"
      }
    },
    {
      "cell_type": "code",
      "source": [
        "# Usando o break para interromper o loop quando encontrar o valor 4\n",
        "for i in range(1, 6):\n",
        "    if i == 4:\n",
        "        break\n",
        "    print(i)"
      ],
      "metadata": {
        "id": "89lzicwKgJR3",
        "colab": {
          "base_uri": "https://localhost:8080/"
        },
        "outputId": "a1133ada-d254-46d4-c0f3-281ad2ba7b6a"
      },
      "execution_count": 32,
      "outputs": [
        {
          "output_type": "stream",
          "name": "stdout",
          "text": [
            "1\n",
            "2\n",
            "3\n"
          ]
        }
      ]
    },
    {
      "cell_type": "code",
      "source": [
        "# Usando o continue para pular o valor 3 e continuar com o loop\n",
        "for i in range(1, 6):\n",
        "    if i == 4:\n",
        "        continue\n",
        "    print(i)\n"
      ],
      "metadata": {
        "id": "KVIVHHtXgcG0",
        "colab": {
          "base_uri": "https://localhost:8080/"
        },
        "outputId": "b77e0eb7-21ff-4464-b231-43a28391650a"
      },
      "execution_count": 33,
      "outputs": [
        {
          "output_type": "stream",
          "name": "stdout",
          "text": [
            "1\n",
            "2\n",
            "4\n",
            "5\n"
          ]
        }
      ]
    },
    {
      "cell_type": "markdown",
      "source": [
        "## Funções\n",
        "\n",
        "Funções são blocos de código que podem ser chamados para realizar uma tarefa específica. Elas ajudam a organizar o código em partes menores e reutilizáveis, tornando o programa mais modular e fácil de manter. Em Python, você pode criar suas próprias funções usando a palavra-chave def.\n"
      ],
      "metadata": {
        "id": "-wvPob8dgxab"
      }
    },
    {
      "cell_type": "code",
      "source": [
        "def saudacao(nome):\n",
        "    return f\"Olá, {nome}! Seja bem-vindo(a).\"\n",
        "\n",
        "mensagem = saudacao(\"João\")\n",
        "print(mensagem)  # Saída: \"Olá, João! Seja bem-vindo(a).\""
      ],
      "metadata": {
        "id": "Wl16PT8ggeN-",
        "colab": {
          "base_uri": "https://localhost:8080/"
        },
        "outputId": "59597330-c9fd-47c9-92d1-4a178a3e769b"
      },
      "execution_count": 34,
      "outputs": [
        {
          "output_type": "stream",
          "name": "stdout",
          "text": [
            "Olá, João! Seja bem-vindo(a).\n"
          ]
        }
      ]
    },
    {
      "cell_type": "markdown",
      "source": [
        "### Funções com múltiplos parâmetros\n",
        "\n",
        "As funções em Python podem ter mais de um parâmetro. Isso permite que você passe várias informações para a função e a utilize de maneira mais flexível.\n"
      ],
      "metadata": {
        "id": "jRSEZ8TEjKsf"
      }
    },
    {
      "cell_type": "code",
      "source": [
        "def calcular_media(nota1, nota2, nota3):\n",
        "    media = (nota1 + nota2 + nota3) / 3\n",
        "    return media\n",
        "\n",
        "# Chamando a função com três notas e armazenando o resultado\n",
        "media_aluno = calcular_media(7.5, 8.0, 6.5)\n",
        "print(f\"A média do aluno é: {media_aluno:.2f}\")  # Saída: \"A média do aluno é: 7.33\""
      ],
      "metadata": {
        "id": "VRt0zrzMjGVq",
        "colab": {
          "base_uri": "https://localhost:8080/"
        },
        "outputId": "423c4813-55a6-4e16-d62a-c56e2187da3e"
      },
      "execution_count": 35,
      "outputs": [
        {
          "output_type": "stream",
          "name": "stdout",
          "text": [
            "A média do aluno é: 7.33\n"
          ]
        }
      ]
    },
    {
      "cell_type": "markdown",
      "source": [
        "### Funções com valor padrão (default)\n",
        "\n",
        "Você pode definir um valor padrão para os parâmetros de uma função. Se um valor não for passado ao chamar a função, o valor padrão será usado."
      ],
      "metadata": {
        "id": "N06lTcXdjR7x"
      }
    },
    {
      "cell_type": "code",
      "source": [
        "def saudar(nome=\"usuário\"):\n",
        "    return f\"Olá, {nome}! Seja bem-vindo(a).\"\n",
        "\n",
        "mensagem_padrao = saudar()\n",
        "mensagem_personalizada = saudar(\"Alice\")\n",
        "\n",
        "print(mensagem_padrao)  # Saída: \"Olá, usuário! Seja bem-vindo(a).\"\n",
        "print(mensagem_personalizada)  # Saída: \"Olá, Alice! Seja bem-vindo(a).\""
      ],
      "metadata": {
        "id": "29DaKM_XjIPx",
        "colab": {
          "base_uri": "https://localhost:8080/"
        },
        "outputId": "6d498ed7-6f09-49b4-d8d3-84e73936038f"
      },
      "execution_count": 36,
      "outputs": [
        {
          "output_type": "stream",
          "name": "stdout",
          "text": [
            "Olá, usuário! Seja bem-vindo(a).\n",
            "Olá, Alice! Seja bem-vindo(a).\n"
          ]
        }
      ]
    },
    {
      "cell_type": "markdown",
      "source": [
        "### Funções com retorno múltiplo\n",
        "\n",
        "Em Python, você pode retornar vários valores de uma função separando-os com vírgulas. Isso é útil quando você deseja retornar mais de uma informação a partir da função."
      ],
      "metadata": {
        "id": "ClzGi0PrjXd3"
      }
    },
    {
      "cell_type": "code",
      "source": [
        "def calcular_medidas(largura, altura):\n",
        "    area = largura * altura\n",
        "    perimetro = 2 * (largura + altura)\n",
        "    return area, perimetro\n",
        "\n",
        "area_retangulo, perimetro_retangulo = calcular_medidas(4, 6)\n",
        "print(f\"A área do retângulo é: {area_retangulo}\")\n",
        "print(f\"O perímetro do retângulo é: {perimetro_retangulo}\")\n"
      ],
      "metadata": {
        "id": "xMqTkhCRjYiX",
        "colab": {
          "base_uri": "https://localhost:8080/"
        },
        "outputId": "2908f9d3-0fb5-42c1-ea87-546d826d9346"
      },
      "execution_count": 37,
      "outputs": [
        {
          "output_type": "stream",
          "name": "stdout",
          "text": [
            "A área do retângulo é: 24\n",
            "O perímetro do retângulo é: 20\n"
          ]
        }
      ]
    },
    {
      "cell_type": "markdown",
      "source": [
        "### Funções Recursivas\n",
        "\n",
        "Uma função recursiva é uma função que chama a si mesma para resolver um problema. É uma técnica poderosa para resolver problemas que podem ser divididos em subproblemas menores."
      ],
      "metadata": {
        "id": "PK-wpXGIjqQ9"
      }
    },
    {
      "cell_type": "code",
      "source": [
        "def fatorial(n):\n",
        "    if n == 0:\n",
        "        return 1\n",
        "    else:\n",
        "        return n * fatorial(n-1)\n",
        "\n",
        "numero = 5\n",
        "resultado_fatorial = fatorial(numero)\n",
        "print(f\"O fatorial de {numero} é: {resultado_fatorial}\")  # Saída: \"O fatorial de 5 é: 120\"\n"
      ],
      "metadata": {
        "id": "fj6eLMODjspA",
        "colab": {
          "base_uri": "https://localhost:8080/"
        },
        "outputId": "ee595724-bc41-4f83-8e10-e021d175a97a"
      },
      "execution_count": 38,
      "outputs": [
        {
          "output_type": "stream",
          "name": "stdout",
          "text": [
            "O fatorial de 5 é: 120\n"
          ]
        }
      ]
    },
    {
      "cell_type": "markdown",
      "source": [
        "### Funções Lambda\n",
        "\n",
        "As funções lambda são funções anônimas de uma única expressão. Elas são úteis para criar pequenas funções em linha."
      ],
      "metadata": {
        "id": "NueicYFjjx6i"
      }
    },
    {
      "cell_type": "code",
      "source": [
        "# Função lambda para calcular o quadrado de um número\n",
        "quadrado = lambda x: x ** 2\n",
        "\n",
        "resultado = quadrado(5)\n",
        "print(resultado)  # Saída: 25"
      ],
      "metadata": {
        "id": "Kt716kcmj0mG",
        "colab": {
          "base_uri": "https://localhost:8080/"
        },
        "outputId": "c0f67da7-ac1e-4981-8b4a-246371b2a66a"
      },
      "execution_count": 39,
      "outputs": [
        {
          "output_type": "stream",
          "name": "stdout",
          "text": [
            "25\n"
          ]
        }
      ]
    },
    {
      "cell_type": "markdown",
      "source": [
        "### Funções como parâmetros de outras funções\n",
        "\n",
        "Em Python, é possível passar uma função como argumento para outra função. Isso é conhecido como funções de ordem superior."
      ],
      "metadata": {
        "id": "Y5W0FLWej3Ta"
      }
    },
    {
      "cell_type": "code",
      "source": [
        "def aplicar_funcao(funcao, numero):\n",
        "    return funcao(numero)\n",
        "\n",
        "def quadrado(x):\n",
        "    return x ** 2\n",
        "\n",
        "def cubo(x):\n",
        "    return x ** 3\n",
        "\n",
        "numero = 5\n",
        "\n",
        "resultado_quadrado = aplicar_funcao(quadrado, numero)\n",
        "print(f\"O quadrado de {numero} é: {resultado_quadrado}\")  # Saída: \"O quadrado de 5 é: 25\"\n",
        "\n",
        "resultado_cubo = aplicar_funcao(cubo, numero)\n",
        "print(f\"O cubo de {numero} é: {resultado_cubo}\")  # Saída: \"O cubo de 5 é: 125\""
      ],
      "metadata": {
        "id": "MdsEGWR-j8L3",
        "colab": {
          "base_uri": "https://localhost:8080/"
        },
        "outputId": "cf79c7b5-0b2c-4fd6-dfa6-1ee89dc341b3"
      },
      "execution_count": 40,
      "outputs": [
        {
          "output_type": "stream",
          "name": "stdout",
          "text": [
            "O quadrado de 5 é: 25\n",
            "O cubo de 5 é: 125\n"
          ]
        }
      ]
    },
    {
      "cell_type": "markdown",
      "source": [
        "## Escopos de variáveis\n",
        "\n",
        "Em Python, o escopo de uma variável refere-se ao local onde a variável é acessível e visível. Existem dois tipos principais de escopos em Python:\n",
        "\n",
        "1. Escopo Local: Variáveis definidas dentro de uma função são consideradas locais e só podem ser acessadas dentro dessa função.\n",
        "\n",
        "2. Escopo Global: Variáveis definidas fora de qualquer função ou bloco de código são consideradas globais e podem ser acessadas de qualquer lugar do programa."
      ],
      "metadata": {
        "id": "oZ52_Hm2iDvB"
      }
    },
    {
      "cell_type": "code",
      "source": [
        "# Variável global\n",
        "mensagem_global = \"Eu sou global!\"\n",
        "\n",
        "def exibir_mensagem():\n",
        "    # Variável local\n",
        "    mensagem_local = \"Eu sou local!\"\n",
        "    print(mensagem_local)\n",
        "    print(mensagem_global)\n",
        "\n",
        "exibir_mensagem()  # Saída: \"Eu sou local!\" e \"Eu sou global!\"\n",
        "print(mensagem_global)  # Saída: \"Eu sou global!\"\n",
        "#print(mensagem_local)   # Isso resultará em um erro, pois mensagem_local é uma variável local e não é acessível aqui.\n"
      ],
      "metadata": {
        "id": "kgDR33xMh-bh",
        "colab": {
          "base_uri": "https://localhost:8080/"
        },
        "outputId": "4912c303-8add-4700-a04a-b0e34f0caf9a"
      },
      "execution_count": 41,
      "outputs": [
        {
          "output_type": "stream",
          "name": "stdout",
          "text": [
            "Eu sou local!\n",
            "Eu sou global!\n",
            "Eu sou global!\n"
          ]
        }
      ]
    },
    {
      "cell_type": "code",
      "source": [
        "def funcao_externa():\n",
        "    mensagem_externa = \"Eu sou externa!\"\n",
        "\n",
        "    def funcao_interna():\n",
        "        mensagem_interna = \"Eu sou interna!\"\n",
        "        print(mensagem_interna)\n",
        "        print(mensagem_externa)\n",
        "\n",
        "    funcao_interna()  # Saída: \"Eu sou interna!\" e \"Eu sou externa!\"\n",
        "    print(mensagem_externa)  # Saída: \"Eu sou externa!\"\n",
        "    # print(mensagem_interna)  # Isso resultará em um erro, pois mensagem_interna é uma variável local da função_interna.\n",
        "\n",
        "funcao_externa()\n"
      ],
      "metadata": {
        "id": "Q-sqQVEAiU11",
        "colab": {
          "base_uri": "https://localhost:8080/"
        },
        "outputId": "364ae67a-ecc0-464e-f47b-d822e6c3aa7d"
      },
      "execution_count": 42,
      "outputs": [
        {
          "output_type": "stream",
          "name": "stdout",
          "text": [
            "Eu sou interna!\n",
            "Eu sou externa!\n",
            "Eu sou externa!\n"
          ]
        }
      ]
    },
    {
      "cell_type": "markdown",
      "source": [
        "## Importar Modulos\n",
        "\n",
        "Em Python, o mecanismo de importação é usado para acessar e usar código contido em outros módulos ou pacotes. Os imports permitem a reutilização de código, evitando a duplicação de esforços e promovendo a modularidade em seus projetos. Algumas formas de importar as coisas consiste em:\n",
        "\n",
        "* import\n",
        "* from import\n",
        "* import as\n",
        "* import *"
      ],
      "metadata": {
        "id": "yLJDhYU0I8IE"
      }
    },
    {
      "cell_type": "code",
      "source": [
        "import random\n",
        "\n",
        "# Gerando um número inteiro aleatório entre 1 e 10\n",
        "numero_aleatorio = random.randint(1, 10)\n",
        "print(\"Número aleatório:\", numero_aleatorio)\n",
        "\n",
        "# Escolhendo um elemento aleatório de uma lista\n",
        "lista = ['maçã', 'limão', 'laranja', 'uva']\n",
        "fruta_aleatoria = random.choice(lista)\n",
        "print(\"Fruta aleatória:\", fruta_aleatoria)\n"
      ],
      "metadata": {
        "id": "n18ah633JbuN",
        "colab": {
          "base_uri": "https://localhost:8080/"
        },
        "outputId": "9f6b8b6e-6939-4dac-ac9d-5708474051b0"
      },
      "execution_count": 43,
      "outputs": [
        {
          "output_type": "stream",
          "name": "stdout",
          "text": [
            "Número aleatório: 8\n",
            "Fruta aleatória: laranja\n"
          ]
        }
      ]
    },
    {
      "cell_type": "code",
      "source": [
        "from math import sqrt\n",
        "\n",
        "raiz_quadrada = sqrt(25)\n",
        "print(raiz_quadrada)"
      ],
      "metadata": {
        "id": "fbf8aEv8KPNy",
        "colab": {
          "base_uri": "https://localhost:8080/"
        },
        "outputId": "68cedbeb-b8de-471f-a49d-fadd248fae12"
      },
      "execution_count": 44,
      "outputs": [
        {
          "output_type": "stream",
          "name": "stdout",
          "text": [
            "5.0\n"
          ]
        }
      ]
    },
    {
      "cell_type": "code",
      "source": [
        "import math as m\n",
        "\n",
        "raiz_quadrada = m.sqrt(25)\n",
        "print(raiz_quadrada)"
      ],
      "metadata": {
        "id": "WkD63qdcKWKN",
        "colab": {
          "base_uri": "https://localhost:8080/"
        },
        "outputId": "c44c8091-2403-42da-93df-f1542d9535db"
      },
      "execution_count": 45,
      "outputs": [
        {
          "output_type": "stream",
          "name": "stdout",
          "text": [
            "5.0\n"
          ]
        }
      ]
    },
    {
      "cell_type": "code",
      "source": [
        "from math import *\n",
        "\n",
        "raiz_quadrada = sqrt(25)\n",
        "print(raiz_quadrada)"
      ],
      "metadata": {
        "id": "IirxCL05KZvl",
        "colab": {
          "base_uri": "https://localhost:8080/"
        },
        "outputId": "41d663f6-1b42-4bdf-edcf-b6c5cf8f8862"
      },
      "execution_count": 46,
      "outputs": [
        {
          "output_type": "stream",
          "name": "stdout",
          "text": [
            "5.0\n"
          ]
        }
      ]
    },
    {
      "cell_type": "code",
      "source": [
        "import math, random\n",
        "\n",
        "raiz_quadrada = math.sqrt(25)\n",
        "numero_aleatorio = random.randint(1, 10)\n",
        "\n",
        "print(raiz_quadrada)\n",
        "print(numero_aleatorio)"
      ],
      "metadata": {
        "id": "y9vkwx7-KqDF",
        "colab": {
          "base_uri": "https://localhost:8080/"
        },
        "outputId": "d4dff07f-f174-4d98-9208-d75b4a95a27a"
      },
      "execution_count": 47,
      "outputs": [
        {
          "output_type": "stream",
          "name": "stdout",
          "text": [
            "5.0\n",
            "3\n"
          ]
        }
      ]
    },
    {
      "cell_type": "markdown",
      "source": [
        "## Listas\n",
        "\n",
        "Em Python, as listas são uma estrutura de dados muito versátil e poderosa que nos permite armazenar uma coleção ordenada de elementos. Listas podem conter elementos de diferentes tipos, como números inteiros, números de ponto flutuante, strings e até outras listas."
      ],
      "metadata": {
        "id": "9PSCp0ZXkRU2"
      }
    },
    {
      "cell_type": "markdown",
      "source": [
        "### Criando uma lista\n",
        "\n",
        "Para criar uma lista em Python, basta usar colchetes [] e separar os elementos por vírgulas."
      ],
      "metadata": {
        "id": "BA1T7TZjkaFL"
      }
    },
    {
      "cell_type": "code",
      "source": [
        "# Criando uma lista com números inteiros\n",
        "numeros = [1, 2, 3, 4, 5]\n",
        "\n",
        "# Criando uma lista com strings\n",
        "frutas = [\"maçã\", \"banana\", \"laranja\"]\n",
        "\n",
        "# Criando uma lista com elementos de tipos diferentes\n",
        "dados = [10, \"Ana\", 3.14, True]"
      ],
      "metadata": {
        "id": "LwsekkchiLzw"
      },
      "execution_count": 48,
      "outputs": []
    },
    {
      "cell_type": "markdown",
      "source": [
        "### Acessando elementos da lista\n",
        "\n",
        "Para acessar um elemento específico da lista, você pode usar o índice do elemento. Os índices em Python começam a partir do zero."
      ],
      "metadata": {
        "id": "l7gZroM4khYQ"
      }
    },
    {
      "cell_type": "code",
      "source": [
        "numeros = [10, 20, 30, 40, 50]\n",
        "\n",
        "primeiro_elemento = numeros[0]   # Primeiro elemento: 10\n",
        "segundo_elemento = numeros[1]    # Segundo elemento: 20\n",
        "ultimo_elemento = numeros[-1]    # Último elemento: 50 (índice negativo representa contagem a partir do final)\n",
        "\n",
        "print(primeiro_elemento)\n",
        "print(segundo_elemento)\n",
        "print(ultimo_elemento)"
      ],
      "metadata": {
        "id": "dCpNjGwEke07",
        "colab": {
          "base_uri": "https://localhost:8080/"
        },
        "outputId": "86facb29-ee85-4b39-c6bc-44429b93886f"
      },
      "execution_count": 49,
      "outputs": [
        {
          "output_type": "stream",
          "name": "stdout",
          "text": [
            "10\n",
            "20\n",
            "50\n"
          ]
        }
      ]
    },
    {
      "cell_type": "markdown",
      "source": [
        "### Operações com listas"
      ],
      "metadata": {
        "id": "GKkmINPpksvy"
      }
    },
    {
      "cell_type": "markdown",
      "source": [
        "#### Adicionar elementos à lista\n",
        "\n",
        "append(): Adiciona um elemento ao final da lista."
      ],
      "metadata": {
        "id": "GTb06QCZk3ij"
      }
    },
    {
      "cell_type": "code",
      "source": [
        "frutas = [\"maçã\", \"limão\", \"laranja\"]\n",
        "\n",
        "frutas.append(\"morango\")  # Adiciona \"morango\" ao final da lista\n",
        "\n",
        "print(frutas)  # Saída: [\"maçã\", \"banana\", \"laranja\", \"morango\"]"
      ],
      "metadata": {
        "id": "Kv9VE32Pkkcd",
        "colab": {
          "base_uri": "https://localhost:8080/"
        },
        "outputId": "a8b10cca-a788-45b0-cc86-f0a7b5668326"
      },
      "execution_count": 50,
      "outputs": [
        {
          "output_type": "stream",
          "name": "stdout",
          "text": [
            "['maçã', 'banana', 'laranja', 'morango']\n"
          ]
        }
      ]
    },
    {
      "cell_type": "markdown",
      "source": [
        "#### Inserir elementos em uma posição específica\n",
        "\n",
        "insert(): Insere um elemento em uma posição específica da lista, deslocando os outros elementos para a direita."
      ],
      "metadata": {
        "id": "fnzbMTyVlCHt"
      }
    },
    {
      "cell_type": "code",
      "source": [
        "frutas = [\"maçã\", \"limão\", \"laranja\"]\n",
        "\n",
        "frutas.insert(1, \"morango\")  # Insere \"morango\" na posição 1\n",
        "\n",
        "print(frutas)  # Saída: [\"maçã\", \"morango\", \"banana\", \"laranja\"]"
      ],
      "metadata": {
        "id": "FGC2pjixk__4",
        "colab": {
          "base_uri": "https://localhost:8080/"
        },
        "outputId": "bdb7dbf1-d433-4552-9faa-8c712f89b9ee"
      },
      "execution_count": 51,
      "outputs": [
        {
          "output_type": "stream",
          "name": "stdout",
          "text": [
            "['maçã', 'morango', 'banana', 'laranja']\n"
          ]
        }
      ]
    },
    {
      "cell_type": "markdown",
      "source": [
        "#### Remover elementos da lista\n",
        "\n",
        "1. remove(): Remove o primeiro elemento com um valor específico da lista.\n",
        "2. pop(): Remove um elemento da lista com base em seu índice (ou o último elemento, se nenhum índice for fornecido).\n"
      ],
      "metadata": {
        "id": "au4dUEqSlIAL"
      }
    },
    {
      "cell_type": "code",
      "source": [
        "frutas = [\"maçã\", \"limão\", \"laranja\"]\n",
        "\n",
        "frutas.remove(\"limão\")  # Remove o elemento \"banana\"\n",
        "\n",
        "frutas.pop(0)  # Remove o elemento na posição 0 (primeiro elemento)\n",
        "\n",
        "print(frutas)  # Saída: [\"laranja\"]"
      ],
      "metadata": {
        "id": "4-3i8xWGlFpr",
        "colab": {
          "base_uri": "https://localhost:8080/"
        },
        "outputId": "e1415370-13b9-4835-972b-e788204488e8"
      },
      "execution_count": 52,
      "outputs": [
        {
          "output_type": "stream",
          "name": "stdout",
          "text": [
            "['laranja']\n"
          ]
        }
      ]
    },
    {
      "cell_type": "markdown",
      "source": [
        "#### Outras operações com listas\n",
        "\n",
        "1. len(): Retorna o tamanho da lista (número de elementos).\n",
        "2. count(): Retorna o número de ocorrências de um elemento na lista.\n"
      ],
      "metadata": {
        "id": "d7LmQqNrlVzq"
      }
    },
    {
      "cell_type": "code",
      "source": [
        "numeros = [1, 2, 3, 2, 4, 2, 5]\n",
        "\n",
        "tamanho_lista = len(numeros)  # Tamanho da lista: 7\n",
        "\n",
        "numero_dois_ocorrencias = numeros.count(2)  # Número de ocorrências do elemento 2: 3\n",
        "\n",
        "print(tamanho_lista)\n",
        "print(numero_dois_ocorrencias)"
      ],
      "metadata": {
        "id": "4SnyTAhwlNG7",
        "colab": {
          "base_uri": "https://localhost:8080/"
        },
        "outputId": "7051227e-142b-44ce-df7d-bbbee796d704"
      },
      "execution_count": 53,
      "outputs": [
        {
          "output_type": "stream",
          "name": "stdout",
          "text": [
            "7\n",
            "3\n"
          ]
        }
      ]
    },
    {
      "cell_type": "markdown",
      "source": [
        "#### Slicing (Fatiamento) de listas\n",
        "\n",
        "É possível obter uma parte específica da lista usando a técnica de slicing. Isso nos permite criar sub-listas."
      ],
      "metadata": {
        "id": "7mQwmeSTliuo"
      }
    },
    {
      "cell_type": "code",
      "source": [
        "numeros = [1, 2, 3, 4, 5, 6, 7, 8, 9, 10]\n",
        "\n",
        "# Obtendo uma sub-lista dos elementos do índice 2 ao 5 (exclusivo)\n",
        "sub_lista = numeros[2:5]  # Saída: [3, 4, 5]\n",
        "\n",
        "# Obtendo uma sub-lista dos elementos do início até o índice 4 (exclusivo)\n",
        "sub_lista_inicio = numeros[:4]  # Saída: [1, 2, 3, 4]\n",
        "\n",
        "# Obtendo uma sub-lista dos elementos do índice 5 até o final\n",
        "sub_lista_fim = numeros[5:]  # Saída: [6, 7, 8, 9, 10]\n",
        "\n",
        "print(sub_lista)\n",
        "print(sub_lista_inicio)\n",
        "print(sub_lista_fim)"
      ],
      "metadata": {
        "id": "rWPGRwpDlgqg",
        "colab": {
          "base_uri": "https://localhost:8080/"
        },
        "outputId": "e1d8b492-a2c2-4a2f-c6a9-5ef42f8f39f9"
      },
      "execution_count": 54,
      "outputs": [
        {
          "output_type": "stream",
          "name": "stdout",
          "text": [
            "[3, 4, 5]\n",
            "[1, 2, 3, 4]\n",
            "[6, 7, 8, 9, 10]\n"
          ]
        }
      ]
    },
    {
      "cell_type": "markdown",
      "source": [
        "### Iterando sobre uma lista\n",
        "\n",
        "Você pode usar loops para percorrer os elementos de uma lista e realizar operações em cada elemento."
      ],
      "metadata": {
        "id": "ASq_5mWol3at"
      }
    },
    {
      "cell_type": "code",
      "source": [
        "frutas = [\"maçã\", \"limão\", \"laranja\"]\n",
        "\n",
        "for fruta in frutas:\n",
        "    print(fruta)"
      ],
      "metadata": {
        "id": "jRb3SAKOly9t",
        "colab": {
          "base_uri": "https://localhost:8080/"
        },
        "outputId": "d57e8e03-a283-47ee-c8d3-06670cd1c2fe"
      },
      "execution_count": 55,
      "outputs": [
        {
          "output_type": "stream",
          "name": "stdout",
          "text": [
            "maçã\n",
            "banana\n",
            "laranja\n"
          ]
        }
      ]
    },
    {
      "cell_type": "code",
      "source": [
        "frutas = [\"maçã\", \"limão\", \"laranja\"]\n",
        "\n",
        "for i in range(len(frutas)):\n",
        "    print(frutas[i])\n"
      ],
      "metadata": {
        "id": "68cOX4_ol-sg",
        "colab": {
          "base_uri": "https://localhost:8080/"
        },
        "outputId": "bfc89f4b-36fe-4914-faf4-c0700dce2dcd"
      },
      "execution_count": 56,
      "outputs": [
        {
          "output_type": "stream",
          "name": "stdout",
          "text": [
            "maçã\n",
            "banana\n",
            "laranja\n"
          ]
        }
      ]
    },
    {
      "cell_type": "markdown",
      "source": [
        "### Listas Aninhadas (Listas de listas)\n",
        "\n"
      ],
      "metadata": {
        "id": "Z5wcgRdMmJ2B"
      }
    },
    {
      "cell_type": "code",
      "source": [
        "'''\n",
        "matriz\n",
        "1 2 3\n",
        "4 5 6\n",
        "7 8 9\n",
        "'''\n",
        "matriz = [[1, 2, 3], [4, 5, 6], [7, 8, 9]]\n",
        "\n",
        "\n",
        "primeira_linha = matriz[0]  # Primeira linha: [1, 2, 3]\n",
        "\n",
        "primeiro_elemento_segunda_linha = matriz[1][0]  # Primeiro elemento da segunda linha: 4\n",
        "\n",
        "print(primeira_linha)\n",
        "print(primeiro_elemento_segunda_linha)"
      ],
      "metadata": {
        "id": "Kwf6IAujl7Jh",
        "colab": {
          "base_uri": "https://localhost:8080/"
        },
        "outputId": "22993989-6ed6-48d8-dc75-a0782cd96211"
      },
      "execution_count": 57,
      "outputs": [
        {
          "output_type": "stream",
          "name": "stdout",
          "text": [
            "[1, 2, 3]\n",
            "4\n"
          ]
        }
      ]
    },
    {
      "cell_type": "markdown",
      "source": [
        "### Mutabilidade\n",
        "\n",
        "As listas em Python são mutáveis, o que significa que você pode modificar seus elementos após a criação."
      ],
      "metadata": {
        "id": "xQL4BQ_zmkiJ"
      }
    },
    {
      "cell_type": "code",
      "source": [
        "frutas = [\"maçã\", \"limão\", \"laranja\"]\n",
        "\n",
        "frutas[1] = \"morango\"  # Substitui \"banana\" por \"morango\"\n",
        "\n",
        "print(frutas)  # Saída: [\"maçã\", \"morango\", \"laranja\"]"
      ],
      "metadata": {
        "id": "Q2Gt5MfpmXWp",
        "colab": {
          "base_uri": "https://localhost:8080/"
        },
        "outputId": "44d6f7d6-5cfd-422e-d2ea-ba401fc12ede"
      },
      "execution_count": 58,
      "outputs": [
        {
          "output_type": "stream",
          "name": "stdout",
          "text": [
            "['maçã', 'morango', 'laranja']\n"
          ]
        }
      ]
    },
    {
      "cell_type": "markdown",
      "source": [
        "### List Comprehension\n",
        "\n",
        "List comprehension é uma construção sintática do Python que nos permite criar listas de forma concisa e legível. Com list comprehension, podemos aplicar uma expressão a cada elemento de uma sequência ou de outra lista, filtrar elementos com base em uma condição e criar uma nova lista com os resultados. Essa técnica é especialmente útil quando queremos transformar ou filtrar os elementos de uma lista existente para criar uma nova lista.\n",
        "\n",
        "\n",
        "* nova_lista = [expressão for elemento in sequência if condição]\n",
        "\n",
        "1. expressão: É a expressão que será aplicada a cada elemento da sequência para criar o elemento correspondente na nova lista.\n",
        "2. elemento: É a variável que representa cada elemento da sequência original durante o loop.\n",
        "3. sequência: É a sequência de elementos (como lista, tupla ou string) sobre a qual a compreensão de lista será aplicada.\n",
        "4. condição (opcional): É uma expressão booleana que permite filtrar os elementos da sequência. Apenas os elementos que atendem à condição são incluídos na nova lista.\n"
      ],
      "metadata": {
        "id": "GyUWz-f1v8z1"
      }
    },
    {
      "cell_type": "code",
      "source": [
        "quadrados = [x ** 2 for x in range(1, 6)]\n",
        "print(quadrados)  # Saída: [1, 4, 9, 16, 25]\n"
      ],
      "metadata": {
        "id": "i3_JuLGEv_d0",
        "colab": {
          "base_uri": "https://localhost:8080/"
        },
        "outputId": "d9da0493-7d6c-47fb-f717-3ffe26c5c2c4"
      },
      "execution_count": 59,
      "outputs": [
        {
          "output_type": "stream",
          "name": "stdout",
          "text": [
            "[1, 4, 9, 16, 25]\n"
          ]
        }
      ]
    },
    {
      "cell_type": "code",
      "source": [
        "numeros = [1, 2, 3, 4, 5]\n",
        "\n",
        "nova_lista = [x if x % 2 == 0 else \"ímpar\" for x in numeros]\n",
        "print(nova_lista)  # Saída: [\"ímpar\", 2, \"ímpar\", 4, \"ímpar\"]\n"
      ],
      "metadata": {
        "id": "HGxftilSwgeW",
        "colab": {
          "base_uri": "https://localhost:8080/"
        },
        "outputId": "1f445488-7cb1-42a7-edb1-6abba0b3f557"
      },
      "execution_count": 60,
      "outputs": [
        {
          "output_type": "stream",
          "name": "stdout",
          "text": [
            "['ímpar', 2, 'ímpar', 4, 'ímpar']\n"
          ]
        }
      ]
    },
    {
      "cell_type": "code",
      "source": [
        "nomes = [\"Maria\", \"João\", \"Pedro\"]\n",
        "\n",
        "nomes_maiusculos = [nome.upper() for nome in nomes]\n",
        "print(nomes_maiusculos)  # Saída: [\"MARIA\", \"JOÃO\", \"PEDRO\"]\n"
      ],
      "metadata": {
        "id": "W-Xf_czUwjcp",
        "colab": {
          "base_uri": "https://localhost:8080/"
        },
        "outputId": "2ce49510-cd41-4f5b-d2f0-47e4d742f965"
      },
      "execution_count": 61,
      "outputs": [
        {
          "output_type": "stream",
          "name": "stdout",
          "text": [
            "['MARIA', 'JOÃO', 'PEDRO']\n"
          ]
        }
      ]
    },
    {
      "cell_type": "code",
      "source": [
        "numeros = [1, 2, 3]\n",
        "letras = ['a', 'b', 'c']\n",
        "\n",
        "## double for\n",
        "combinacoes = [str(numero) + letra for numero in numeros for letra in letras]\n",
        "\n",
        "print(combinacoes) # Saída: ['1a', '1b', '1c', '2a', '2b', '2c', '3a', '3b', '3c']"
      ],
      "metadata": {
        "id": "kjon6g9xwxns",
        "colab": {
          "base_uri": "https://localhost:8080/"
        },
        "outputId": "03184898-182a-4249-d0eb-d0dc1924ba28"
      },
      "execution_count": 62,
      "outputs": [
        {
          "output_type": "stream",
          "name": "stdout",
          "text": [
            "['1a', '1b', '1c', '2a', '2b', '2c', '3a', '3b', '3c']\n"
          ]
        }
      ]
    },
    {
      "cell_type": "markdown",
      "source": [
        "## Tuplas\n",
        "\n",
        "Uma tupla é uma estrutura de dados em Python semelhante a uma lista, mas com uma diferença crucial: ela é imutável, ou seja, uma vez criada, não pode ser alterada. Isso significa que você não pode adicionar, remover ou modificar elementos em uma tupla após a sua criação. As tuplas são usadas para armazenar um conjunto de valores que não devem ser alterados durante a execução do programa"
      ],
      "metadata": {
        "id": "zBxe4B94pBXC"
      }
    },
    {
      "cell_type": "markdown",
      "source": [
        "### Criando uma tupla\n",
        "\n",
        "Para criar uma tupla em Python, você pode usar parênteses () ou, em alguns casos, simplesmente separar os elementos por vírgulas sem utilizar parênteses."
      ],
      "metadata": {
        "id": "Le2esay5pFUv"
      }
    },
    {
      "cell_type": "code",
      "source": [
        "# Criando uma tupla usando parênteses\n",
        "tupla1 = (1, 2, 3, 4, 5)\n",
        "\n",
        "# Criando uma tupla sem parênteses\n",
        "tupla2 = 10, 20, 30\n",
        "\n",
        "# Criando uma tupla com elementos de tipos diferentes\n",
        "tupla3 = (10, \"Ana\", 3.14, True)"
      ],
      "metadata": {
        "id": "RjHOdibBmn09"
      },
      "execution_count": 63,
      "outputs": []
    },
    {
      "cell_type": "markdown",
      "source": [
        "### Acessando elementos da tupla\n",
        "\n",
        "Assim como nas listas, você pode acessar elementos específicos de uma tupla usando índices. Os índices em Python também começam a partir do zero."
      ],
      "metadata": {
        "id": "5p__2de3pS1F"
      }
    },
    {
      "cell_type": "code",
      "source": [
        "tupla = (10, 20, 30, 40, 50)\n",
        "\n",
        "primeiro_elemento = tupla[0]   # Primeiro elemento: 10\n",
        "segundo_elemento = tupla[1]    # Segundo elemento: 20\n",
        "ultimo_elemento = tupla[-1]     # Último elemento: 50 (índice negativo representa contagem a partir do final)\n",
        "\n",
        "print(primeiro_elemento)\n",
        "print(segundo_elemento)\n",
        "print(ultimo_elemento)"
      ],
      "metadata": {
        "id": "Y8yChBwPpAmq",
        "colab": {
          "base_uri": "https://localhost:8080/"
        },
        "outputId": "9466fabd-474f-4bf5-f0d2-9d86cb63f889"
      },
      "execution_count": 64,
      "outputs": [
        {
          "output_type": "stream",
          "name": "stdout",
          "text": [
            "10\n",
            "20\n",
            "50\n"
          ]
        }
      ]
    },
    {
      "cell_type": "markdown",
      "source": [
        "### Diferenças entre listas e tuplas\n",
        "\n",
        "1. Mutabilidade:\n",
        "\n",
        "* Listas: São mutáveis, o que significa que você pode adicionar, remover ou modificar elementos após a criação da lista.\n",
        "* Tuplas: São imutáveis, uma vez criadas, não podem ser alteradas.\n",
        "\n",
        "2. Sintaxe:\n",
        "\n",
        "* Listas: Utilizam colchetes [] para criar e conter os elementos.\n",
        "* Tuplas: Utilizam parênteses () ou apenas separação por vírgulas para criar e conter os elementos.\n"
      ],
      "metadata": {
        "id": "VLAzg1typiiR"
      }
    },
    {
      "cell_type": "code",
      "source": [
        "def coordenadas_ponto():\n",
        "    x = 10\n",
        "    y = 20\n",
        "    return x, y\n",
        "\n",
        "# Retornando uma tupla com as coordenadas de um ponto\n",
        "coordenadas = coordenadas_ponto()\n",
        "print(coordenadas)  # Saída: (10, 20)\n",
        "\n",
        "# Desempacotando a tupla em duas variáveis\n",
        "x, y = coordenadas\n",
        "print(f\"A coordenada x é: {x}, e a coordenada y é: {y}\")  # Saída: \"A coordenada x é: 10, e a coordenada y é: 20\""
      ],
      "metadata": {
        "id": "QzTNKDIXp0nb",
        "colab": {
          "base_uri": "https://localhost:8080/"
        },
        "outputId": "ef43d693-4156-4e8a-c423-9eae11070613"
      },
      "execution_count": 65,
      "outputs": [
        {
          "output_type": "stream",
          "name": "stdout",
          "text": [
            "(10, 20)\n",
            "A coordenada x é: 10, e a coordenada y é: 20\n"
          ]
        }
      ]
    },
    {
      "cell_type": "markdown",
      "source": [
        "### Quando usar listas ou tuplas\n",
        "\n",
        "1. Use listas quando precisar de uma coleção de elementos mutável que pode ser alterada após a criação.\n",
        "\n",
        "2. Use tuplas quando quiser garantir que os elementos não serão modificados após a criação ou quando precisar de uma estrutura de dados mais leve e rápida (tuplas são mais eficientes em termos de espaço e desempenho do que listas)."
      ],
      "metadata": {
        "id": "H0yOVt5gqBWj"
      }
    },
    {
      "cell_type": "markdown",
      "source": [
        "## Dicionários\n",
        "\n",
        "Em Python, os dicionários são uma estrutura de dados que nos permite armazenar informações em pares de chave-valor. Dicionários são úteis para mapear elementos e acessar seus valores de forma eficiente. Cada chave em um dicionário é única e está associada a um valor específico."
      ],
      "metadata": {
        "id": "hnjmyT0cqx-j"
      }
    },
    {
      "cell_type": "markdown",
      "source": [
        "### Criando um dicionário\n",
        "\n",
        "Para criar um dicionário em Python, usamos chaves {} e separamos as chaves e os valores por dois pontos :."
      ],
      "metadata": {
        "id": "r4G_1zVZrg8i"
      }
    },
    {
      "cell_type": "code",
      "source": [
        "# Criando um dicionário com nomes e idades\n",
        "pessoas = {\"João\": 25,\n",
        "           \"Maria\": 30,\n",
        "           \"Pedro\": 22}\n",
        "\n",
        "# Criando um dicionário vazio\n",
        "dados = {}"
      ],
      "metadata": {
        "id": "CqPexZOzqFtE"
      },
      "execution_count": 66,
      "outputs": []
    },
    {
      "cell_type": "markdown",
      "source": [
        "### Acessando elementos do dicionário\n",
        "\n",
        "Para acessar um valor em um dicionário, você pode usar a chave correspondente entre colchetes []."
      ],
      "metadata": {
        "id": "MokS1lpErlRs"
      }
    },
    {
      "cell_type": "code",
      "source": [
        "pessoas = {\"João\": 25, \"Maria\": 30, \"Pedro\": 22}\n",
        "\n",
        "idade_joao = pessoas[\"João\"]\n",
        "print(idade_joao)  # Saída: 25"
      ],
      "metadata": {
        "id": "C8hmV0uxrkJr",
        "colab": {
          "base_uri": "https://localhost:8080/"
        },
        "outputId": "674a2808-37c3-4a39-df2a-9805b84d4133"
      },
      "execution_count": 67,
      "outputs": [
        {
          "output_type": "stream",
          "name": "stdout",
          "text": [
            "25\n"
          ]
        }
      ]
    },
    {
      "cell_type": "markdown",
      "source": [
        "### Adicionando e modificando elementos\n",
        "\n",
        "Você pode adicionar novos pares chave-valor ao dicionário ou modificar o valor associado a uma chave existente.\n"
      ],
      "metadata": {
        "id": "4zfNLtsCrzCp"
      }
    },
    {
      "cell_type": "code",
      "source": [
        "pessoas = {\"João\": 25, \"Maria\": 30}\n",
        "\n",
        "# Adicionando um novo elemento ao dicionário\n",
        "pessoas[\"Pedro\"] = 22\n",
        "\n",
        "# Modificando o valor associado à chave \"Maria\"\n",
        "pessoas[\"Maria\"] = 28\n",
        "\n",
        "print(pessoas)  # Saída: {\"João\": 25, \"Maria\": 28, \"Pedro\": 22}"
      ],
      "metadata": {
        "id": "5aVAI_hnruyh",
        "colab": {
          "base_uri": "https://localhost:8080/"
        },
        "outputId": "30269048-d905-45b0-c66a-53079264f451"
      },
      "execution_count": 68,
      "outputs": [
        {
          "output_type": "stream",
          "name": "stdout",
          "text": [
            "{'João': 25, 'Maria': 28, 'Pedro': 22}\n"
          ]
        }
      ]
    },
    {
      "cell_type": "markdown",
      "source": [
        "### Removendo elementos do dicionário\n",
        "\n",
        "Você pode remover um par chave-valor do dicionário usando o comando del ou o método pop()."
      ],
      "metadata": {
        "id": "seB4Y8Uxr8W7"
      }
    },
    {
      "cell_type": "code",
      "source": [
        "pessoas = {\"João\": 25, \"Maria\": 30, \"Pedro\": 22}\n",
        "\n",
        "# Removendo um elemento usando a chave\n",
        "del pessoas[\"Maria\"]\n",
        "\n",
        "# Removendo um elemento usando o método pop() e obtendo seu valor\n",
        "idade_pedro = pessoas.pop(\"Pedro\")\n",
        "\n",
        "print(pessoas)  # Saída: {\"João\": 25}\n",
        "print(idade_pedro)  # Saída: 22"
      ],
      "metadata": {
        "id": "UpndRwy4r2TB",
        "colab": {
          "base_uri": "https://localhost:8080/"
        },
        "outputId": "7145cd35-07c5-46b1-c0dd-2c906e4bcae5"
      },
      "execution_count": 69,
      "outputs": [
        {
          "output_type": "stream",
          "name": "stdout",
          "text": [
            "{'João': 25}\n",
            "22\n"
          ]
        }
      ]
    },
    {
      "cell_type": "markdown",
      "source": [
        "### Verificando se uma chave está no dicionário\n",
        "\n",
        "Você pode verificar se uma chave específica está presente no dicionário usando o operador in."
      ],
      "metadata": {
        "id": "NTWpQtE2sF-8"
      }
    },
    {
      "cell_type": "code",
      "source": [
        "pessoas = {\"João\": 25, \"Maria\": 30}\n",
        "\n",
        "if \"João\" in pessoas:\n",
        "    print(\"João está no dicionário.\")\n",
        "\n",
        "if \"Carlos\" not in pessoas:\n",
        "    print(\"Carlos não está no dicionário.\")\n"
      ],
      "metadata": {
        "id": "3YsIMCYqsBiO",
        "colab": {
          "base_uri": "https://localhost:8080/"
        },
        "outputId": "4dfdc1fb-af8f-4fe6-e210-82873ced86db"
      },
      "execution_count": 70,
      "outputs": [
        {
          "output_type": "stream",
          "name": "stdout",
          "text": [
            "João está no dicionário.\n",
            "Carlos não está no dicionário.\n"
          ]
        }
      ]
    },
    {
      "cell_type": "markdown",
      "source": [
        "### Iterando sobre um dicionário\n",
        "\n",
        "Você pode usar loops para iterar sobre as chaves, valores ou pares chave-valor do dicionário.\n",
        "\n"
      ],
      "metadata": {
        "id": "ynwqiVkNsMyb"
      }
    },
    {
      "cell_type": "code",
      "source": [
        "pessoas = {\"João\": 25, \"Maria\": 30, \"Pedro\": 22}\n",
        "\n",
        "# Iterando sobre as chaves\n",
        "for chave in pessoas:\n",
        "    print(chave)\n"
      ],
      "metadata": {
        "id": "ltf_TazqsKUz",
        "colab": {
          "base_uri": "https://localhost:8080/"
        },
        "outputId": "94153a7f-8561-40fe-bd6a-6936c4c90518"
      },
      "execution_count": 71,
      "outputs": [
        {
          "output_type": "stream",
          "name": "stdout",
          "text": [
            "João\n",
            "Maria\n",
            "Pedro\n"
          ]
        }
      ]
    },
    {
      "cell_type": "code",
      "source": [
        "# Iterando sobre os valores\n",
        "for valor in pessoas.values():\n",
        "    print(valor)\n"
      ],
      "metadata": {
        "id": "Jg_fMHlLsRXo",
        "colab": {
          "base_uri": "https://localhost:8080/"
        },
        "outputId": "08a6a8af-d319-41ea-db1e-2857b1c19b23"
      },
      "execution_count": 72,
      "outputs": [
        {
          "output_type": "stream",
          "name": "stdout",
          "text": [
            "25\n",
            "30\n",
            "22\n"
          ]
        }
      ]
    },
    {
      "cell_type": "code",
      "source": [
        "# Iterando sobre os pares chave-valor\n",
        "for chave, valor in pessoas.items():\n",
        "    print(f\"{chave} tem {valor} anos.\")\n"
      ],
      "metadata": {
        "id": "BF9n1okesS9X",
        "colab": {
          "base_uri": "https://localhost:8080/"
        },
        "outputId": "0b06b094-9a4d-4fd8-c876-600b604f3869"
      },
      "execution_count": 73,
      "outputs": [
        {
          "output_type": "stream",
          "name": "stdout",
          "text": [
            "João tem 25 anos.\n",
            "Maria tem 30 anos.\n",
            "Pedro tem 22 anos.\n"
          ]
        }
      ]
    },
    {
      "cell_type": "markdown",
      "source": [
        "### Dicionários com tipos de valores diferentes\n",
        "\n",
        "Os valores de um dicionário podem ser de tipos diferentes, incluindo listas, tuplas, outros dicionários e até funções."
      ],
      "metadata": {
        "id": "fZrAvJSFsWKa"
      }
    },
    {
      "cell_type": "code",
      "source": [
        "# Dicionário com tipos diferentes de valores\n",
        "dados = {\n",
        "    \"nome\": \"João\",\n",
        "    \"idade\": 25,\n",
        "    \"notas\": [8, 7, 9],\n",
        "    \"endereco\": {\"rua\": \"Rua A\", \"cidade\": \"São Paulo\"},\n",
        "    \"é_estudante\": True,\n",
        "    \"saudacao\": lambda nome: f\"Olá, {nome}!\"\n",
        "}\n",
        "\n",
        "print(dados[\"nome\"])  # Saída: \"João\"\n",
        "print(dados[\"notas\"])  # Saída: [8, 7, 9]\n",
        "print(dados[\"endereco\"][\"cidade\"])  # Saída: \"São Paulo\"\n",
        "print(dados[\"saudacao\"](\"Maria\"))  # Saída: \"Olá, Maria!\"\n"
      ],
      "metadata": {
        "id": "J0MB8ZqasUAp",
        "colab": {
          "base_uri": "https://localhost:8080/"
        },
        "outputId": "079a320a-d56e-4eef-a68c-076626a9433f"
      },
      "execution_count": 74,
      "outputs": [
        {
          "output_type": "stream",
          "name": "stdout",
          "text": [
            "João\n",
            "[8, 7, 9]\n",
            "São Paulo\n",
            "Olá, Maria!\n"
          ]
        }
      ]
    },
    {
      "cell_type": "markdown",
      "source": [
        "## Desafio: Jogo da Velha\n",
        "\n",
        "Neste desafio, vamos criar uma versão simples do famoso jogo da velha em Python. O jogo da velha é um jogo para dois jogadores, onde o objetivo é formar uma linha reta de três símbolos iguais em um tabuleiro 3x3. Vamos fornecer diretrizes e dicas para criar o jogo do zero.\n",
        "\n",
        "Dicas e Pistas para Implementação:\n",
        "\n",
        "Aqui estão algumas dicas detalhadas e sugestões de código para implementar o jogo da velha em Python:\n",
        "\n",
        "1. Criando o Tabuleiro:\n",
        "\n",
        "* Você pode representar o tabuleiro como uma lista de listas (uma matriz 3x3), onde cada célula é inicializada como vazia (\" \").\n",
        "* Use loops aninhados para criar e exibir o tabuleiro.\n",
        "\n",
        "```\n",
        "tabuleiro = [[\" \" for _ in range(3)] for _ in range(3)]\n",
        "```\n",
        "\n",
        "2. Alternância de Jogadores:\n",
        "\n",
        "* Defina uma variável para controlar qual jogador está jogando, por exemplo, jogador_atual = \"X\".\n",
        "* Use um loop para alternar entre os jogadores a cada jogada. Use uma estrutura condicional para verificar qual jogador está atualmente jogando.\n",
        "\n",
        "```\n",
        "jogador_atual = \"X\"\n",
        "\n",
        "# Alternar jogadores após cada jogada\n",
        "if jogador_atual == \"X\":\n",
        "    jogador_atual = \"O\"\n",
        "else:\n",
        "    jogador_atual = \"X\"\n",
        "\n",
        "```\n",
        "\n",
        "3. Capturando a Jogada do Jogador:\n",
        "\n",
        "* Solicite ao jogador que insira a linha e a coluna onde deseja colocar sua marca (por exemplo, \"linha (0, 1 ou 2): \" e \"coluna (0, 1 ou 2): \").\n",
        "* Certifique-se de verificar se a célula escolhida está vazia antes de permitir que o jogador a preencha. Se não estiver vazia, informe ao jogador para escolher outra célula.\n",
        "\n",
        "```\n",
        "linha = int(input(\"Escolha a linha (0, 1 ou 2): \"))\n",
        "coluna = int(input(\"Escolha a coluna (0, 1 ou 2): \"))\n",
        "```\n",
        "```\n",
        "if tabuleiro[linha][coluna] == \" \":\n",
        "    tabuleiro[linha][coluna] = jogador_atual\n",
        "else:\n",
        "    print(\"Essa posição já está ocupada. Tente novamente.\")\n",
        "\n",
        "```\n",
        "\n",
        "4. Verificação de Vitória:\n",
        "\n",
        "* Crie uma função que verifique se um jogador venceu o jogo. Você precisa verificar todas as condições possíveis de vitória: três em linha (horizontal, vertical e diagonal).\n",
        "* Use loops e estruturas condicionais para verificar as condições de vitória após cada jogada.\n",
        "\n",
        "```\n",
        "def verificar_vitoria(tabuleiro, jogador):\n",
        "    # Verificar linhas\n",
        "    for linha in tabuleiro:\n",
        "        if all(celula == jogador for celula in linha):\n",
        "            return True\n",
        "    \n",
        "    # Verificar colunas\n",
        "    for coluna in range(3):\n",
        "        if all(tabuleiro[linha][coluna] == jogador for linha in range(3)):\n",
        "            return True\n",
        "    \n",
        "    # Verificar diagonais\n",
        "    if all(tabuleiro[i][i] == jogador for i in range(3)) or all(tabuleiro[i][2 - i] == jogador for i in range(3)):\n",
        "        return True\n",
        "    \n",
        "    return False\n",
        "```\n",
        "\n",
        "5. Verificação de Empate:\n",
        "\n",
        "* Após cada jogada, verifique se todas as células do tabuleiro estão preenchidas (ou seja, não estão vazias). Se todas as células estiverem preenchidas e nenhum jogador vencer, declare o jogo como um empate.\n",
        "\n",
        "```\n",
        "def verificar_empate(tabuleiro):\n",
        "    return all(celula != \" \" for linha in tabuleiro for celula in linha)\n",
        "```\n",
        "\n",
        "6. Finalizando o Jogo:\n",
        "\n",
        "* Exiba uma mensagem de vitória ou empate quando o jogo terminar.\n",
        "Pergunte aos jogadores se eles querem jogar novamente e, se sim, redefina o tabuleiro e inicie um novo jogo.\n",
        "\n",
        "```\n",
        "if verificar_vitoria(tabuleiro, jogador_atual):\n",
        "    exibir_tabuleiro(tabuleiro)\n",
        "    print(f\"Parabéns, jogador {jogador_atual}! Você venceu!\")\n",
        "elif verificar_empate(tabuleiro):\n",
        "    exibir_tabuleiro(tabuleiro)\n",
        "    print(\"O jogo empatou!\")\n",
        "```"
      ],
      "metadata": {
        "id": "kMX2ppiicHLu"
      }
    },
    {
      "cell_type": "code",
      "source": [
        "# Função para exibir o tabuleiro\n",
        "def exibir_tabuleiro(tabuleiro):\n",
        "    for linha in tabuleiro:\n",
        "        print(\" | \".join(linha))\n",
        "        print(\"-\" * 9)\n",
        "\n",
        "# Função para verificar se alguém ganhou\n",
        "def verificar_vitoria(tabuleiro, jogador):\n",
        "    # Verificar linhas\n",
        "    for linha in tabuleiro:\n",
        "        if all(celula == jogador for celula in linha):\n",
        "            return True\n",
        "\n",
        "    # Verificar colunas\n",
        "    for coluna in range(3):\n",
        "        if all(tabuleiro[linha][coluna] == jogador for linha in range(3)):\n",
        "            return True\n",
        "\n",
        "    # Verificar diagonais\n",
        "    if all(tabuleiro[i][i] == jogador for i in range(3)) or all(tabuleiro[i][2 - i] == jogador for i in range(3)):\n",
        "        return True\n",
        "\n",
        "    return False\n",
        "\n",
        "# Função principal do jogo\n",
        "def jogo_da_velha():\n",
        "    tabuleiro = [[\" \" for _ in range(3)] for _ in range(3)]\n",
        "    jogador_atual = \"X\"\n",
        "    jogadas = 0\n",
        "\n",
        "    print(\"Bem-vindo ao Jogo da Velha!\")\n",
        "\n",
        "    while True:\n",
        "        exibir_tabuleiro(tabuleiro)\n",
        "        print(f\"Jogador {jogador_atual}, é a sua vez.\")\n",
        "\n",
        "        # Solicitar a linha e a coluna da jogada\n",
        "        linha = int(input(\"Escolha a linha (0, 1 ou 2): \"))\n",
        "        coluna = int(input(\"Escolha a coluna (0, 1 ou 2): \"))\n",
        "\n",
        "        # Verificar se a posição está vazia\n",
        "        if tabuleiro[linha][coluna] == \" \":\n",
        "            tabuleiro[linha][coluna] = jogador_atual\n",
        "            jogadas += 1\n",
        "        else:\n",
        "            print(\"Essa posição já está ocupada. Tente novamente.\")\n",
        "            continue\n",
        "\n",
        "        # Verificar se alguém ganhou\n",
        "        if verificar_vitoria(tabuleiro, jogador_atual):\n",
        "            exibir_tabuleiro(tabuleiro)\n",
        "            print(f\"Parabéns, jogador {jogador_atual}! Você venceu!\")\n",
        "            break\n",
        "\n",
        "        # Verificar empate\n",
        "        if jogadas == 9:\n",
        "            exibir_tabuleiro(tabuleiro)\n",
        "            print(\"O jogo empatou!\")\n",
        "            break\n",
        "\n",
        "        # Alternar jogadores\n",
        "        jogador_atual = \"O\" if jogador_atual == \"X\" else \"X\"\n",
        "\n",
        "# Iniciar o jogo\n",
        "jogo_da_velha()\n"
      ],
      "metadata": {
        "colab": {
          "base_uri": "https://localhost:8080/"
        },
        "id": "pQTnE4THeYs-",
        "outputId": "abc8b5f8-f7c2-442b-fbd3-601e5fe02874"
      },
      "execution_count": 85,
      "outputs": [
        {
          "output_type": "stream",
          "name": "stdout",
          "text": [
            "Bem-vindo ao Jogo da Velha!\n",
            "  |   |  \n",
            "---------\n",
            "  |   |  \n",
            "---------\n",
            "  |   |  \n",
            "---------\n",
            "Jogador X, é a sua vez.\n",
            "Escolha a linha (0, 1 ou 2): 0\n",
            "Escolha a coluna (0, 1 ou 2): 0\n",
            "X |   |  \n",
            "---------\n",
            "  |   |  \n",
            "---------\n",
            "  |   |  \n",
            "---------\n",
            "Jogador O, é a sua vez.\n",
            "Escolha a linha (0, 1 ou 2): 2\n",
            "Escolha a coluna (0, 1 ou 2): 2\n",
            "X |   |  \n",
            "---------\n",
            "  |   |  \n",
            "---------\n",
            "  |   | O\n",
            "---------\n",
            "Jogador X, é a sua vez.\n",
            "Escolha a linha (0, 1 ou 2): 2\n",
            "Escolha a coluna (0, 1 ou 2): 0\n",
            "X |   |  \n",
            "---------\n",
            "  |   |  \n",
            "---------\n",
            "X |   | O\n",
            "---------\n",
            "Jogador O, é a sua vez.\n",
            "Escolha a linha (0, 1 ou 2): 1\n",
            "Escolha a coluna (0, 1 ou 2): 1\n",
            "X |   |  \n",
            "---------\n",
            "  | O |  \n",
            "---------\n",
            "X |   | O\n",
            "---------\n",
            "Jogador X, é a sua vez.\n",
            "Escolha a linha (0, 1 ou 2): 1\n",
            "Escolha a coluna (0, 1 ou 2): 0\n",
            "X |   |  \n",
            "---------\n",
            "X | O |  \n",
            "---------\n",
            "X |   | O\n",
            "---------\n",
            "Parabéns, jogador X! Você venceu!\n"
          ]
        }
      ]
    },
    {
      "cell_type": "markdown",
      "source": [
        "## Manipulação de Arquivos\n",
        "\n",
        "A manipulação de arquivos em Python é uma tarefa comum e importante para ler dados de arquivos existentes, gravar dados em novos arquivos ou modificar arquivos já existentes.\n",
        "\n",
        "No Python, é uma prática comum usar o bloco with ao manipular arquivos. O bloco with garante que o arquivo seja fechado automaticamente após o término das operações, mesmo em caso de exceções durante a execução do código.\n"
      ],
      "metadata": {
        "id": "t6y76RMyCqsl"
      }
    },
    {
      "cell_type": "markdown",
      "source": [
        "### Escrita em Arquivos\n",
        "\n",
        "Para escrever em um arquivo em Python, podemos utilizar a função open() para abrir o arquivo em modo de escrita ('w') e, em seguida, usar métodos para escrever o conteúdo no arquivo."
      ],
      "metadata": {
        "id": "fr4sH59VDGbJ"
      }
    },
    {
      "cell_type": "code",
      "source": [
        "# Abrir o arquivo em modo de escrita ('w')\n",
        "with open('exemplo.txt', 'w') as arquivo:\n",
        "    arquivo.write(\"Este é um novo arquivo em Python.\\n\")\n",
        "    arquivo.write(\"Estamos aprendendo manipulação de arquivos!\\n\")\n"
      ],
      "metadata": {
        "id": "BQ0wBLcYDJn4"
      },
      "execution_count": 75,
      "outputs": []
    },
    {
      "cell_type": "markdown",
      "source": [
        "### Leitura de Arquivos\n",
        "\n",
        "Para ler o conteúdo de um arquivo em Python, podemos utilizar a função open() para abrir o arquivo em modo de leitura ('r') e, em seguida, usar métodos para ler o conteúdo do arquivo.\n",
        "\n"
      ],
      "metadata": {
        "id": "VnwIEovjDAZE"
      }
    },
    {
      "cell_type": "code",
      "source": [
        "# Abrir o arquivo em modo de leitura ('r')\n",
        "with open('exemplo.txt', 'r') as arquivo:\n",
        "    conteudo = arquivo.read()\n",
        "    print(conteudo)\n"
      ],
      "metadata": {
        "id": "e0R8BycCCxNJ",
        "colab": {
          "base_uri": "https://localhost:8080/"
        },
        "outputId": "481aadd9-c1ca-40ff-b5fa-48244b27fceb"
      },
      "execution_count": 76,
      "outputs": [
        {
          "output_type": "stream",
          "name": "stdout",
          "text": [
            "Este é um novo arquivo em Python.\n",
            "Estamos aprendendo manipulação de arquivos!\n",
            "\n"
          ]
        }
      ]
    },
    {
      "cell_type": "markdown",
      "source": [
        "### Anexar Conteúdo a um Arquivo\n",
        "\n",
        "Para adicionar conteúdo a um arquivo existente em Python, podemos utilizar a função open() com o modo de anexar ('a') e, em seguida, usar métodos para escrever o conteúdo no arquivo."
      ],
      "metadata": {
        "id": "bUxq6VZADVa3"
      }
    },
    {
      "cell_type": "code",
      "source": [
        "# Abrir o arquivo em modo de anexar ('a')\n",
        "with open('exemplo.txt', 'a') as arquivo:\n",
        "    arquivo.write(\"Essa linha foi adicionada ao arquivo.\")\n",
        "\n",
        "\n",
        "with open('exemplo.txt', 'r') as arquivo:\n",
        "    conteudo = arquivo.read()\n",
        "    print(conteudo)"
      ],
      "metadata": {
        "id": "IIOZODoBDX8t",
        "colab": {
          "base_uri": "https://localhost:8080/"
        },
        "outputId": "96812cbd-db3f-4b19-f677-80b60f00b7c9"
      },
      "execution_count": 77,
      "outputs": [
        {
          "output_type": "stream",
          "name": "stdout",
          "text": [
            "Este é um novo arquivo em Python.\n",
            "Estamos aprendendo manipulação de arquivos!\n",
            "Essa linha foi adicionada ao arquivo.\n"
          ]
        }
      ]
    },
    {
      "cell_type": "markdown",
      "source": [
        "## Programação Orientada a Objetos (POO)\n",
        "\n",
        "A Programação Orientada a Objetos (POO) é um paradigma de programação que organiza o código em torno de objetos, que são instâncias de classes. Essa abordagem permite modelar problemas do mundo real de forma mais natural e estruturada, tornando o código mais modular, reutilizável e fácil de manter."
      ],
      "metadata": {
        "id": "in_YHAocy3Hm"
      }
    },
    {
      "cell_type": "markdown",
      "source": [
        "### Classes e objetos\n",
        "\n",
        "1. Classes:\n",
        "Uma classe é uma estrutura que define um tipo de objeto, descrevendo suas características (atributos) e comportamentos (métodos). Ela funciona como um \"modelo\" ou \"planta\" para criar objetos. As classes são definidas usando a palavra-chave class seguida pelo nome da classe, que por convenção, deve começar com uma letra maiúscula.\n",
        "\n",
        "2. Objetos:\n",
        "Um objeto é uma instância de uma classe. É uma representação concreta do tipo definido pela classe. Cada objeto criado a partir de uma classe tem seus próprios valores para os atributos da classe. Eles são criados usando a sintaxe nome_da_classe().\n",
        "\n",
        "3. Atributos:\n",
        "Os atributos são características ou propriedades dos objetos, que são armazenadas dentro deles e definem seu estado. São representados por variáveis dentro da classe e podem ter valores diferentes em cada objeto.\n",
        "\n",
        "4. Métodos:\n",
        "Os métodos são as ações ou comportamentos dos objetos, que definem as operações que podem ser realizadas pelos objetos da classe. Eles são funções dentro da classe que atuam sobre os atributos do objeto ou executam tarefas específicas.\n",
        "\n"
      ],
      "metadata": {
        "id": "F65UBcq3zWkD"
      }
    },
    {
      "cell_type": "code",
      "source": [
        "# Definição de uma classe \"Pessoa\"\n",
        "class Pessoa:\n",
        "    def __init__(self, nome, idade):\n",
        "        self.nome = nome\n",
        "        self.idade = idade\n",
        "\n",
        "    def cumprimentar(self):\n",
        "        print(f\"Olá, meu nome é {self.nome} e tenho {self.idade} anos.\")\n",
        "\n",
        "# Criando objetos da classe \"Pessoa\"\n",
        "pessoa1 = Pessoa(\"João\", 30)\n",
        "pessoa2 = Pessoa(\"Maria\", 25)\n",
        "\n",
        "# Chamando o método cumprimentar() nos objetos\n",
        "pessoa1.cumprimentar()  # Saída: \"Olá, meu nome é João e tenho 30 anos.\"\n",
        "pessoa2.cumprimentar()  # Saída: \"Olá, meu nome é Maria e tenho 25 anos.\"\n"
      ],
      "metadata": {
        "id": "fwnyoorFsY99",
        "colab": {
          "base_uri": "https://localhost:8080/"
        },
        "outputId": "afe146f0-f58a-4fb3-e159-9d028fb089aa"
      },
      "execution_count": 79,
      "outputs": [
        {
          "output_type": "stream",
          "name": "stdout",
          "text": [
            "Olá, meu nome é João e tenho 30 anos.\n",
            "Olá, meu nome é Maria e tenho 25 anos.\n"
          ]
        }
      ]
    },
    {
      "cell_type": "markdown",
      "source": [
        "### Herança e Polimorfismo\n",
        "\n",
        "1. Herança é um conceito em POO que permite que uma classe herde os atributos e métodos de outra classe. A classe que é herdada é chamada de classe pai ou superclasse, e a classe que herda é chamada de classe filha ou subclasse.\n",
        "\n",
        "2. O polimorfismo é um conceito relacionado à herança, que permite que objetos de diferentes classes sejam tratados de forma uniforme quando possuem métodos com o mesmo nome."
      ],
      "metadata": {
        "id": "3Vi7USA60ER7"
      }
    },
    {
      "cell_type": "code",
      "source": [
        "# Classe pai \"Animal\"\n",
        "class Animal:\n",
        "    def som(self):\n",
        "        pass\n",
        "\n",
        "# Classes filhas \"Cachorro\" e \"Gato\" herdando de \"Animal\"\n",
        "class Cachorro(Animal):\n",
        "    def som(self):\n",
        "        print(\"O cachorro faz au au!\")\n",
        "\n",
        "class Gato(Animal):\n",
        "    def som(self):\n",
        "        print(\"O gato faz miau!\")\n",
        "\n",
        "# Função que recebe um objeto \"Animal\" e chama o método \"som\"\n",
        "def emitir_som(animal):\n",
        "    animal.som()\n",
        "\n",
        "# Criando objetos das classes filhas e chamando a função \"emitir_som\"\n",
        "cachorro = Cachorro()\n",
        "gato = Gato()\n",
        "\n",
        "emitir_som(cachorro)  # Saída: O cachorro faz au au!\n",
        "emitir_som(gato)      # Saída: O gato faz miau!"
      ],
      "metadata": {
        "id": "ayeBdLU6zpvI",
        "colab": {
          "base_uri": "https://localhost:8080/"
        },
        "outputId": "a39886a9-0e3c-4278-a714-214e3665f3c7"
      },
      "execution_count": 80,
      "outputs": [
        {
          "output_type": "stream",
          "name": "stdout",
          "text": [
            "O cachorro faz au au!\n",
            "O gato faz miau!\n"
          ]
        }
      ]
    },
    {
      "cell_type": "markdown",
      "source": [
        "### Encapsulamento e Métodos Especiais\n",
        "\n",
        "1. Encapsulamento é um conceito que permite restringir o acesso direto aos atributos de uma classe, protegendo-os de modificações não autorizadas. Em Python, isso é feito por meio de convenções, onde os atributos podem ser definidos como públicos, privados ou protegidos.\n",
        "\n",
        "2. Métodos especiais (também conhecidos como \"métodos mágicos\" ou \"dunder methods\") são métodos com nomes especiais em Python que permitem definir comportamentos específicos para as operações padrão, como adição, subtração, representação em string, entre outros.\n",
        "\n"
      ],
      "metadata": {
        "id": "_V2wkfVg0rQg"
      }
    },
    {
      "cell_type": "code",
      "source": [
        "# Definição de uma classe \"Carro\"\n",
        "class Carro:\n",
        "    def __init__(self, marca, modelo):\n",
        "        self.marca = marca\n",
        "        self.modelo = modelo\n",
        "        self.__quilometragem = 0  # Atributo privado\n",
        "\n",
        "    # Método para obter a quilometragem\n",
        "    def obter_quilometragem(self):\n",
        "        return self.__quilometragem\n",
        "\n",
        "    # Método para atualizar a quilometragem\n",
        "    def atualizar_quilometragem(self, valor):\n",
        "        if valor >= self.__quilometragem:\n",
        "            self.__quilometragem = valor\n",
        "        else:\n",
        "            print(\"A quilometragem não pode ser reduzida.\")\n",
        "\n",
        "    # Método especial para representação em string\n",
        "    def __str__(self):\n",
        "        return f\"{self.marca} {self.modelo}\"\n",
        "\n",
        "\n",
        "# Criando um objeto da classe \"Carro\"\n",
        "carro = Carro(\"Toyota\", \"Corolla\")\n",
        "\n",
        "# Obtendo e atualizando a quilometragem (acesso ao atributo privado)\n",
        "print(carro.obter_quilometragem())  # Saída: 0\n",
        "carro.atualizar_quilometragem(10000)\n",
        "print(carro.obter_quilometragem())  # Saída: 10000\n",
        "carro.atualizar_quilometragem(8000)  # Saída: \"A quilometragem não pode ser reduzida.\"\n",
        "\n",
        "# Exibindo a representação em string do objeto\n",
        "print(carro)  # Saída: \"Toyota Corolla\"\n"
      ],
      "metadata": {
        "id": "ODVecyuL0ynH",
        "colab": {
          "base_uri": "https://localhost:8080/"
        },
        "outputId": "63cda9c6-111b-496d-978a-fafb7f8318ff"
      },
      "execution_count": 81,
      "outputs": [
        {
          "output_type": "stream",
          "name": "stdout",
          "text": [
            "0\n",
            "10000\n",
            "A quilometragem não pode ser reduzida.\n",
            "Toyota Corolla\n"
          ]
        }
      ]
    },
    {
      "cell_type": "markdown",
      "source": [
        "## Objetos básicos\n",
        "\n",
        "Em Python, tudo é um objeto, inclusive os tipos de dados básicos, como números, strings, listas e dicionários. Isso significa que, em Python, cada valor que você cria ou manipula é uma instância de um objeto com um tipo específico. Essa característica é uma das principais razões pelas quais Python é conhecido como uma linguagem orientada a objetos.\n",
        "\n",
        "Em uma linguagem orientada a objetos, os objetos são entidades que possuem atributos e comportamentos. No caso de Python, cada tipo de dado é uma classe e cada valor é uma instância dessa classe. Por exemplo, quando você cria uma variável que armazena um número inteiro, você está criando uma instância da classe int. Se você cria uma variável que armazena uma string, você está criando uma instância da classe str.\n",
        "\n",
        "Por trás dos panos, Python gerencia todos esses objetos, fornecendo métodos e funcionalidades específicas para cada tipo de dado.\n"
      ],
      "metadata": {
        "id": "6aOIca1AGIlr"
      }
    },
    {
      "cell_type": "markdown",
      "source": [
        "### Int"
      ],
      "metadata": {
        "id": "PHosRL-xGbOy"
      }
    },
    {
      "cell_type": "code",
      "source": [
        "# Criando uma variável para armazenar um número inteiro\n",
        "numero = 42\n",
        "\n",
        "# Utilizando métodos específicos para números inteiros\n",
        "print(type(numero))  # Saída: <class 'int'>"
      ],
      "metadata": {
        "id": "R2ce0ipe1FTk",
        "colab": {
          "base_uri": "https://localhost:8080/"
        },
        "outputId": "967652b3-7d83-4c28-be12-3a68029ec29d"
      },
      "execution_count": 82,
      "outputs": [
        {
          "output_type": "stream",
          "name": "stdout",
          "text": [
            "<class 'int'>\n",
            "6\n",
            "b'\\x00*'\n"
          ]
        }
      ]
    },
    {
      "cell_type": "markdown",
      "source": [
        "### Str"
      ],
      "metadata": {
        "id": "6nyPlz2uGeS9"
      }
    },
    {
      "cell_type": "code",
      "source": [
        "# Criando uma variável para armazenar uma string\n",
        "frase = \"Olá, mundo!\"\n",
        "\n",
        "print(type(frase))  # Saída: <class 'str'>\n",
        "\n",
        "## len(): Retorna o comprimento da string (número de caracteres).\n",
        "print(len(frase))  # Saída: 11\n",
        "\n",
        "## lower(): Converte todos os caracteres para minúsculas.\n",
        "print(frase.lower())  # Saída: \"olá, mundo!\"\n",
        "\n",
        "## upper(): Converte todos os caracteres para maiúsculas.\n",
        "print(frase.upper())  # Saída: \"OLÁ, MUNDO!\"\n",
        "\n",
        "## strip(): Remove espaços em branco do início e do final da string.\n",
        "print(frase.strip())  # Saída: \"Olá, mundo!\"\n",
        "\n",
        "## replace(): Substitui um caractere ou substring por outro.\n",
        "nova_frase = frase.replace(\"mundo\", \"Python\")\n",
        "print(nova_frase)  # Saída: \"Olá, Python!\"\n",
        "\n",
        "## split(): Divide a string em uma lista de substrings com base em um separador.\n",
        "palavras = frase.split(\", \")\n",
        "print(palavras)  # Saída: ['Olá', 'mundo!']\n",
        "\n",
        "## join(): Concatena elementos de uma lista usando a string como separador.\n",
        "frase = \", \".join(palavras)\n",
        "print(frase)  # Saída: \"Olá, mundo!\"\n",
        "\n",
        "## startswith() e endswith(): Verifica se a string começa ou termina com um determinado prefixo ou sufixo.\n",
        "print(frase.startswith(\"Olá\"))  # Saída: True\n",
        "print(frase.endswith(\"mundo!\"))  # Saída: True\n",
        "\n",
        "## find(): Retorna o índice da primeira ocorrência de uma substring na string (ou -1 se não encontrar).\n",
        "print(frase.find(\"mundo\"))  # Saída: 5\n",
        "\n",
        "## count(): Conta o número de ocorrências de uma substring na string.\n",
        "print(frase.count(\"o\"))  # Saída: 1\n"
      ],
      "metadata": {
        "id": "8tA78rK5GZLi",
        "colab": {
          "base_uri": "https://localhost:8080/"
        },
        "outputId": "8da2aebf-8f17-4d23-917e-93494f26983b"
      },
      "execution_count": 83,
      "outputs": [
        {
          "output_type": "stream",
          "name": "stdout",
          "text": [
            "<class 'str'>\n",
            "11\n",
            "olá, mundo!\n",
            "OLÁ, MUNDO!\n",
            "Olá, mundo!\n",
            "Olá, Python!\n",
            "['Olá', 'mundo!']\n",
            "Olá, mundo!\n",
            "True\n",
            "True\n",
            "5\n",
            "1\n"
          ]
        }
      ]
    },
    {
      "cell_type": "markdown",
      "source": [
        "## Desafio: Jogo de Perguntas e Respostas\n",
        "\n",
        "\n",
        "Objetivo do Jogo:\n",
        "\n",
        "\n",
        "O objetivo deste desafio é criar um jogo de perguntas e respostas em Python usando Programação Orientada a Objetos (POO). Os jogadores devem responder a uma série de perguntas de múltipla escolha e ganhar pontos com base em suas respostas corretas. O objetivo é testar o conhecimento dos jogadores em diversos temas.\n",
        "\n",
        "\n",
        "Dicas e Pistas para Implementação:\n",
        "\n",
        "1. Crie a Classe \"Pergunta\":\n",
        "\n",
        "* Crie uma classe chamada \"Pergunta\" para representar cada pergunta.\n",
        "* A classe deve ter atributos para armazenar a pergunta, as opções de resposta e a resposta correta.\n",
        "* Implemente um método para exibir a pergunta e suas opções.\n",
        "\n",
        "```\n",
        "class Pergunta:\n",
        "    def __init__(self, pergunta, opcoes, resposta):\n",
        "        self.pergunta = pergunta\n",
        "        self.opcoes = opcoes\n",
        "        self.resposta = resposta\n",
        "\n",
        "    def mostrar_pergunta(self):\n",
        "        print(self.pergunta)\n",
        "        for i, opcao in enumerate(self.opcoes):\n",
        "            print(f\"{i + 1}. {opcao}\")\n",
        "```\n",
        "\n",
        "2. Crie a Classe \"JogoPerguntas\":\n",
        "\n",
        "Crie uma classe chamada \"JogoPerguntas\" para gerenciar o jogo.\n",
        "Inicialize a pontuação do jogador como zero.\n",
        "Crie uma lista de instâncias da classe \"Pergunta\" com várias perguntas e respostas.\n",
        "Implemente um método para iniciar o jogo.\n",
        "\n",
        "```\n",
        "\n",
        "class JogoPerguntas:\n",
        "    def __init__(self):\n",
        "        self.pontos = 0\n",
        "        self.perguntas = [\n",
        "            Pergunta(\"Qual é a capital do Brasil?\", [\"São Paulo\", \"Brasília\", \"Rio de Janeiro\"], \"Brasília\"),\n",
        "            Pergunta(\"Qual é o maior planeta do Sistema Solar?\", [\"Terra\", \"Júpiter\", \"Marte\"], \"Júpiter\"),\n",
        "            Pergunta(\"Quem escreveu 'Romeu e Julieta'?\", [\"Charles Dickens\", \"Jane Austen\", \"William Shakespeare\"], \"William Shakespeare\")\n",
        "        ]\n",
        "\n",
        "    def iniciar_jogo(self):\n",
        "        print(\"Bem-vindo ao Jogo de Perguntas e Respostas!\")\n",
        "        for pergunta in self.perguntas:\n",
        "            pergunta.mostrar_pergunta()\n",
        "            escolha = int(input(\"Escolha a opção correta (1, 2 ou 3): \"))\n",
        "            if pergunta.verificar_resposta(escolha):\n",
        "                print(\"Resposta correta!\\n\")\n",
        "                self.pontos += 1\n",
        "            else:\n",
        "                print(\"Resposta incorreta. A resposta correta era:\", pergunta.resposta, \"\\n\")\n",
        "        print(\"Fim do jogo. Você marcou\", self.pontos, \"pontos de um total de\", len(self.perguntas), \"perguntas.\")\n",
        "```\n",
        "\n",
        "\n",
        "3. Exiba Perguntas e Coletar Respostas:\n",
        "\n",
        "* Durante o jogo, exiba uma pergunta por vez e as opções de resposta para o jogador.\n",
        "* Permita que o jogador escolha uma opção de resposta (por exemplo, 1, 2 ou 3) e capture a escolha.\n",
        "Verifique se a resposta está correta e atualize a pontuação do jogador.\n",
        "\n",
        "\n",
        "4. Calcule a Pontuação Final:\n",
        "\n",
        "* Após responder a todas as perguntas, exiba a pontuação final do jogador.\n",
        "Informe quantas respostas corretas ele obteve em relação ao total de perguntas.\n",
        "\n",
        "\n",
        "5. Implemente a Lógica do Jogo:\n",
        "\n",
        "* Utilize estruturas de controle, como loops e condicionais, para garantir que o jogo prossiga de forma adequada.\n",
        "* Mantenha o controle das respostas corretas e incorretas do jogador.\n",
        "* Forneça mensagens de feedback para informar ao jogador se a resposta foi correta ou incorreta.\n",
        "\n",
        "\n",
        "6. Personalize e Expanda (BÔNUS):\n",
        "\n",
        "* Adicione mais perguntas e respostas ao jogo para torná-lo mais desafiador.\n",
        "* Ofereça opções de níveis de dificuldade (fácil, médio, difícil) com perguntas apropriadas.\n",
        "* Melhore a interface do usuário com mensagens de boas-vindas e instruções claras.\n",
        "\n",
        "\n",
        "\n"
      ],
      "metadata": {
        "id": "Ea7qVC0lYmYd"
      }
    },
    {
      "cell_type": "code",
      "source": [
        "import random\n",
        "\n",
        "class Pergunta:\n",
        "    def __init__(self, pergunta: str, opcoes: list, resposta: int):\n",
        "        self.pergunta = pergunta\n",
        "        self.opcoes = opcoes\n",
        "        self.resposta = resposta\n",
        "\n",
        "    def mostrar_pergunta(self):\n",
        "        print(self.pergunta)\n",
        "        for i, opcao in enumerate(self.opcoes):\n",
        "            print(f\"{i + 1}. {opcao}\")\n",
        "\n",
        "    def verificar_resposta(self, escolha):\n",
        "        return self.opcoes[escolha - 1] == self.resposta\n",
        "\n",
        "class JogoPerguntas:\n",
        "    def __init__(self):\n",
        "        self.pontos = 0\n",
        "        self.perguntas = [\n",
        "            Pergunta(\"Qual é a capital do Brasil?\", [\"São Paulo\", \"Brasília\", \"Rio de Janeiro\"], \"Brasília\"),\n",
        "            Pergunta(\"Qual é o maior planeta do Sistema Solar?\", [\"Terra\", \"Júpiter\", \"Marte\"], \"Júpiter\"),\n",
        "            Pergunta(\"Quem escreveu 'Romeu e Julieta'?\", [\"Charles Dickens\", \"Jane Austen\", \"William Shakespeare\"], \"William Shakespeare\")\n",
        "        ]\n",
        "\n",
        "    def iniciar_jogo(self):\n",
        "        print(\"Bem-vindo ao Jogo de Perguntas e Respostas!\")\n",
        "        for pergunta in self.perguntas:\n",
        "            pergunta.mostrar_pergunta()\n",
        "            escolha = int(input(\"Escolha a opção correta (1, 2 ou 3): \"))\n",
        "            if pergunta.verificar_resposta(escolha):\n",
        "                print(\"Resposta correta!\\n\")\n",
        "                self.pontos += 1\n",
        "            else:\n",
        "                print(\"Resposta incorreta. A resposta correta era:\", pergunta.resposta, \"\\n\")\n",
        "        print(\"Fim do jogo. Você marcou\", self.pontos, \"pontos de um total de\", len(self.perguntas), \"perguntas.\")\n",
        "\n",
        "# Iniciar o jogo\n",
        "jogo = JogoPerguntas()\n",
        "jogo.iniciar_jogo()\n"
      ],
      "metadata": {
        "id": "BcV5ulcwGtPj",
        "colab": {
          "base_uri": "https://localhost:8080/"
        },
        "outputId": "acb89ee8-a479-4fcb-cfba-2c01ec7153f7"
      },
      "execution_count": 87,
      "outputs": [
        {
          "output_type": "stream",
          "name": "stdout",
          "text": [
            "Bem-vindo ao Jogo de Perguntas e Respostas!\n",
            "Qual é a capital do Brasil?\n",
            "1. São Paulo\n",
            "2. Brasília\n",
            "3. Rio de Janeiro\n",
            "Escolha a opção correta (1, 2 ou 3): 3\n",
            "Resposta incorreta. A resposta correta era: Brasília \n",
            "\n",
            "Qual é o maior planeta do Sistema Solar?\n",
            "1. Terra\n",
            "2. Júpiter\n",
            "3. Marte\n",
            "Escolha a opção correta (1, 2 ou 3): 2\n",
            "Resposta correta!\n",
            "\n",
            "Quem escreveu 'Romeu e Julieta'?\n",
            "1. Charles Dickens\n",
            "2. Jane Austen\n",
            "3. William Shakespeare\n",
            "Escolha a opção correta (1, 2 ou 3): 1\n",
            "Resposta incorreta. A resposta correta era: William Shakespeare \n",
            "\n",
            "Fim do jogo. Você marcou 1 pontos de um total de 3 perguntas.\n"
          ]
        }
      ]
    },
    {
      "cell_type": "code",
      "source": [],
      "metadata": {
        "id": "Y3jVxHv-vADv"
      },
      "execution_count": null,
      "outputs": []
    }
  ]
}