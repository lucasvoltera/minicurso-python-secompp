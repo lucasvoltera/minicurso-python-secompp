{
  "nbformat": 4,
  "nbformat_minor": 0,
  "metadata": {
    "colab": {
      "provenance": []
    },
    "kernelspec": {
      "name": "python3",
      "display_name": "Python 3"
    },
    "language_info": {
      "name": "python"
    }
  },
  "cells": [
    {
      "cell_type": "markdown",
      "source": [
        "# Python\n",
        "\n",
        "Python é uma linguagem de programação de alto nível, interpretada e de propósito geral, criada por Guido van Rossum e lançada pela primeira vez em 1991. Ela se destaca por sua simplicidade, legibilidade e facilidade de aprendizado, o que a torna uma escolha popular para iniciantes em programação, bem como para desenvolvedores experientes em diversos domínios.\n",
        "\n",
        "## Características de Python\n",
        "\n",
        "* Sintaxe Limpa e Simples: Python é conhecido por sua sintaxe limpa e fácil de ler, com um uso extensivo de espaçamento e indentação para definir blocos de código.\n",
        "\n",
        "* Multiplataforma: Python é uma linguagem multiplataforma, o que significa que um código escrito em Python pode ser executado em diferentes sistemas operacionais, como Windows, macOS e Linux.\n",
        "\n",
        "* Comunidade Ativa: Python tem uma comunidade de desenvolvedores ativa, o que resulta em uma ampla gama de bibliotecas e frameworks desenvolvidos pela comunidade para diversos fins.\n",
        "\n",
        "\n",
        "## Aplicações de Python\n",
        "\n",
        "* Desenvolvimento Web: Python é utilizado para criar aplicativos web com frameworks populares como Django e Flask.\n",
        "\n",
        "* Ciência de Dados e Análise de Dados: Python é amplamente utilizado em ciência de dados e análise de dados, com bibliotecas populares como NumPy, pandas, Matplotlib e SciPy.\n",
        "\n",
        "* Automação de Tarefas: Python é usado para automatizar tarefas repetitivas e processos de rotina.\n",
        "\n",
        "* Inteligência Artificial e Aprendizado de Máquina: Python é uma escolha popular para projetos de IA e aprendizado de máquina, com bibliotecas como TensorFlow e PyTorch.\n",
        "\n",
        "* Desenvolvimento de Jogos: Python é usado para desenvolver jogos, especialmente com bibliotecas como Pygame.\n",
        "\n"
      ],
      "metadata": {
        "id": "BS41-UbkH3m_"
      }
    },
    {
      "cell_type": "markdown",
      "source": [
        "## Variáveis\n",
        "\n",
        "Uma variável é um local na memória do computador onde podemos armazenar um valor. Ela possui um nome (identificador) e pode conter diferentes tipos de dados, como números, texto, listas, etc. Em Python, não precisamos declarar o tipo da variável explicitamente, pois a linguagem é de tipagem dinâmica.\n"
      ],
      "metadata": {
        "id": "Z6PrSO7pcyBH"
      }
    },
    {
      "cell_type": "code",
      "source": [
        "# Definindo uma variável com um número inteiro\n",
        "idade = 30\n",
        "\n",
        "# Definindo uma variável com um número decimal (float)\n",
        "altura = 1.75\n",
        "\n",
        "# Definindo uma variável com uma string (texto)\n",
        "nome = \"João\"\n",
        "\n",
        "# Definindo uma variável com uma lista\n",
        "numeros = [1, 2, 3, 4, 5]"
      ],
      "metadata": {
        "id": "7138jnfY_XFC"
      },
      "execution_count": null,
      "outputs": []
    },
    {
      "cell_type": "markdown",
      "source": [
        "## Tipos de dados\n",
        "\n",
        "* Números: São representados como inteiros (ex.: 42) ou números de ponto flutuante (ex.: 3.14).\n",
        "* Strings: Sequências de caracteres, como \"Olá, mundo!\".\n",
        "* Listas: Conjunto ordenado de valores, que podem ser de diferentes tipos.\n",
        "* Tuplas: São semelhantes às listas, mas imutáveis, ou seja, não podem ser alteradas após a criação.\n",
        "* Dicionários: Estrutura de dados que armazena pares de chave-valor."
      ],
      "metadata": {
        "id": "W8YspGDjdSQh"
      }
    },
    {
      "cell_type": "code",
      "source": [
        "# Números\n",
        "idade = 30\n",
        "preco = 49.99\n",
        "\n",
        "# Strings\n",
        "nome = \"Maria\"\n",
        "mensagem = 'Olá, seja bem-vindo!'\n",
        "\n",
        "# Listas\n",
        "numeros = [1, 2, 3, 4, 5]\n",
        "nomes = [\"Ana\", \"João\", \"Pedro\"]\n",
        "\n",
        "# Tuplas\n",
        "coordenadas = (10, 20)\n",
        "\n",
        "# Dicionários\n",
        "pessoa = {\"nome\": \"Carlos\", \"idade\": 25, \"cidade\": \"São Paulo\"}\n"
      ],
      "metadata": {
        "id": "46rDMkIaB-bN"
      },
      "execution_count": null,
      "outputs": []
    },
    {
      "cell_type": "markdown",
      "source": [
        "## Dados de entrada\n",
        "\n",
        "A função input() é usada para interagir com o usuário e receber dados inseridos pelo teclado. Quando a função é chamada, o programa pausa sua execução e espera que o usuário digite algo e pressione a tecla \"Enter\". A entrada fornecida pelo usuário é retornada como uma string. Se necessário, você pode converter a entrada para outros tipos de dados usando as funções de conversão, como int() para inteiros ou float() para números de ponto flutuante."
      ],
      "metadata": {
        "id": "9KXu35Z1EZPM"
      }
    },
    {
      "cell_type": "code",
      "source": [
        "# Pegar o nome do usuário\n",
        "nome = input(\"Digite seu nome: \")\n",
        "\n",
        "# Pegar a idade do usuário (e converter para um número inteiro)\n",
        "idade = int(input(\"Digite sua idade: \"))\n",
        "\n",
        "# Exibir uma mensagem personalizada com as informações do usuário\n",
        "print(f\"Olá, {nome}! Você tem {idade} anos.\")"
      ],
      "metadata": {
        "colab": {
          "base_uri": "https://localhost:8080/"
        },
        "id": "4URIPLfXEgyQ",
        "outputId": "009bc718-7d11-44db-f847-77a937edbd43"
      },
      "execution_count": null,
      "outputs": [
        {
          "output_type": "stream",
          "name": "stdout",
          "text": [
            "Digite seu nome: Julio\n",
            "Digite sua idade: 21\n",
            "Olá, Julio! Você tem 21 anos.\n"
          ]
        }
      ]
    },
    {
      "cell_type": "markdown",
      "source": [
        "### Cuidados e Considerações\n",
        "\n",
        "* Lembre-se que a função input() sempre retorna uma string. Se você precisar de outro tipo de dado, deverá realizar a conversão explicitamente, como mostrado no exemplo acima.\n",
        "\n",
        "* Ao receber inputs do usuário, é uma boa prática tratar possíveis exceções e validar os dados para evitar erros inesperados."
      ],
      "metadata": {
        "id": "zVxtZY_UEs6i"
      }
    },
    {
      "cell_type": "markdown",
      "source": [
        "## Operadores\n",
        "\n",
        "Operadores são símbolos especiais que realizam operações em variáveis e valores. Existem diferentes tipos de operadores em Python, incluindo:\n",
        "\n",
        "* Operadores Aritméticos: Realizam operações matemáticas.\n",
        "* Operadores de Atribuição: Atribuem valores a variáveis.\n",
        "* Operadores de Comparação: Comparam valores.\n",
        "* Operadores Lógicos: Realizam operações lógicas em valores booleanos.\n",
        "* Operadores de Pertencimento: Verificam se um valor pertence a uma sequência.\n",
        "* Operadores de Identidade: Verificam a identidade de objetos."
      ],
      "metadata": {
        "id": "Amat9rWDdf9K"
      }
    },
    {
      "cell_type": "code",
      "source": [
        "# Operadores Aritméticos\n",
        "a = 10\n",
        "b = 3\n",
        "\n",
        "soma = a + b\n",
        "subtracao = a - b\n",
        "multiplicacao = a * b\n",
        "divisao = a / b\n",
        "resto = a % b\n",
        "potencia = a ** b\n",
        "\n",
        "\n",
        "print(soma)\n",
        "print(subtracao)\n",
        "print(multiplicacao)\n",
        "print(divisao)\n",
        "print(resto)\n",
        "print(potencia)"
      ],
      "metadata": {
        "colab": {
          "base_uri": "https://localhost:8080/"
        },
        "id": "YpXuMCBmQbx0",
        "outputId": "d202cf38-6d94-4bfb-dfb1-a9c547aa1b82"
      },
      "execution_count": null,
      "outputs": [
        {
          "output_type": "stream",
          "name": "stdout",
          "text": [
            "13\n",
            "7\n",
            "30\n",
            "3.3333333333333335\n",
            "1\n",
            "1000\n"
          ]
        }
      ]
    },
    {
      "cell_type": "code",
      "source": [
        "# Operadores de Atribuição\n",
        "x = 5\n",
        "x += 2  # é equivalente a: x = x + 2\n",
        "\n",
        "print(x)"
      ],
      "metadata": {
        "colab": {
          "base_uri": "https://localhost:8080/"
        },
        "id": "_XyHr7m8dxhu",
        "outputId": "94b4df6b-555f-4b06-e086-82834ae18717"
      },
      "execution_count": null,
      "outputs": [
        {
          "output_type": "stream",
          "name": "stdout",
          "text": [
            "7\n"
          ]
        }
      ]
    },
    {
      "cell_type": "code",
      "source": [
        "# Operadores de Comparação\n",
        "valor1 = 10\n",
        "valor2 = 20\n",
        "igual = valor1 == valor2\n",
        "diferente = valor1 != valor2\n",
        "maior = valor1 > valor2\n",
        "menor_ou_igual = valor1 <= valor2\n",
        "maior_ou_igual = valor1 >= valor2\n",
        "\n",
        "print(igual)\n",
        "print(diferente)\n",
        "print(maior)\n",
        "print(menor_ou_igual)\n",
        "print(maior_ou_igual)"
      ],
      "metadata": {
        "id": "4rfIrWSxUe_l",
        "colab": {
          "base_uri": "https://localhost:8080/"
        },
        "outputId": "45c6ac92-bdf7-4bfa-c29d-11ceef2c3a1d"
      },
      "execution_count": null,
      "outputs": [
        {
          "output_type": "stream",
          "name": "stdout",
          "text": [
            "False\n",
            "True\n",
            "False\n",
            "True\n",
            "False\n"
          ]
        }
      ]
    },
    {
      "cell_type": "code",
      "source": [
        "# Operadores Lógicos\n",
        "condicao1 = True\n",
        "condicao2 = False\n",
        "resultado_and = condicao1 and condicao2\n",
        "resultado_or = condicao1 or condicao2\n",
        "resultado_not = not condicao1\n",
        "\n",
        "print(resultado_and)\n",
        "print(resultado_or)\n",
        "print(resultado_not)"
      ],
      "metadata": {
        "colab": {
          "base_uri": "https://localhost:8080/"
        },
        "id": "-W445t4AeA5w",
        "outputId": "0142778c-699e-4d49-9423-b9aa4f497119"
      },
      "execution_count": null,
      "outputs": [
        {
          "output_type": "stream",
          "name": "stdout",
          "text": [
            "False\n",
            "True\n",
            "False\n"
          ]
        }
      ]
    },
    {
      "cell_type": "code",
      "source": [
        "# Operadores de Pertencimento\n",
        "lista = [1, 2, 3]\n",
        "resultado_in = 2 in lista\n",
        "\n",
        "print(resultado_in)"
      ],
      "metadata": {
        "colab": {
          "base_uri": "https://localhost:8080/"
        },
        "id": "3NwbvM66eKE9",
        "outputId": "d70ee258-2fa5-4868-8405-eeead968a40f"
      },
      "execution_count": null,
      "outputs": [
        {
          "output_type": "stream",
          "name": "stdout",
          "text": [
            "True\n"
          ]
        }
      ]
    },
    {
      "cell_type": "code",
      "source": [
        "# Operadores de Identidade\n",
        "x = [1, 2, 3]\n",
        "y = [1, 2, 3]\n",
        "\n",
        "resultado_is = x is y  # False, pois são objetos diferentes na memória\n",
        "\n",
        "print(resultado_is)"
      ],
      "metadata": {
        "colab": {
          "base_uri": "https://localhost:8080/"
        },
        "id": "jca9snN6ePzY",
        "outputId": "46200b05-d0ae-48c6-e2a4-c7e2813bf540"
      },
      "execution_count": null,
      "outputs": [
        {
          "output_type": "stream",
          "name": "stdout",
          "text": [
            "False\n"
          ]
        }
      ]
    },
    {
      "cell_type": "markdown",
      "source": [
        "## Condicionais\n",
        "\n",
        "1. if:\n",
        "O comando \"if\" permite executar um bloco de código se a condição fornecida for verdadeira.\n",
        "\n",
        "2. elif:\n",
        "O comando \"elif\" (abreviação de \"else if\") é usado para testar várias condições, caso a condição do \"if\" seja falsa.\n",
        "\n",
        "3. else:\n",
        "O comando \"else\" é executado quando todas as condições anteriores (if e elif) são falsas."
      ],
      "metadata": {
        "id": "qd1KhGfGeboA"
      }
    },
    {
      "cell_type": "code",
      "source": [
        "idade = 18\n",
        "\n",
        "if idade < 18:\n",
        "    print(\"Você é menor de idade.\")\n",
        "elif idade == 18:\n",
        "    print(\"Você tem exatamente 18 anos.\")\n",
        "else:\n",
        "    print(\"Você é maior de idade.\")\n"
      ],
      "metadata": {
        "colab": {
          "base_uri": "https://localhost:8080/"
        },
        "id": "XUvfmoHGeTD1",
        "outputId": "c9adcd61-813f-4820-c5a6-d7a257c0549d"
      },
      "execution_count": null,
      "outputs": [
        {
          "output_type": "stream",
          "name": "stdout",
          "text": [
            "Você tem exatamente 18 anos.\n"
          ]
        }
      ]
    },
    {
      "cell_type": "markdown",
      "source": [
        "## Loops\n",
        "\n",
        "Os loops são usados para repetir um bloco de código várias vezes até que uma determinada condição seja atendida. Em Python, temos dois tipos principais de loops:\n",
        "\n",
        "1. for:\n",
        "O loop \"for\" é usado quando sabemos exatamente quantas vezes queremos repetir o bloco de código. Ele pode ser usado com sequências, como listas, strings, tuplas, etc.\n",
        "\n",
        "2. while:\n",
        "O loop \"while\" é usado quando queremos repetir o bloco de código enquanto uma determinada condição for verdadeira. Ele pode ser usado quando não sabemos quantas vezes o loop será executado."
      ],
      "metadata": {
        "id": "M7h4G_jMeuSU"
      }
    },
    {
      "cell_type": "code",
      "source": [
        "# Loop while para imprimir os números de 1 a 5\n",
        "i = 1\n",
        "while i <= 5:\n",
        "    print(i)\n",
        "    i += 1"
      ],
      "metadata": {
        "colab": {
          "base_uri": "https://localhost:8080/"
        },
        "id": "eWr57TcegOIL",
        "outputId": "e0ce2ece-a4f8-40d0-9611-862ef7aca1c6"
      },
      "execution_count": null,
      "outputs": [
        {
          "output_type": "stream",
          "name": "stdout",
          "text": [
            "1\n",
            "2\n",
            "3\n",
            "4\n",
            "5\n"
          ]
        }
      ]
    },
    {
      "cell_type": "markdown",
      "source": [
        "### A função range()\n",
        "\n",
        "A função range() é uma função embutida em Python que gera uma sequência de números. Ela é comumente usada em conjunto com o loop \"for\" para controlar o número de iterações.\n",
        "\n",
        "A sintaxe básica da função range() é a seguinte:\n",
        "\n",
        "\"\"\"\n",
        "range(start, stop, step)\n",
        "\"\"\"\n",
        "\n",
        "onde:\n",
        "\n",
        "start: é o valor inicial da sequência (inclusivo).\n",
        "stop: é o valor final da sequência (exclusivo).\n",
        "step: é o valor do incremento entre os números (opcional, padrão é 1).\n",
        "\n"
      ],
      "metadata": {
        "id": "HlR6np34fftQ"
      }
    },
    {
      "cell_type": "code",
      "source": [
        "# Loop for para imprimir os números de 1 a 5\n",
        "for i in range(1, 6):\n",
        "    print(i)\n"
      ],
      "metadata": {
        "colab": {
          "base_uri": "https://localhost:8080/"
        },
        "id": "1sPsXyMWesAj",
        "outputId": "8921cc66-041c-4061-a46f-9f0f75fb5a1e"
      },
      "execution_count": null,
      "outputs": [
        {
          "output_type": "stream",
          "name": "stdout",
          "text": [
            "1\n",
            "2\n",
            "3\n",
            "4\n",
            "5\n"
          ]
        }
      ]
    },
    {
      "cell_type": "code",
      "source": [
        "# Loop for usando range para imprimir os números de 1 a 10, pulando de 2 em 2\n",
        "for i in range(1, 11, 2):\n",
        "    print(i)"
      ],
      "metadata": {
        "colab": {
          "base_uri": "https://localhost:8080/"
        },
        "id": "XdokJk80f3TH",
        "outputId": "e628964a-384e-42e0-e771-dcd689ff05a4"
      },
      "execution_count": null,
      "outputs": [
        {
          "output_type": "stream",
          "name": "stdout",
          "text": [
            "1\n",
            "3\n",
            "5\n",
            "7\n",
            "9\n"
          ]
        }
      ]
    },
    {
      "cell_type": "markdown",
      "source": [
        "### Outros usos para o loop \"for\"\n",
        "\n",
        "Além de usar o loop \"for\" com a função range(), você também pode usá-lo com outros tipos de sequências, como listas, strings, tuplas, dicionários, e até mesmo com a função enumerate(), que é útil quando você precisa obter o índice e o valor de cada elemento em uma sequência."
      ],
      "metadata": {
        "id": "CTLIMENmf9fh"
      }
    },
    {
      "cell_type": "code",
      "source": [
        "# Loop for com uma lista\n",
        "frutas = [\"maçã\", \"banana\", \"laranja\"]\n",
        "for fruta in frutas:\n",
        "    print(fruta)\n"
      ],
      "metadata": {
        "colab": {
          "base_uri": "https://localhost:8080/"
        },
        "id": "5jJzSNgzf4Cz",
        "outputId": "1271c927-fa13-4ff7-8df8-4a194ccc1649"
      },
      "execution_count": null,
      "outputs": [
        {
          "output_type": "stream",
          "name": "stdout",
          "text": [
            "maçã\n",
            "banana\n",
            "laranja\n"
          ]
        }
      ]
    },
    {
      "cell_type": "code",
      "source": [
        "# Loop for com uma string\n",
        "mensagem = \"Olá, mundo!\"\n",
        "for caractere in mensagem:\n",
        "    print(caractere)\n"
      ],
      "metadata": {
        "colab": {
          "base_uri": "https://localhost:8080/"
        },
        "id": "q_V0n-u7gEqV",
        "outputId": "ce61301c-4561-41fe-9965-812d9c97c185"
      },
      "execution_count": null,
      "outputs": [
        {
          "output_type": "stream",
          "name": "stdout",
          "text": [
            "O\n",
            "l\n",
            "á\n",
            ",\n",
            " \n",
            "m\n",
            "u\n",
            "n\n",
            "d\n",
            "o\n",
            "!\n"
          ]
        }
      ]
    },
    {
      "cell_type": "code",
      "source": [
        "# Loop for com a função enumerate()\n",
        "frutas = [\"maçã\", \"banana\", \"laranja\"]\n",
        "for indice, fruta in enumerate(frutas):\n",
        "    print(f\"Índice: {indice}, Fruta: {fruta}\")\n"
      ],
      "metadata": {
        "colab": {
          "base_uri": "https://localhost:8080/"
        },
        "id": "u_bm_W9-gGPL",
        "outputId": "0cada9c7-fa92-4290-d554-3991d66f9b99"
      },
      "execution_count": null,
      "outputs": [
        {
          "output_type": "stream",
          "name": "stdout",
          "text": [
            "Índice: 0, Fruta: maçã\n",
            "Índice: 1, Fruta: banana\n",
            "Índice: 2, Fruta: laranja\n"
          ]
        }
      ]
    },
    {
      "cell_type": "markdown",
      "source": [
        "### Break e Continue\n",
        "\n",
        "\n",
        "Dentro dos loops, temos também os comandos \"break\" e \"continue\":\n",
        "\n",
        "1. break:\n",
        "O comando \"break\" é usado para interromper o loop prematuramente, mesmo que a condição do loop ainda seja verdadeira.\n",
        "\n",
        "2. continue:\n",
        "O comando \"continue\" é usado para pular a iteração atual do loop e continuar para a próxima."
      ],
      "metadata": {
        "id": "hAejd52dgUwu"
      }
    },
    {
      "cell_type": "code",
      "source": [
        "# Usando o break para interromper o loop quando encontrar o valor 4\n",
        "for i in range(1, 6):\n",
        "    if i == 4:\n",
        "        break\n",
        "    print(i)"
      ],
      "metadata": {
        "colab": {
          "base_uri": "https://localhost:8080/"
        },
        "id": "89lzicwKgJR3",
        "outputId": "673a8e8b-a26e-4d27-f2f3-2104c04d7cda"
      },
      "execution_count": null,
      "outputs": [
        {
          "output_type": "stream",
          "name": "stdout",
          "text": [
            "1\n",
            "2\n",
            "3\n"
          ]
        }
      ]
    },
    {
      "cell_type": "code",
      "source": [
        "# Usando o continue para pular o valor 3 e continuar com o loop\n",
        "for i in range(1, 6):\n",
        "    if i == 3:\n",
        "        continue\n",
        "    print(i)\n"
      ],
      "metadata": {
        "colab": {
          "base_uri": "https://localhost:8080/"
        },
        "id": "KVIVHHtXgcG0",
        "outputId": "0a6d815e-ef76-4a65-b26f-521239f6db37"
      },
      "execution_count": null,
      "outputs": [
        {
          "output_type": "stream",
          "name": "stdout",
          "text": [
            "1\n",
            "2\n",
            "4\n",
            "5\n"
          ]
        }
      ]
    },
    {
      "cell_type": "markdown",
      "source": [
        "## Funções\n",
        "\n",
        "Funções são blocos de código que podem ser chamados para realizar uma tarefa específica. Elas ajudam a organizar o código em partes menores e reutilizáveis, tornando o programa mais modular e fácil de manter. Em Python, você pode criar suas próprias funções usando a palavra-chave def.\n"
      ],
      "metadata": {
        "id": "-wvPob8dgxab"
      }
    },
    {
      "cell_type": "code",
      "source": [
        "def saudacao(nome):\n",
        "    return f\"Olá, {nome}! Seja bem-vindo(a).\"\n",
        "\n",
        "mensagem = saudacao(\"João\")\n",
        "print(mensagem)  # Saída: \"Olá, João! Seja bem-vindo(a).\""
      ],
      "metadata": {
        "colab": {
          "base_uri": "https://localhost:8080/"
        },
        "id": "Wl16PT8ggeN-",
        "outputId": "059b2fa6-b2ff-4fda-c485-b2ab63d5fbfd"
      },
      "execution_count": null,
      "outputs": [
        {
          "output_type": "stream",
          "name": "stdout",
          "text": [
            "Olá, João! Seja bem-vindo(a).\n"
          ]
        }
      ]
    },
    {
      "cell_type": "markdown",
      "source": [
        "### Funções com múltiplos parâmetros\n",
        "\n",
        "As funções em Python podem ter mais de um parâmetro. Isso permite que você passe várias informações para a função e a utilize de maneira mais flexível.\n"
      ],
      "metadata": {
        "id": "jRSEZ8TEjKsf"
      }
    },
    {
      "cell_type": "code",
      "source": [
        "def calcular_media(nota1, nota2, nota3):\n",
        "    media = (nota1 + nota2 + nota3) / 3\n",
        "    return media\n",
        "\n",
        "# Chamando a função com três notas e armazenando o resultado\n",
        "media_aluno = calcular_media(7.5, 8.0, 6.5)\n",
        "print(f\"A média do aluno é: {media_aluno:.2f}\")  # Saída: \"A média do aluno é: 7.33\""
      ],
      "metadata": {
        "colab": {
          "base_uri": "https://localhost:8080/"
        },
        "id": "VRt0zrzMjGVq",
        "outputId": "72a16285-d621-45f6-b91c-80977b74a23e"
      },
      "execution_count": null,
      "outputs": [
        {
          "output_type": "stream",
          "name": "stdout",
          "text": [
            "A média do aluno é: 7.33\n"
          ]
        }
      ]
    },
    {
      "cell_type": "markdown",
      "source": [
        "### Funções com valor padrão (default)\n",
        "\n",
        "Você pode definir um valor padrão para os parâmetros de uma função. Se um valor não for passado ao chamar a função, o valor padrão será usado."
      ],
      "metadata": {
        "id": "N06lTcXdjR7x"
      }
    },
    {
      "cell_type": "code",
      "source": [
        "def saudar(nome=\"usuário\"):\n",
        "    return f\"Olá, {nome}! Seja bem-vindo(a).\"\n",
        "\n",
        "mensagem_padrao = saudar()\n",
        "mensagem_personalizada = saudar(\"Alice\")\n",
        "\n",
        "print(mensagem_padrao)  # Saída: \"Olá, usuário! Seja bem-vindo(a).\"\n",
        "print(mensagem_personalizada)  # Saída: \"Olá, Alice! Seja bem-vindo(a).\""
      ],
      "metadata": {
        "colab": {
          "base_uri": "https://localhost:8080/"
        },
        "id": "29DaKM_XjIPx",
        "outputId": "6855435d-4b74-4f53-f47c-e376e30121c3"
      },
      "execution_count": null,
      "outputs": [
        {
          "output_type": "stream",
          "name": "stdout",
          "text": [
            "Olá, usuário! Seja bem-vindo(a).\n",
            "Olá, Alice! Seja bem-vindo(a).\n"
          ]
        }
      ]
    },
    {
      "cell_type": "markdown",
      "source": [
        "### Funções com retorno múltiplo\n",
        "\n",
        "Em Python, você pode retornar vários valores de uma função separando-os com vírgulas. Isso é útil quando você deseja retornar mais de uma informação a partir da função."
      ],
      "metadata": {
        "id": "ClzGi0PrjXd3"
      }
    },
    {
      "cell_type": "code",
      "source": [
        "def calcular_medidas(largura, altura):\n",
        "    area = largura * altura\n",
        "    perimetro = 2 * (largura + altura)\n",
        "    return area, perimetro\n",
        "\n",
        "area_retangulo, perimetro_retangulo = calcular_medidas(4, 6)\n",
        "print(f\"A área do retângulo é: {area_retangulo}\")\n",
        "print(f\"O perímetro do retângulo é: {perimetro_retangulo}\")\n"
      ],
      "metadata": {
        "colab": {
          "base_uri": "https://localhost:8080/"
        },
        "id": "xMqTkhCRjYiX",
        "outputId": "0a3c8cc9-1266-4d49-e37e-ef92a6772116"
      },
      "execution_count": null,
      "outputs": [
        {
          "output_type": "stream",
          "name": "stdout",
          "text": [
            "A área do retângulo é: 24\n",
            "O perímetro do retângulo é: 20\n"
          ]
        }
      ]
    },
    {
      "cell_type": "markdown",
      "source": [
        "### Funções Recursivas\n",
        "\n",
        "Uma função recursiva é uma função que chama a si mesma para resolver um problema. É uma técnica poderosa para resolver problemas que podem ser divididos em subproblemas menores."
      ],
      "metadata": {
        "id": "PK-wpXGIjqQ9"
      }
    },
    {
      "cell_type": "code",
      "source": [
        "def fatorial(n):\n",
        "    if n == 0:\n",
        "        return 1\n",
        "    else:\n",
        "        return n * fatorial(n-1)\n",
        "\n",
        "numero = 5\n",
        "resultado_fatorial = fatorial(numero)\n",
        "print(f\"O fatorial de {numero} é: {resultado_fatorial}\")  # Saída: \"O fatorial de 5 é: 120\"\n"
      ],
      "metadata": {
        "colab": {
          "base_uri": "https://localhost:8080/"
        },
        "id": "fj6eLMODjspA",
        "outputId": "ce5b54c5-b803-45e5-d0b7-91fb7d13507a"
      },
      "execution_count": null,
      "outputs": [
        {
          "output_type": "stream",
          "name": "stdout",
          "text": [
            "O fatorial de 5 é: 120\n"
          ]
        }
      ]
    },
    {
      "cell_type": "markdown",
      "source": [
        "### Funções Lambda\n",
        "\n",
        "As funções lambda são funções anônimas de uma única expressão. Elas são úteis para criar pequenas funções em linha."
      ],
      "metadata": {
        "id": "NueicYFjjx6i"
      }
    },
    {
      "cell_type": "code",
      "source": [
        "# Função lambda para calcular o quadrado de um número\n",
        "quadrado = lambda x: x ** 2\n",
        "\n",
        "resultado = quadrado(5)\n",
        "print(resultado)  # Saída: 25"
      ],
      "metadata": {
        "colab": {
          "base_uri": "https://localhost:8080/"
        },
        "id": "Kt716kcmj0mG",
        "outputId": "69eb7fc9-173b-4d95-e5a2-5fffc9a1f603"
      },
      "execution_count": null,
      "outputs": [
        {
          "output_type": "stream",
          "name": "stdout",
          "text": [
            "25\n"
          ]
        }
      ]
    },
    {
      "cell_type": "markdown",
      "source": [
        "### Funções como parâmetros de outras funções\n",
        "\n",
        "Em Python, é possível passar uma função como argumento para outra função. Isso é conhecido como funções de ordem superior."
      ],
      "metadata": {
        "id": "Y5W0FLWej3Ta"
      }
    },
    {
      "cell_type": "code",
      "source": [
        "def aplicar_funcao(funcao, numero):\n",
        "    return funcao(numero)\n",
        "\n",
        "def quadrado(x):\n",
        "    return x ** 2\n",
        "\n",
        "def cubo(x):\n",
        "    return x ** 3\n",
        "\n",
        "numero = 5\n",
        "\n",
        "resultado_quadrado = aplicar_funcao(quadrado, numero)\n",
        "print(f\"O quadrado de {numero} é: {resultado_quadrado}\")  # Saída: \"O quadrado de 5 é: 25\"\n",
        "\n",
        "resultado_cubo = aplicar_funcao(cubo, numero)\n",
        "print(f\"O cubo de {numero} é: {resultado_cubo}\")  # Saída: \"O cubo de 5 é: 125\""
      ],
      "metadata": {
        "colab": {
          "base_uri": "https://localhost:8080/"
        },
        "id": "MdsEGWR-j8L3",
        "outputId": "018b58f2-d2b9-4a24-a3ec-aad45f164c66"
      },
      "execution_count": null,
      "outputs": [
        {
          "output_type": "stream",
          "name": "stdout",
          "text": [
            "O quadrado de 5 é: 25\n",
            "O cubo de 5 é: 125\n"
          ]
        }
      ]
    },
    {
      "cell_type": "markdown",
      "source": [
        "## Escopos de variáveis\n",
        "\n",
        "Em Python, o escopo de uma variável refere-se ao local onde a variável é acessível e visível. Existem dois tipos principais de escopos em Python:\n",
        "\n",
        "1. Escopo Local: Variáveis definidas dentro de uma função são consideradas locais e só podem ser acessadas dentro dessa função.\n",
        "\n",
        "2. Escopo Global: Variáveis definidas fora de qualquer função ou bloco de código são consideradas globais e podem ser acessadas de qualquer lugar do programa."
      ],
      "metadata": {
        "id": "oZ52_Hm2iDvB"
      }
    },
    {
      "cell_type": "code",
      "source": [
        "# Variável global\n",
        "mensagem_global = \"Eu sou global!\"\n",
        "\n",
        "def exibir_mensagem():\n",
        "    # Variável local\n",
        "    mensagem_local = \"Eu sou local!\"\n",
        "    print(mensagem_local)\n",
        "    print(mensagem_global)\n",
        "\n",
        "exibir_mensagem()  # Saída: \"Eu sou local!\" e \"Eu sou global!\"\n",
        "print(mensagem_global)  # Saída: \"Eu sou global!\"\n",
        "#print(mensagem_local)   # Isso resultará em um erro, pois mensagem_local é uma variável local e não é acessível aqui.\n"
      ],
      "metadata": {
        "colab": {
          "base_uri": "https://localhost:8080/"
        },
        "id": "kgDR33xMh-bh",
        "outputId": "0f4e712c-f851-4814-ec86-596cb5e1544d"
      },
      "execution_count": null,
      "outputs": [
        {
          "output_type": "stream",
          "name": "stdout",
          "text": [
            "Eu sou local!\n",
            "Eu sou global!\n",
            "Eu sou global!\n"
          ]
        }
      ]
    },
    {
      "cell_type": "code",
      "source": [
        "def funcao_externa():\n",
        "    mensagem_externa = \"Eu sou externa!\"\n",
        "\n",
        "    def funcao_interna():\n",
        "        mensagem_interna = \"Eu sou interna!\"\n",
        "        print(mensagem_interna)\n",
        "        print(mensagem_externa)\n",
        "\n",
        "    funcao_interna()  # Saída: \"Eu sou interna!\" e \"Eu sou externa!\"\n",
        "    print(mensagem_externa)  # Saída: \"Eu sou externa!\"\n",
        "    # print(mensagem_interna)  # Isso resultará em um erro, pois mensagem_interna é uma variável local da função_interna.\n",
        "\n",
        "funcao_externa()\n"
      ],
      "metadata": {
        "colab": {
          "base_uri": "https://localhost:8080/"
        },
        "id": "Q-sqQVEAiU11",
        "outputId": "77f41b9c-4a96-4fd0-82ea-7365d7607207"
      },
      "execution_count": null,
      "outputs": [
        {
          "output_type": "stream",
          "name": "stdout",
          "text": [
            "Eu sou interna!\n",
            "Eu sou externa!\n",
            "Eu sou externa!\n"
          ]
        }
      ]
    },
    {
      "cell_type": "markdown",
      "source": [
        "## Importar Modulos\n",
        "\n",
        "Em Python, o mecanismo de importação é usado para acessar e usar código contido em outros módulos ou pacotes. Os imports permitem a reutilização de código, evitando a duplicação de esforços e promovendo a modularidade em seus projetos. Algumas formas de importar as coisas consiste em:\n",
        "\n",
        "* import\n",
        "* from import\n",
        "* import as\n",
        "* import *"
      ],
      "metadata": {
        "id": "yLJDhYU0I8IE"
      }
    },
    {
      "cell_type": "code",
      "source": [
        "import random\n",
        "\n",
        "# Gerando um número inteiro aleatório entre 1 e 10\n",
        "numero_aleatorio = random.randint(1, 10)\n",
        "print(\"Número aleatório:\", numero_aleatorio)\n",
        "\n",
        "# Escolhendo um elemento aleatório de uma lista\n",
        "lista = ['maçã', 'banana', 'laranja', 'uva']\n",
        "fruta_aleatoria = random.choice(lista)\n",
        "print(\"Fruta aleatória:\", fruta_aleatoria)\n"
      ],
      "metadata": {
        "colab": {
          "base_uri": "https://localhost:8080/"
        },
        "id": "n18ah633JbuN",
        "outputId": "79ad2696-93dc-4284-a808-85d919c837c6"
      },
      "execution_count": null,
      "outputs": [
        {
          "output_type": "stream",
          "name": "stdout",
          "text": [
            "Número aleatório: 6\n",
            "Fruta aleatória: uva\n"
          ]
        }
      ]
    },
    {
      "cell_type": "code",
      "source": [
        "from math import sqrt\n",
        "\n",
        "raiz_quadrada = sqrt(25)\n",
        "print(raiz_quadrada)"
      ],
      "metadata": {
        "colab": {
          "base_uri": "https://localhost:8080/"
        },
        "id": "fbf8aEv8KPNy",
        "outputId": "61e64ef4-9c70-4db6-983d-99880be42524"
      },
      "execution_count": null,
      "outputs": [
        {
          "output_type": "stream",
          "name": "stdout",
          "text": [
            "5.0\n"
          ]
        }
      ]
    },
    {
      "cell_type": "code",
      "source": [
        "import math as m\n",
        "\n",
        "raiz_quadrada = m.sqrt(25)\n",
        "print(raiz_quadrada)"
      ],
      "metadata": {
        "colab": {
          "base_uri": "https://localhost:8080/"
        },
        "id": "WkD63qdcKWKN",
        "outputId": "bc0facc6-1b87-4ad0-a925-dd7c2467bc02"
      },
      "execution_count": null,
      "outputs": [
        {
          "output_type": "stream",
          "name": "stdout",
          "text": [
            "5.0\n"
          ]
        }
      ]
    },
    {
      "cell_type": "code",
      "source": [
        "from math import *\n",
        "\n",
        "raiz_quadrada = sqrt(25)\n",
        "print(raiz_quadrada)"
      ],
      "metadata": {
        "colab": {
          "base_uri": "https://localhost:8080/"
        },
        "id": "IirxCL05KZvl",
        "outputId": "861672db-ba44-4e87-976b-3854533dd85c"
      },
      "execution_count": null,
      "outputs": [
        {
          "output_type": "stream",
          "name": "stdout",
          "text": [
            "5.0\n"
          ]
        }
      ]
    },
    {
      "cell_type": "code",
      "source": [
        "import math, random\n",
        "\n",
        "raiz_quadrada = math.sqrt(25)\n",
        "numero_aleatorio = random.randint(1, 10)\n",
        "\n",
        "print(raiz_quadrada)\n",
        "print(numero_aleatorio)"
      ],
      "metadata": {
        "colab": {
          "base_uri": "https://localhost:8080/"
        },
        "id": "y9vkwx7-KqDF",
        "outputId": "16081059-ea8f-41bc-e53e-f2bc320ea7a7"
      },
      "execution_count": null,
      "outputs": [
        {
          "output_type": "stream",
          "name": "stdout",
          "text": [
            "5.0\n",
            "10\n"
          ]
        }
      ]
    },
    {
      "cell_type": "markdown",
      "source": [
        "## Listas\n",
        "\n",
        "Em Python, as listas são uma estrutura de dados muito versátil e poderosa que nos permite armazenar uma coleção ordenada de elementos. Listas podem conter elementos de diferentes tipos, como números inteiros, números de ponto flutuante, strings e até outras listas."
      ],
      "metadata": {
        "id": "9PSCp0ZXkRU2"
      }
    },
    {
      "cell_type": "markdown",
      "source": [
        "### Criando uma lista\n",
        "\n",
        "Para criar uma lista em Python, basta usar colchetes [] e separar os elementos por vírgulas."
      ],
      "metadata": {
        "id": "BA1T7TZjkaFL"
      }
    },
    {
      "cell_type": "code",
      "source": [
        "# Criando uma lista com números inteiros\n",
        "numeros = [1, 2, 3, 4, 5]\n",
        "\n",
        "# Criando uma lista com strings\n",
        "frutas = [\"maçã\", \"banana\", \"laranja\"]\n",
        "\n",
        "# Criando uma lista com elementos de tipos diferentes\n",
        "dados = [10, \"Ana\", 3.14, True]"
      ],
      "metadata": {
        "id": "LwsekkchiLzw"
      },
      "execution_count": null,
      "outputs": []
    },
    {
      "cell_type": "markdown",
      "source": [
        "### Acessando elementos da lista\n",
        "\n",
        "Para acessar um elemento específico da lista, você pode usar o índice do elemento. Os índices em Python começam a partir do zero."
      ],
      "metadata": {
        "id": "l7gZroM4khYQ"
      }
    },
    {
      "cell_type": "code",
      "source": [
        "numeros = [10, 20, 30, 40, 50]\n",
        "\n",
        "primeiro_elemento = numeros[0]   # Primeiro elemento: 10\n",
        "segundo_elemento = numeros[1]    # Segundo elemento: 20\n",
        "ultimo_elemento = numeros[-1]    # Último elemento: 50 (índice negativo representa contagem a partir do final)\n",
        "\n",
        "print(primeiro_elemento)\n",
        "print(segundo_elemento)\n",
        "print(ultimo_elemento)"
      ],
      "metadata": {
        "colab": {
          "base_uri": "https://localhost:8080/"
        },
        "id": "dCpNjGwEke07",
        "outputId": "98d1a7c7-6887-41f5-c21e-6264d65a6079"
      },
      "execution_count": null,
      "outputs": [
        {
          "output_type": "stream",
          "name": "stdout",
          "text": [
            "10\n",
            "20\n",
            "50\n"
          ]
        }
      ]
    },
    {
      "cell_type": "markdown",
      "source": [
        "### Operações com listas"
      ],
      "metadata": {
        "id": "GKkmINPpksvy"
      }
    },
    {
      "cell_type": "markdown",
      "source": [
        "#### Adicionar elementos à lista\n",
        "\n",
        "append(): Adiciona um elemento ao final da lista."
      ],
      "metadata": {
        "id": "GTb06QCZk3ij"
      }
    },
    {
      "cell_type": "code",
      "source": [
        "frutas = [\"maçã\", \"banana\", \"laranja\"]\n",
        "\n",
        "frutas.append(\"morango\")  # Adiciona \"morango\" ao final da lista\n",
        "\n",
        "print(frutas)  # Saída: [\"maçã\", \"banana\", \"laranja\", \"morango\"]"
      ],
      "metadata": {
        "colab": {
          "base_uri": "https://localhost:8080/"
        },
        "id": "Kv9VE32Pkkcd",
        "outputId": "75055b86-5260-4dc9-ef8d-1b61e8e4b6b4"
      },
      "execution_count": null,
      "outputs": [
        {
          "output_type": "stream",
          "name": "stdout",
          "text": [
            "['maçã', 'banana', 'laranja', 'morango']\n"
          ]
        }
      ]
    },
    {
      "cell_type": "markdown",
      "source": [
        "#### Inserir elementos em uma posição específica\n",
        "\n",
        "insert(): Insere um elemento em uma posição específica da lista, deslocando os outros elementos para a direita."
      ],
      "metadata": {
        "id": "fnzbMTyVlCHt"
      }
    },
    {
      "cell_type": "code",
      "source": [
        "frutas = [\"maçã\", \"banana\", \"laranja\"]\n",
        "\n",
        "frutas.insert(1, \"morango\")  # Insere \"morango\" na posição 1\n",
        "\n",
        "print(frutas)  # Saída: [\"maçã\", \"morango\", \"banana\", \"laranja\"]"
      ],
      "metadata": {
        "colab": {
          "base_uri": "https://localhost:8080/"
        },
        "id": "FGC2pjixk__4",
        "outputId": "9833c3a2-1a18-43f9-b287-af7d9ad9e9d3"
      },
      "execution_count": null,
      "outputs": [
        {
          "output_type": "stream",
          "name": "stdout",
          "text": [
            "['maçã', 'morango', 'banana', 'laranja']\n"
          ]
        }
      ]
    },
    {
      "cell_type": "markdown",
      "source": [
        "#### Remover elementos da lista\n",
        "\n",
        "1. remove(): Remove o primeiro elemento com um valor específico da lista.\n",
        "2. pop(): Remove um elemento da lista com base em seu índice (ou o último elemento, se nenhum índice for fornecido).\n"
      ],
      "metadata": {
        "id": "au4dUEqSlIAL"
      }
    },
    {
      "cell_type": "code",
      "source": [
        "frutas = [\"maçã\", \"banana\", \"laranja\"]\n",
        "\n",
        "frutas.remove(\"banana\")  # Remove o elemento \"banana\"\n",
        "\n",
        "frutas.pop(0)  # Remove o elemento na posição 0 (primeiro elemento)\n",
        "\n",
        "print(frutas)  # Saída: [\"laranja\"]"
      ],
      "metadata": {
        "colab": {
          "base_uri": "https://localhost:8080/"
        },
        "id": "4-3i8xWGlFpr",
        "outputId": "3d24cc79-26ed-4f93-f4cb-7599a8635b6c"
      },
      "execution_count": null,
      "outputs": [
        {
          "output_type": "stream",
          "name": "stdout",
          "text": [
            "['laranja']\n"
          ]
        }
      ]
    },
    {
      "cell_type": "markdown",
      "source": [
        "#### Outras operações com listas\n",
        "\n",
        "1. len(): Retorna o tamanho da lista (número de elementos).\n",
        "2. count(): Retorna o número de ocorrências de um elemento na lista.\n"
      ],
      "metadata": {
        "id": "d7LmQqNrlVzq"
      }
    },
    {
      "cell_type": "code",
      "source": [
        "numeros = [1, 2, 3, 2, 4, 2, 5]\n",
        "\n",
        "tamanho_lista = len(numeros)  # Tamanho da lista: 7\n",
        "\n",
        "numero_dois_ocorrencias = numeros.count(2)  # Número de ocorrências do elemento 2: 3\n",
        "\n",
        "print(tamanho_lista)\n",
        "print(numero_dois_ocorrencias)"
      ],
      "metadata": {
        "colab": {
          "base_uri": "https://localhost:8080/"
        },
        "id": "4SnyTAhwlNG7",
        "outputId": "3a270c57-76a2-45b8-b655-6121fd720e95"
      },
      "execution_count": null,
      "outputs": [
        {
          "output_type": "stream",
          "name": "stdout",
          "text": [
            "7\n",
            "3\n"
          ]
        }
      ]
    },
    {
      "cell_type": "markdown",
      "source": [
        "#### Slicing (Fatiamento) de listas\n",
        "\n",
        "É possível obter uma parte específica da lista usando a técnica de slicing. Isso nos permite criar sub-listas."
      ],
      "metadata": {
        "id": "7mQwmeSTliuo"
      }
    },
    {
      "cell_type": "code",
      "source": [
        "numeros = [1, 2, 3, 4, 5, 6, 7, 8, 9, 10]\n",
        "\n",
        "# Obtendo uma sub-lista dos elementos do índice 2 ao 5 (exclusivo)\n",
        "sub_lista = numeros[2:5]  # Saída: [3, 4, 5]\n",
        "\n",
        "# Obtendo uma sub-lista dos elementos do início até o índice 4 (exclusivo)\n",
        "sub_lista_inicio = numeros[:4]  # Saída: [1, 2, 3, 4]\n",
        "\n",
        "# Obtendo uma sub-lista dos elementos do índice 5 até o final\n",
        "sub_lista_fim = numeros[5:]  # Saída: [6, 7, 8, 9, 10]\n",
        "\n",
        "print(sub_lista)\n",
        "print(sub_lista_inicio)\n",
        "print(sub_lista_fim)"
      ],
      "metadata": {
        "colab": {
          "base_uri": "https://localhost:8080/"
        },
        "id": "rWPGRwpDlgqg",
        "outputId": "38e77b72-ad27-4ca7-d44d-4687c3bdd547"
      },
      "execution_count": null,
      "outputs": [
        {
          "output_type": "stream",
          "name": "stdout",
          "text": [
            "[3, 4, 5]\n",
            "[1, 2, 3, 4]\n",
            "[6, 7, 8, 9, 10]\n"
          ]
        }
      ]
    },
    {
      "cell_type": "markdown",
      "source": [
        "### Iterando sobre uma lista\n",
        "\n",
        "Você pode usar loops para percorrer os elementos de uma lista e realizar operações em cada elemento."
      ],
      "metadata": {
        "id": "ASq_5mWol3at"
      }
    },
    {
      "cell_type": "code",
      "source": [
        "frutas = [\"maçã\", \"banana\", \"laranja\"]\n",
        "\n",
        "for fruta in frutas:\n",
        "    print(fruta)"
      ],
      "metadata": {
        "colab": {
          "base_uri": "https://localhost:8080/"
        },
        "id": "jRb3SAKOly9t",
        "outputId": "7f9afa31-3f4f-4210-ce43-1fd7cbb37f11"
      },
      "execution_count": null,
      "outputs": [
        {
          "output_type": "stream",
          "name": "stdout",
          "text": [
            "maçã\n",
            "banana\n",
            "laranja\n"
          ]
        }
      ]
    },
    {
      "cell_type": "code",
      "source": [
        "frutas = [\"maçã\", \"banana\", \"laranja\"]\n",
        "\n",
        "for i in range(len(frutas)):\n",
        "    print(frutas[i])\n"
      ],
      "metadata": {
        "colab": {
          "base_uri": "https://localhost:8080/"
        },
        "id": "68cOX4_ol-sg",
        "outputId": "4fc2042b-2a87-4f96-c0c2-4d30b109004e"
      },
      "execution_count": null,
      "outputs": [
        {
          "output_type": "stream",
          "name": "stdout",
          "text": [
            "maçã\n",
            "banana\n",
            "laranja\n"
          ]
        }
      ]
    },
    {
      "cell_type": "markdown",
      "source": [
        "### Listas Aninhadas (Listas de listas)\n",
        "\n"
      ],
      "metadata": {
        "id": "Z5wcgRdMmJ2B"
      }
    },
    {
      "cell_type": "code",
      "source": [
        "'''\n",
        "matriz\n",
        "1 2 3\n",
        "4 5 6\n",
        "7 8 9\n",
        "'''\n",
        "matriz = [[1, 2, 3], [4, 5, 6], [7, 8, 9]]\n",
        "\n",
        "\n",
        "primeira_linha = matriz[0]  # Primeira linha: [1, 2, 3]\n",
        "\n",
        "primeiro_elemento_segunda_linha = matriz[1][0]  # Primeiro elemento da segunda linha: 4\n",
        "\n",
        "print(primeira_linha)\n",
        "print(primeiro_elemento_segunda_linha)"
      ],
      "metadata": {
        "colab": {
          "base_uri": "https://localhost:8080/"
        },
        "id": "Kwf6IAujl7Jh",
        "outputId": "3d0099ab-5545-4551-da84-6764b0071f62"
      },
      "execution_count": null,
      "outputs": [
        {
          "output_type": "stream",
          "name": "stdout",
          "text": [
            "[1, 2, 3]\n",
            "4\n"
          ]
        }
      ]
    },
    {
      "cell_type": "markdown",
      "source": [
        "### Mutabilidade\n",
        "\n",
        "As listas em Python são mutáveis, o que significa que você pode modificar seus elementos após a criação."
      ],
      "metadata": {
        "id": "xQL4BQ_zmkiJ"
      }
    },
    {
      "cell_type": "code",
      "source": [
        "frutas = [\"maçã\", \"banana\", \"laranja\"]\n",
        "\n",
        "frutas[1] = \"morango\"  # Substitui \"banana\" por \"morango\"\n",
        "\n",
        "print(frutas)  # Saída: [\"maçã\", \"morango\", \"laranja\"]"
      ],
      "metadata": {
        "colab": {
          "base_uri": "https://localhost:8080/"
        },
        "id": "Q2Gt5MfpmXWp",
        "outputId": "96af54e6-b640-429b-d2e7-f1afa6caf9b3"
      },
      "execution_count": null,
      "outputs": [
        {
          "output_type": "stream",
          "name": "stdout",
          "text": [
            "['maçã', 'morango', 'laranja']\n"
          ]
        }
      ]
    },
    {
      "cell_type": "markdown",
      "source": [
        "### List Comprehension\n",
        "\n",
        "List comprehension é uma construção sintática do Python que nos permite criar listas de forma concisa e legível. Com list comprehension, podemos aplicar uma expressão a cada elemento de uma sequência ou de outra lista, filtrar elementos com base em uma condição e criar uma nova lista com os resultados. Essa técnica é especialmente útil quando queremos transformar ou filtrar os elementos de uma lista existente para criar uma nova lista.\n",
        "\n",
        "\n",
        "* nova_lista = [expressão for elemento in sequência if condição]\n",
        "\n",
        "1. expressão: É a expressão que será aplicada a cada elemento da sequência para criar o elemento correspondente na nova lista.\n",
        "2. elemento: É a variável que representa cada elemento da sequência original durante o loop.\n",
        "3. sequência: É a sequência de elementos (como lista, tupla ou string) sobre a qual a compreensão de lista será aplicada.\n",
        "4. condição (opcional): É uma expressão booleana que permite filtrar os elementos da sequência. Apenas os elementos que atendem à condição são incluídos na nova lista.\n"
      ],
      "metadata": {
        "id": "GyUWz-f1v8z1"
      }
    },
    {
      "cell_type": "code",
      "source": [
        "quadrados = [x ** 2 for x in range(1, 6)]\n",
        "print(quadrados)  # Saída: [1, 4, 9, 16, 25]\n"
      ],
      "metadata": {
        "colab": {
          "base_uri": "https://localhost:8080/"
        },
        "id": "i3_JuLGEv_d0",
        "outputId": "9332e364-0280-4820-e9c4-e3f8992edb4a"
      },
      "execution_count": null,
      "outputs": [
        {
          "output_type": "stream",
          "name": "stdout",
          "text": [
            "[1, 4, 9, 16, 25]\n"
          ]
        }
      ]
    },
    {
      "cell_type": "code",
      "source": [
        "numeros = [1, 2, 3, 4, 5]\n",
        "\n",
        "nova_lista = [x if x % 2 == 0 else \"ímpar\" for x in numeros]\n",
        "print(nova_lista)  # Saída: [\"ímpar\", 2, \"ímpar\", 4, \"ímpar\"]\n"
      ],
      "metadata": {
        "colab": {
          "base_uri": "https://localhost:8080/"
        },
        "id": "HGxftilSwgeW",
        "outputId": "11f76f2c-4a78-439b-9438-2897b4096974"
      },
      "execution_count": null,
      "outputs": [
        {
          "output_type": "stream",
          "name": "stdout",
          "text": [
            "['ímpar', 2, 'ímpar', 4, 'ímpar']\n"
          ]
        }
      ]
    },
    {
      "cell_type": "code",
      "source": [
        "nomes = [\"Maria\", \"João\", \"Pedro\"]\n",
        "\n",
        "nomes_maiusculos = [nome.upper() for nome in nomes]\n",
        "print(nomes_maiusculos)  # Saída: [\"MARIA\", \"JOÃO\", \"PEDRO\"]\n"
      ],
      "metadata": {
        "colab": {
          "base_uri": "https://localhost:8080/"
        },
        "id": "W-Xf_czUwjcp",
        "outputId": "ea273600-1d19-4879-d5eb-5e8f5944cdb7"
      },
      "execution_count": null,
      "outputs": [
        {
          "output_type": "stream",
          "name": "stdout",
          "text": [
            "['MARIA', 'JOÃO', 'PEDRO']\n"
          ]
        }
      ]
    },
    {
      "cell_type": "code",
      "source": [
        "numeros = [1, 2, 3]\n",
        "letras = ['a', 'b', 'c']\n",
        "\n",
        "## double for\n",
        "combinacoes = [str(numero) + letra for numero in numeros for letra in letras]\n",
        "\n",
        "print(combinacoes) # Saída: ['1a', '1b', '1c', '2a', '2b', '2c', '3a', '3b', '3c']"
      ],
      "metadata": {
        "colab": {
          "base_uri": "https://localhost:8080/"
        },
        "id": "kjon6g9xwxns",
        "outputId": "075b133c-ecc6-40b6-bee7-d65716a9cf2c"
      },
      "execution_count": null,
      "outputs": [
        {
          "output_type": "stream",
          "name": "stdout",
          "text": [
            "['1a', '1b', '1c', '2a', '2b', '2c', '3a', '3b', '3c']\n"
          ]
        }
      ]
    },
    {
      "cell_type": "markdown",
      "source": [
        "## Tuplas\n",
        "\n",
        "Uma tupla é uma estrutura de dados em Python semelhante a uma lista, mas com uma diferença crucial: ela é imutável, ou seja, uma vez criada, não pode ser alterada. Isso significa que você não pode adicionar, remover ou modificar elementos em uma tupla após a sua criação. As tuplas são usadas para armazenar um conjunto de valores que não devem ser alterados durante a execução do programa"
      ],
      "metadata": {
        "id": "zBxe4B94pBXC"
      }
    },
    {
      "cell_type": "markdown",
      "source": [
        "### Criando uma tupla\n",
        "\n",
        "Para criar uma tupla em Python, você pode usar parênteses () ou, em alguns casos, simplesmente separar os elementos por vírgulas sem utilizar parênteses."
      ],
      "metadata": {
        "id": "Le2esay5pFUv"
      }
    },
    {
      "cell_type": "code",
      "source": [
        "# Criando uma tupla usando parênteses\n",
        "tupla1 = (1, 2, 3, 4, 5)\n",
        "\n",
        "# Criando uma tupla sem parênteses\n",
        "tupla2 = 10, 20, 30\n",
        "\n",
        "# Criando uma tupla com elementos de tipos diferentes\n",
        "tupla3 = (10, \"Ana\", 3.14, True)"
      ],
      "metadata": {
        "id": "RjHOdibBmn09"
      },
      "execution_count": null,
      "outputs": []
    },
    {
      "cell_type": "markdown",
      "source": [
        "### Acessando elementos da tupla\n",
        "\n",
        "Assim como nas listas, você pode acessar elementos específicos de uma tupla usando índices. Os índices em Python também começam a partir do zero."
      ],
      "metadata": {
        "id": "5p__2de3pS1F"
      }
    },
    {
      "cell_type": "code",
      "source": [
        "tupla = (10, 20, 30, 40, 50)\n",
        "\n",
        "primeiro_elemento = tupla[0]   # Primeiro elemento: 10\n",
        "segundo_elemento = tupla[1]    # Segundo elemento: 20\n",
        "ultimo_elemento = tupla[-1]     # Último elemento: 50 (índice negativo representa contagem a partir do final)\n",
        "\n",
        "print(primeiro_elemento)\n",
        "print(segundo_elemento)\n",
        "print(ultimo_elemento)"
      ],
      "metadata": {
        "id": "Y8yChBwPpAmq",
        "outputId": "08b4227a-2bc3-40f6-bc3d-1574394f6d70",
        "colab": {
          "base_uri": "https://localhost:8080/"
        }
      },
      "execution_count": null,
      "outputs": [
        {
          "output_type": "stream",
          "name": "stdout",
          "text": [
            "10\n",
            "20\n",
            "50\n"
          ]
        }
      ]
    },
    {
      "cell_type": "markdown",
      "source": [
        "### Diferenças entre listas e tuplas\n",
        "\n",
        "1. Mutabilidade:\n",
        "\n",
        "* Listas: São mutáveis, o que significa que você pode adicionar, remover ou modificar elementos após a criação da lista.\n",
        "* Tuplas: São imutáveis, uma vez criadas, não podem ser alteradas.\n",
        "\n",
        "2. Sintaxe:\n",
        "\n",
        "* Listas: Utilizam colchetes [] para criar e conter os elementos.\n",
        "* Tuplas: Utilizam parênteses () ou apenas separação por vírgulas para criar e conter os elementos.\n"
      ],
      "metadata": {
        "id": "VLAzg1typiiR"
      }
    },
    {
      "cell_type": "code",
      "source": [
        "def coordenadas_ponto():\n",
        "    x = 10\n",
        "    y = 20\n",
        "    return x, y\n",
        "\n",
        "# Retornando uma tupla com as coordenadas de um ponto\n",
        "coordenadas = coordenadas_ponto()\n",
        "print(coordenadas)  # Saída: (10, 20)\n",
        "\n",
        "# Desempacotando a tupla em duas variáveis\n",
        "x, y = coordenadas\n",
        "print(f\"A coordenada x é: {x}, e a coordenada y é: {y}\")  # Saída: \"A coordenada x é: 10, e a coordenada y é: 20\""
      ],
      "metadata": {
        "colab": {
          "base_uri": "https://localhost:8080/"
        },
        "id": "QzTNKDIXp0nb",
        "outputId": "636cc4e1-74c4-4b69-d721-854c5d518637"
      },
      "execution_count": null,
      "outputs": [
        {
          "output_type": "stream",
          "name": "stdout",
          "text": [
            "(10, 20)\n",
            "A coordenada x é: 10, e a coordenada y é: 20\n"
          ]
        }
      ]
    },
    {
      "cell_type": "markdown",
      "source": [
        "### Quando usar listas ou tuplas\n",
        "\n",
        "1. Use listas quando precisar de uma coleção de elementos mutável que pode ser alterada após a criação.\n",
        "\n",
        "2. Use tuplas quando quiser garantir que os elementos não serão modificados após a criação ou quando precisar de uma estrutura de dados mais leve e rápida (tuplas são mais eficientes em termos de espaço e desempenho do que listas)."
      ],
      "metadata": {
        "id": "H0yOVt5gqBWj"
      }
    },
    {
      "cell_type": "markdown",
      "source": [
        "## Dicionários\n",
        "\n",
        "Em Python, os dicionários são uma estrutura de dados que nos permite armazenar informações em pares de chave-valor. Dicionários são úteis para mapear elementos e acessar seus valores de forma eficiente. Cada chave em um dicionário é única e está associada a um valor específico."
      ],
      "metadata": {
        "id": "hnjmyT0cqx-j"
      }
    },
    {
      "cell_type": "markdown",
      "source": [
        "### Criando um dicionário\n",
        "\n",
        "Para criar um dicionário em Python, usamos chaves {} e separamos as chaves e os valores por dois pontos :."
      ],
      "metadata": {
        "id": "r4G_1zVZrg8i"
      }
    },
    {
      "cell_type": "code",
      "source": [
        "# Criando um dicionário com nomes e idades\n",
        "pessoas = {\"João\": 25, \"Maria\": 30, \"Pedro\": 22}\n",
        "\n",
        "# Criando um dicionário vazio\n",
        "dados = {}"
      ],
      "metadata": {
        "id": "CqPexZOzqFtE"
      },
      "execution_count": null,
      "outputs": []
    },
    {
      "cell_type": "markdown",
      "source": [
        "### Acessando elementos do dicionário\n",
        "\n",
        "Para acessar um valor em um dicionário, você pode usar a chave correspondente entre colchetes []."
      ],
      "metadata": {
        "id": "MokS1lpErlRs"
      }
    },
    {
      "cell_type": "code",
      "source": [
        "pessoas = {\"João\": 25, \"Maria\": 30, \"Pedro\": 22}\n",
        "\n",
        "idade_joao = pessoas[\"João\"]\n",
        "print(idade_joao)  # Saída: 25"
      ],
      "metadata": {
        "colab": {
          "base_uri": "https://localhost:8080/"
        },
        "id": "C8hmV0uxrkJr",
        "outputId": "2eb78a74-05ba-4d84-fd31-2202149546df"
      },
      "execution_count": null,
      "outputs": [
        {
          "output_type": "stream",
          "name": "stdout",
          "text": [
            "25\n"
          ]
        }
      ]
    },
    {
      "cell_type": "markdown",
      "source": [
        "### Adicionando e modificando elementos\n",
        "\n",
        "Você pode adicionar novos pares chave-valor ao dicionário ou modificar o valor associado a uma chave existente.\n"
      ],
      "metadata": {
        "id": "4zfNLtsCrzCp"
      }
    },
    {
      "cell_type": "code",
      "source": [
        "pessoas = {\"João\": 25, \"Maria\": 30}\n",
        "\n",
        "# Adicionando um novo elemento ao dicionário\n",
        "pessoas[\"Pedro\"] = 22\n",
        "\n",
        "# Modificando o valor associado à chave \"Maria\"\n",
        "pessoas[\"Maria\"] = 28\n",
        "\n",
        "print(pessoas)  # Saída: {\"João\": 25, \"Maria\": 28, \"Pedro\": 22}"
      ],
      "metadata": {
        "colab": {
          "base_uri": "https://localhost:8080/"
        },
        "id": "5aVAI_hnruyh",
        "outputId": "5e66b9cd-efff-49a5-de44-c506136dac80"
      },
      "execution_count": null,
      "outputs": [
        {
          "output_type": "stream",
          "name": "stdout",
          "text": [
            "{'João': 25, 'Maria': 28, 'Pedro': 22}\n"
          ]
        }
      ]
    },
    {
      "cell_type": "markdown",
      "source": [
        "### Removendo elementos do dicionário\n",
        "\n",
        "Você pode remover um par chave-valor do dicionário usando o comando del ou o método pop()."
      ],
      "metadata": {
        "id": "seB4Y8Uxr8W7"
      }
    },
    {
      "cell_type": "code",
      "source": [
        "pessoas = {\"João\": 25, \"Maria\": 30, \"Pedro\": 22}\n",
        "\n",
        "# Removendo um elemento usando a chave\n",
        "del pessoas[\"Maria\"]\n",
        "\n",
        "# Removendo um elemento usando o método pop() e obtendo seu valor\n",
        "idade_pedro = pessoas.pop(\"Pedro\")\n",
        "\n",
        "print(pessoas)  # Saída: {\"João\": 25}\n",
        "print(idade_pedro)  # Saída: 22"
      ],
      "metadata": {
        "colab": {
          "base_uri": "https://localhost:8080/"
        },
        "id": "UpndRwy4r2TB",
        "outputId": "2393770c-e545-46f7-a36e-50884981eecf"
      },
      "execution_count": null,
      "outputs": [
        {
          "output_type": "stream",
          "name": "stdout",
          "text": [
            "{'João': 25}\n",
            "22\n"
          ]
        }
      ]
    },
    {
      "cell_type": "markdown",
      "source": [
        "### Verificando se uma chave está no dicionário\n",
        "\n",
        "Você pode verificar se uma chave específica está presente no dicionário usando o operador in."
      ],
      "metadata": {
        "id": "NTWpQtE2sF-8"
      }
    },
    {
      "cell_type": "code",
      "source": [
        "pessoas = {\"João\": 25, \"Maria\": 30}\n",
        "\n",
        "if \"João\" in pessoas:\n",
        "    print(\"João está no dicionário.\")\n",
        "\n",
        "if \"Carlos\" not in pessoas:\n",
        "    print(\"Carlos não está no dicionário.\")\n"
      ],
      "metadata": {
        "colab": {
          "base_uri": "https://localhost:8080/"
        },
        "id": "3YsIMCYqsBiO",
        "outputId": "3244e59b-4117-4d62-83ec-e24015edb893"
      },
      "execution_count": null,
      "outputs": [
        {
          "output_type": "stream",
          "name": "stdout",
          "text": [
            "João está no dicionário.\n",
            "Carlos não está no dicionário.\n"
          ]
        }
      ]
    },
    {
      "cell_type": "markdown",
      "source": [
        "### Iterando sobre um dicionário\n",
        "\n",
        "Você pode usar loops para iterar sobre as chaves, valores ou pares chave-valor do dicionário.\n",
        "\n"
      ],
      "metadata": {
        "id": "ynwqiVkNsMyb"
      }
    },
    {
      "cell_type": "code",
      "source": [
        "pessoas = {\"João\": 25, \"Maria\": 30, \"Pedro\": 22}\n",
        "\n",
        "# Iterando sobre as chaves\n",
        "for chave in pessoas:\n",
        "    print(chave)\n"
      ],
      "metadata": {
        "colab": {
          "base_uri": "https://localhost:8080/"
        },
        "id": "ltf_TazqsKUz",
        "outputId": "ba9a03fc-dd0b-4cbc-b8a1-ab0e26c99abc"
      },
      "execution_count": null,
      "outputs": [
        {
          "output_type": "stream",
          "name": "stdout",
          "text": [
            "João\n",
            "Maria\n",
            "Pedro\n"
          ]
        }
      ]
    },
    {
      "cell_type": "code",
      "source": [
        "# Iterando sobre os valores\n",
        "for valor in pessoas.values():\n",
        "    print(valor)\n"
      ],
      "metadata": {
        "colab": {
          "base_uri": "https://localhost:8080/"
        },
        "id": "Jg_fMHlLsRXo",
        "outputId": "9ec2c404-ff4f-4dae-8ca2-dc526f2f0b07"
      },
      "execution_count": null,
      "outputs": [
        {
          "output_type": "stream",
          "name": "stdout",
          "text": [
            "25\n",
            "30\n",
            "22\n"
          ]
        }
      ]
    },
    {
      "cell_type": "code",
      "source": [
        "# Iterando sobre os pares chave-valor\n",
        "for chave, valor in pessoas.items():\n",
        "    print(f\"{chave} tem {valor} anos.\")\n"
      ],
      "metadata": {
        "colab": {
          "base_uri": "https://localhost:8080/"
        },
        "id": "BF9n1okesS9X",
        "outputId": "2c9b9112-f612-4e73-edf1-2c834bf04d63"
      },
      "execution_count": null,
      "outputs": [
        {
          "output_type": "stream",
          "name": "stdout",
          "text": [
            "João tem 25 anos.\n",
            "Maria tem 30 anos.\n",
            "Pedro tem 22 anos.\n"
          ]
        }
      ]
    },
    {
      "cell_type": "markdown",
      "source": [
        "### Dicionários com tipos de valores diferentes\n",
        "\n",
        "Os valores de um dicionário podem ser de tipos diferentes, incluindo listas, tuplas, outros dicionários e até funções."
      ],
      "metadata": {
        "id": "fZrAvJSFsWKa"
      }
    },
    {
      "cell_type": "code",
      "source": [
        "# Dicionário com tipos diferentes de valores\n",
        "dados = {\n",
        "    \"nome\": \"João\",\n",
        "    \"idade\": 25,\n",
        "    \"notas\": [8, 7, 9],\n",
        "    \"endereco\": {\"rua\": \"Rua A\", \"cidade\": \"São Paulo\"},\n",
        "    \"é_estudante\": True,\n",
        "    \"saudacao\": lambda nome: f\"Olá, {nome}!\"\n",
        "}\n",
        "\n",
        "print(dados[\"nome\"])  # Saída: \"João\"\n",
        "print(dados[\"notas\"])  # Saída: [8, 7, 9]\n",
        "print(dados[\"endereco\"][\"cidade\"])  # Saída: \"São Paulo\"\n",
        "print(dados[\"saudacao\"](\"Maria\"))  # Saída: \"Olá, Maria!\"\n"
      ],
      "metadata": {
        "colab": {
          "base_uri": "https://localhost:8080/"
        },
        "id": "J0MB8ZqasUAp",
        "outputId": "d39d6cd8-b7ed-4e95-f1e6-6327af5f7e34"
      },
      "execution_count": null,
      "outputs": [
        {
          "output_type": "stream",
          "name": "stdout",
          "text": [
            "João\n",
            "[8, 7, 9]\n",
            "São Paulo\n",
            "Olá, Maria!\n"
          ]
        }
      ]
    },
    {
      "cell_type": "markdown",
      "source": [
        "## Manipulação de Arquivos\n",
        "\n",
        "A manipulação de arquivos em Python é uma tarefa comum e importante para ler dados de arquivos existentes, gravar dados em novos arquivos ou modificar arquivos já existentes.\n",
        "\n",
        "No Python, é uma prática comum usar o bloco with ao manipular arquivos. O bloco with garante que o arquivo seja fechado automaticamente após o término das operações, mesmo em caso de exceções durante a execução do código.\n"
      ],
      "metadata": {
        "id": "t6y76RMyCqsl"
      }
    },
    {
      "cell_type": "markdown",
      "source": [
        "### Escrita em Arquivos\n",
        "\n",
        "Para escrever em um arquivo em Python, podemos utilizar a função open() para abrir o arquivo em modo de escrita ('w') e, em seguida, usar métodos para escrever o conteúdo no arquivo."
      ],
      "metadata": {
        "id": "fr4sH59VDGbJ"
      }
    },
    {
      "cell_type": "code",
      "source": [
        "# Abrir o arquivo em modo de escrita ('w')\n",
        "with open('exemplo.txt', 'w') as arquivo:\n",
        "    arquivo.write(\"Este é um novo arquivo em Python.\\n\")\n",
        "    arquivo.write(\"Estamos aprendendo manipulação de arquivos!\\n\")\n"
      ],
      "metadata": {
        "id": "BQ0wBLcYDJn4"
      },
      "execution_count": null,
      "outputs": []
    },
    {
      "cell_type": "markdown",
      "source": [
        "### Leitura de Arquivos\n",
        "\n",
        "Para ler o conteúdo de um arquivo em Python, podemos utilizar a função open() para abrir o arquivo em modo de leitura ('r') e, em seguida, usar métodos para ler o conteúdo do arquivo.\n",
        "\n"
      ],
      "metadata": {
        "id": "VnwIEovjDAZE"
      }
    },
    {
      "cell_type": "code",
      "source": [
        "# Abrir o arquivo em modo de leitura ('r')\n",
        "with open('exemplo.txt', 'r') as arquivo:\n",
        "    conteudo = arquivo.read()\n",
        "    print(conteudo)\n"
      ],
      "metadata": {
        "colab": {
          "base_uri": "https://localhost:8080/"
        },
        "id": "e0R8BycCCxNJ",
        "outputId": "3b3841d0-cc01-412b-e1ec-9b1b5450dea2"
      },
      "execution_count": null,
      "outputs": [
        {
          "output_type": "stream",
          "name": "stdout",
          "text": [
            "Este é um novo arquivo em Python.\n",
            "Estamos aprendendo manipulação de arquivos!\n",
            "\n"
          ]
        }
      ]
    },
    {
      "cell_type": "markdown",
      "source": [
        "### Anexar Conteúdo a um Arquivo\n",
        "\n",
        "Para adicionar conteúdo a um arquivo existente em Python, podemos utilizar a função open() com o modo de anexar ('a') e, em seguida, usar métodos para escrever o conteúdo no arquivo."
      ],
      "metadata": {
        "id": "bUxq6VZADVa3"
      }
    },
    {
      "cell_type": "code",
      "source": [
        "# Abrir o arquivo em modo de anexar ('a')\n",
        "with open('exemplo.txt', 'a') as arquivo:\n",
        "    arquivo.write(\"Essa linha foi adicionada ao arquivo.\")\n",
        "\n",
        "\n",
        "with open('exemplo.txt', 'r') as arquivo:\n",
        "    conteudo = arquivo.read()\n",
        "    print(conteudo)"
      ],
      "metadata": {
        "colab": {
          "base_uri": "https://localhost:8080/"
        },
        "id": "IIOZODoBDX8t",
        "outputId": "c75a4936-8d71-4333-fb24-c1413d22cdab"
      },
      "execution_count": null,
      "outputs": [
        {
          "output_type": "stream",
          "name": "stdout",
          "text": [
            "Este é um novo arquivo em Python.\n",
            "Estamos aprendendo manipulação de arquivos!\n",
            "Essa linha foi adicionada ao arquivo.\n"
          ]
        }
      ]
    },
    {
      "cell_type": "markdown",
      "source": [
        "## Tratamento de exceções\n",
        "\n",
        " tratamento de erros e exceções é uma técnica essencial em Python para lidar com situações inesperadas que podem causar falhas no programa. O bloco try-except-finally é usado para capturar e tratar exceções que podem ocorrer durante a execução do código, permitindo que o programa lide com os erros de forma adequada."
      ],
      "metadata": {
        "id": "TwTnN9bIDxvU"
      }
    },
    {
      "cell_type": "markdown",
      "source": [
        "### Try-Except\n",
        "\n",
        "O bloco try-except é usado para envolver o código que pode gerar exceções. Se uma exceção é lançada dentro do bloco try, o programa irá interromper a execução do bloco try e passar para o bloco except, onde você pode lidar com o erro de forma controlada, sem interromper o programa.\n"
      ],
      "metadata": {
        "id": "Sg7VAJ3-D2XB"
      }
    },
    {
      "cell_type": "markdown",
      "source": [
        "### Finally\n",
        "\n",
        "O bloco finally é opcional e é usado para executar código que deve ser executado independentemente se ocorreu uma exceção ou não dentro do bloco try."
      ],
      "metadata": {
        "id": "K0NwdBl6D6ox"
      }
    },
    {
      "cell_type": "code",
      "source": [
        "def dividir_por_zero(numero, divisor):\n",
        "    try:\n",
        "        resultado = numero / divisor\n",
        "        return resultado\n",
        "    except ZeroDivisionError:\n",
        "        print(\"Erro: Divisão por zero não é permitida.\")\n",
        "    finally:\n",
        "        print(\"Bloco finally sempre será executado.\")\n",
        "\n",
        "# Testando a função com tratamento de erro\n",
        "numero_digitado = int(input(\"Digite um número inteiro: \"))\n",
        "resultado_divisao = dividir_por_zero(numero_digitado, 0)\n",
        "print(f\"Resultado da divisão: {resultado_divisao}\")\n"
      ],
      "metadata": {
        "colab": {
          "base_uri": "https://localhost:8080/"
        },
        "id": "IKO_Ush5D4Sw",
        "outputId": "c656055d-16f2-4d0c-f0e1-baa0c8b65f84"
      },
      "execution_count": null,
      "outputs": [
        {
          "output_type": "stream",
          "name": "stdout",
          "text": [
            "Digite um número inteiro: 1\n",
            "Erro: Divisão por zero não é permitida.\n",
            "Bloco finally sempre será executado.\n",
            "Resultado da divisão: None\n"
          ]
        }
      ]
    },
    {
      "cell_type": "markdown",
      "source": [
        "## Programação Orientada a Objetos (POO)\n",
        "\n",
        "A Programação Orientada a Objetos (POO) é um paradigma de programação que organiza o código em torno de objetos, que são instâncias de classes. Essa abordagem permite modelar problemas do mundo real de forma mais natural e estruturada, tornando o código mais modular, reutilizável e fácil de manter."
      ],
      "metadata": {
        "id": "in_YHAocy3Hm"
      }
    },
    {
      "cell_type": "markdown",
      "source": [
        "### Classes e objetos\n",
        "\n",
        "1. Classes:\n",
        "Uma classe é uma estrutura que define um tipo de objeto, descrevendo suas características (atributos) e comportamentos (métodos). Ela funciona como um \"modelo\" ou \"planta\" para criar objetos. As classes são definidas usando a palavra-chave class seguida pelo nome da classe, que por convenção, deve começar com uma letra maiúscula.\n",
        "\n",
        "2. Objetos:\n",
        "Um objeto é uma instância de uma classe. É uma representação concreta do tipo definido pela classe. Cada objeto criado a partir de uma classe tem seus próprios valores para os atributos da classe. Eles são criados usando a sintaxe nome_da_classe().\n",
        "\n",
        "3. Atributos:\n",
        "Os atributos são características ou propriedades dos objetos, que são armazenadas dentro deles e definem seu estado. São representados por variáveis dentro da classe e podem ter valores diferentes em cada objeto.\n",
        "\n",
        "4. Métodos:\n",
        "Os métodos são as ações ou comportamentos dos objetos, que definem as operações que podem ser realizadas pelos objetos da classe. Eles são funções dentro da classe que atuam sobre os atributos do objeto ou executam tarefas específicas.\n",
        "\n"
      ],
      "metadata": {
        "id": "F65UBcq3zWkD"
      }
    },
    {
      "cell_type": "code",
      "source": [
        "# Definição de uma classe \"Pessoa\"\n",
        "class Pessoa:\n",
        "    def __init__(self, nome, idade):\n",
        "        self.nome = nome\n",
        "        self.idade = idade\n",
        "\n",
        "    def cumprimentar(self):\n",
        "        print(f\"Olá, meu nome é {self.nome} e tenho {self.idade} anos.\")\n",
        "\n",
        "# Criando objetos da classe \"Pessoa\"\n",
        "pessoa1 = Pessoa(\"João\", 30)\n",
        "pessoa2 = Pessoa(\"Maria\", 25)\n",
        "\n",
        "# Chamando o método cumprimentar() nos objetos\n",
        "pessoa1.cumprimentar()  # Saída: \"Olá, meu nome é João e tenho 30 anos.\"\n",
        "pessoa2.cumprimentar()  # Saída: \"Olá, meu nome é Maria e tenho 25 anos.\"\n"
      ],
      "metadata": {
        "colab": {
          "base_uri": "https://localhost:8080/"
        },
        "id": "fwnyoorFsY99",
        "outputId": "49283ebc-2850-4706-9f44-8c063021b1cd"
      },
      "execution_count": null,
      "outputs": [
        {
          "output_type": "stream",
          "name": "stdout",
          "text": [
            "Olá, meu nome é João e tenho 30 anos.\n",
            "Olá, meu nome é Maria e tenho 25 anos.\n"
          ]
        }
      ]
    },
    {
      "cell_type": "markdown",
      "source": [
        "### Herança e Polimorfismo\n",
        "\n",
        "1. Herança é um conceito em POO que permite que uma classe herde os atributos e métodos de outra classe. A classe que é herdada é chamada de classe pai ou superclasse, e a classe que herda é chamada de classe filha ou subclasse.\n",
        "\n",
        "2. O polimorfismo é um conceito relacionado à herança, que permite que objetos de diferentes classes sejam tratados de forma uniforme quando possuem métodos com o mesmo nome."
      ],
      "metadata": {
        "id": "3Vi7USA60ER7"
      }
    },
    {
      "cell_type": "code",
      "source": [
        "# Classe pai \"Animal\"\n",
        "class Animal:\n",
        "    def som(self):\n",
        "        pass\n",
        "\n",
        "# Classes filhas \"Cachorro\" e \"Gato\" herdando de \"Animal\"\n",
        "class Cachorro(Animal):\n",
        "    def som(self):\n",
        "        print(\"O cachorro faz au au!\")\n",
        "\n",
        "class Gato(Animal):\n",
        "    def som(self):\n",
        "        print(\"O gato faz miau!\")\n",
        "\n",
        "# Função que recebe um objeto \"Animal\" e chama o método \"som\"\n",
        "def emitir_som(animal):\n",
        "    animal.som()\n",
        "\n",
        "# Criando objetos das classes filhas e chamando a função \"emitir_som\"\n",
        "cachorro = Cachorro()\n",
        "gato = Gato()\n",
        "\n",
        "emitir_som(cachorro)  # Saída: O cachorro faz au au!\n",
        "emitir_som(gato)      # Saída: O gato faz miau!"
      ],
      "metadata": {
        "colab": {
          "base_uri": "https://localhost:8080/"
        },
        "id": "ayeBdLU6zpvI",
        "outputId": "a98fc534-62ea-4c69-dfb7-276f24345362"
      },
      "execution_count": null,
      "outputs": [
        {
          "output_type": "stream",
          "name": "stdout",
          "text": [
            "O cachorro faz au au!\n",
            "O gato faz miau!\n"
          ]
        }
      ]
    },
    {
      "cell_type": "code",
      "source": [],
      "metadata": {
        "id": "wZ5Mn3_XGnXR"
      },
      "execution_count": null,
      "outputs": []
    },
    {
      "cell_type": "markdown",
      "source": [
        "### Encapsulamento e Métodos Especiais\n",
        "\n",
        "1. Encapsulamento é um conceito que permite restringir o acesso direto aos atributos de uma classe, protegendo-os de modificações não autorizadas. Em Python, isso é feito por meio de convenções, onde os atributos podem ser definidos como públicos, privados ou protegidos.\n",
        "\n",
        "2. Métodos especiais (também conhecidos como \"métodos mágicos\" ou \"dunder methods\") são métodos com nomes especiais em Python que permitem definir comportamentos específicos para as operações padrão, como adição, subtração, representação em string, entre outros.\n",
        "\n"
      ],
      "metadata": {
        "id": "_V2wkfVg0rQg"
      }
    },
    {
      "cell_type": "code",
      "source": [
        "# Definição de uma classe \"Carro\"\n",
        "class Carro:\n",
        "    def __init__(self, marca, modelo):\n",
        "        self.marca = marca\n",
        "        self.modelo = modelo\n",
        "        self.__quilometragem = 0  # Atributo privado\n",
        "\n",
        "    # Método para obter a quilometragem\n",
        "    def obter_quilometragem(self):\n",
        "        return self.__quilometragem\n",
        "\n",
        "    # Método para atualizar a quilometragem\n",
        "    def atualizar_quilometragem(self, valor):\n",
        "        if valor >= self.__quilometragem:\n",
        "            self.__quilometragem = valor\n",
        "        else:\n",
        "            print(\"A quilometragem não pode ser reduzida.\")\n",
        "\n",
        "    # Método especial para representação em string\n",
        "    def __str__(self):\n",
        "        return f\"{self.marca} {self.modelo}\"\n",
        "\n",
        "\n",
        "# Criando um objeto da classe \"Carro\"\n",
        "carro = Carro(\"Toyota\", \"Corolla\")\n",
        "\n",
        "# Obtendo e atualizando a quilometragem (acesso ao atributo privado)\n",
        "print(carro.obter_quilometragem())  # Saída: 0\n",
        "carro.atualizar_quilometragem(10000)\n",
        "print(carro.obter_quilometragem())  # Saída: 10000\n",
        "carro.atualizar_quilometragem(8000)  # Saída: \"A quilometragem não pode ser reduzida.\"\n",
        "\n",
        "# Exibindo a representação em string do objeto\n",
        "print(carro)  # Saída: \"Toyota Corolla\"\n"
      ],
      "metadata": {
        "colab": {
          "base_uri": "https://localhost:8080/"
        },
        "id": "ODVecyuL0ynH",
        "outputId": "55f9a283-46ed-490d-e076-68f4ede1d538"
      },
      "execution_count": null,
      "outputs": [
        {
          "output_type": "stream",
          "name": "stdout",
          "text": [
            "0\n",
            "10000\n",
            "A quilometragem não pode ser reduzida.\n",
            "Toyota Corolla\n"
          ]
        }
      ]
    },
    {
      "cell_type": "markdown",
      "source": [
        "## Objetos básicos\n",
        "\n",
        "Em Python, tudo é um objeto, inclusive os tipos de dados básicos, como números, strings, listas e dicionários. Isso significa que, em Python, cada valor que você cria ou manipula é uma instância de um objeto com um tipo específico. Essa característica é uma das principais razões pelas quais Python é conhecido como uma linguagem orientada a objetos.\n",
        "\n",
        "Em uma linguagem orientada a objetos, os objetos são entidades que possuem atributos e comportamentos. No caso de Python, cada tipo de dado é uma classe e cada valor é uma instância dessa classe. Por exemplo, quando você cria uma variável que armazena um número inteiro, você está criando uma instância da classe int. Se você cria uma variável que armazena uma string, você está criando uma instância da classe str.\n",
        "\n",
        "Por trás dos panos, Python gerencia todos esses objetos, fornecendo métodos e funcionalidades específicas para cada tipo de dado.\n"
      ],
      "metadata": {
        "id": "6aOIca1AGIlr"
      }
    },
    {
      "cell_type": "markdown",
      "source": [
        "### Int"
      ],
      "metadata": {
        "id": "PHosRL-xGbOy"
      }
    },
    {
      "cell_type": "code",
      "source": [
        "# Criando uma variável para armazenar um número inteiro\n",
        "numero = 42\n",
        "\n",
        "# Utilizando métodos específicos para números inteiros\n",
        "print(type(numero))  # Saída: <class 'int'>\n",
        "print(numero.bit_length())  # Saída: 6\n",
        "print(numero.to_bytes(2, byteorder='big'))  # Saída: b'\\x00*'"
      ],
      "metadata": {
        "colab": {
          "base_uri": "https://localhost:8080/"
        },
        "id": "R2ce0ipe1FTk",
        "outputId": "1dfb44c2-ba4d-4490-ebed-9a571acd62e7"
      },
      "execution_count": null,
      "outputs": [
        {
          "output_type": "stream",
          "name": "stdout",
          "text": [
            "<class 'int'>\n",
            "6\n",
            "b'\\x00*'\n"
          ]
        }
      ]
    },
    {
      "cell_type": "markdown",
      "source": [
        "### Str"
      ],
      "metadata": {
        "id": "6nyPlz2uGeS9"
      }
    },
    {
      "cell_type": "code",
      "source": [
        "# Criando uma variável para armazenar uma string\n",
        "frase = \"Olá, mundo!\"\n",
        "\n",
        "print(type(frase))  # Saída: <class 'str'>\n",
        "\n",
        "## len(): Retorna o comprimento da string (número de caracteres).\n",
        "print(len(frase))  # Saída: 11\n",
        "\n",
        "## lower(): Converte todos os caracteres para minúsculas.\n",
        "print(frase.lower())  # Saída: \"olá, mundo!\"\n",
        "\n",
        "## upper(): Converte todos os caracteres para maiúsculas.\n",
        "print(frase.upper())  # Saída: \"OLÁ, MUNDO!\"\n",
        "\n",
        "## strip(): Remove espaços em branco do início e do final da string.\n",
        "print(frase.strip())  # Saída: \"Olá, mundo!\"\n",
        "\n",
        "## replace(): Substitui um caractere ou substring por outro.\n",
        "nova_frase = frase.replace(\"mundo\", \"Python\")\n",
        "print(nova_frase)  # Saída: \"Olá, Python!\"\n",
        "\n",
        "## split(): Divide a string em uma lista de substrings com base em um separador.\n",
        "palavras = frase.split(\", \")\n",
        "print(palavras)  # Saída: ['Olá', 'mundo!']\n",
        "\n",
        "## join(): Concatena elementos de uma lista usando a string como separador.\n",
        "frase = \", \".join(palavras)\n",
        "print(frase)  # Saída: \"Olá, mundo!\"\n",
        "\n",
        "## startswith() e endswith(): Verifica se a string começa ou termina com um determinado prefixo ou sufixo.\n",
        "print(frase.startswith(\"Olá\"))  # Saída: True\n",
        "print(frase.endswith(\"mundo!\"))  # Saída: True\n",
        "\n",
        "## find(): Retorna o índice da primeira ocorrência de uma substring na string (ou -1 se não encontrar).\n",
        "print(frase.find(\"mundo\"))  # Saída: 5\n",
        "\n",
        "## count(): Conta o número de ocorrências de uma substring na string.\n",
        "print(frase.count(\"o\"))  # Saída: 1\n"
      ],
      "metadata": {
        "colab": {
          "base_uri": "https://localhost:8080/"
        },
        "id": "8tA78rK5GZLi",
        "outputId": "a577d23a-73a3-499b-b530-84a9b14a79b6"
      },
      "execution_count": null,
      "outputs": [
        {
          "output_type": "stream",
          "name": "stdout",
          "text": [
            "<class 'str'>\n",
            "11\n",
            "olá, mundo!\n",
            "OLÁ, MUNDO!\n",
            "Olá, mundo!\n",
            "Olá, Python!\n",
            "['Olá', 'mundo!']\n",
            "Olá, mundo!\n",
            "True\n",
            "True\n",
            "5\n",
            "1\n"
          ]
        }
      ]
    },
    {
      "cell_type": "code",
      "source": [],
      "metadata": {
        "id": "BcV5ulcwGtPj"
      },
      "execution_count": null,
      "outputs": []
    }
  ]
}